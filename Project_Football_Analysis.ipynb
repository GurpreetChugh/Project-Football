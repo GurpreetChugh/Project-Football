{
 "cells": [
  {
   "cell_type": "code",
   "execution_count": 1,
   "id": "85b4dfba",
   "metadata": {},
   "outputs": [],
   "source": [
    "# Import Dependencies\n",
    "import pandas as pd\n",
    "import numpy as np\n",
    "import matplotlib.pyplot as plt\n",
    "import scipy.stats as st\n",
    "from scipy.stats import linregress"
   ]
  },
  {
   "cell_type": "code",
   "execution_count": 2,
   "id": "946747e3",
   "metadata": {},
   "outputs": [],
   "source": [
    "# File to Load \n",
    "EPL_sum_table = \"Data/EPL_all_seasons_sum.csv\"\n",
    "EPL_matches_table = \"Data/EPL_all_seasons_matches.csv\"\n",
    "LaLiga_sum_table = \"Data/LaLiga_all_seasons_sum.csv\"\n",
    "LaLiga_matches_table = \"Data/LaLiga_all_seasons_matches.csv\"\n",
    "SerieA_sum_table = \"Data/serie_a_seasons_sum.csv\"\n",
    "SerieA_matches_table = \"Data/serie_a_all_seasons_matches.csv\"\n",
    "Bundes_sum_table = \"Data/Bundes_seasonsdata.csv\"\n",
    "Bundes_matches_table = \"Data/combined_bundesliga_matches.csv\"\n",
    "Ligue1_sum_table = \"Data/Ligue1_all_seasons_sum.csv\"\n",
    "Ligue1_matches_table = \"Data/Ligue1_all_seasons_matches.csv\"\n",
    "UEFA_sum_table = \"Data/uefa_all_seasons_sum.csv\"\n",
    "UEFA_matches_table = \"Data/uefa_all_seasons_matches.csv\"\n",
    "\n",
    "# Read csv files and store into Pandas DataFrames\n",
    "EPL_sum_df = pd.read_csv(EPL_sum_table, index_col=0)\n",
    "EPL_matches_df = pd.read_csv(EPL_matches_table, index_col=0)\n",
    "LaLiga_sum_df = pd.read_csv(LaLiga_sum_table, index_col=0)\n",
    "LaLiga_matches_df = pd.read_csv(LaLiga_matches_table, index_col=0)\n",
    "SerieA_sum_df = pd.read_csv(SerieA_sum_table, index_col=0)\n",
    "SerieA_matches_df = pd.read_csv(SerieA_matches_table, index_col=0)\n",
    "Bundes_sum_df = pd.read_csv(Bundes_sum_table, index_col=0)\n",
    "Bundes_matches_df = pd.read_csv(Bundes_matches_table, index_col=0)\n",
    "Ligue1_sum_df = pd.read_csv(Ligue1_sum_table, index_col=0)\n",
    "Ligue1_matches_df = pd.read_csv(Ligue1_matches_table, index_col=0)\n",
    "UEFA_sum_df = pd.read_csv(UEFA_sum_table, index_col=0)\n",
    "UEFA_matches_df = pd.read_csv(UEFA_matches_table, index_col=0)"
   ]
  },
  {
   "cell_type": "code",
   "execution_count": null,
   "id": "5d293086",
   "metadata": {},
   "outputs": [],
   "source": [
    "# Concatenate summary tables into one dataframe\n",
    "all_leagues_sum_df = pd.concat([EPL_sum_df, LaLiga_sum_df, SerieA_sum_df,\n",
    "                                Bundes_sum_df, Ligue1_sum_df], axis=0).reset_index(drop=True)\n",
    "all_leagues_sum_df.info()"
   ]
  },
  {
   "cell_type": "code",
   "execution_count": null,
   "id": "339d51e2",
   "metadata": {},
   "outputs": [],
   "source": [
    "#all_leagues_sum_df[all_leagues_sum_df['L'].isna()]\n",
    "test_df = all_leagues_sum_df.dropna(how='all',thresh=6)\n",
    "test_df.info()\n",
    "#all_leagues_sum_cleaned_df = all_leagues_sum_df['MP'] - all_leagues_sum_df['W'] - all_leagues_sum_df['D']"
   ]
  },
  {
   "cell_type": "code",
   "execution_count": 3,
   "id": "eeb06503",
   "metadata": {},
   "outputs": [
    {
     "data": {
      "text/html": [
       "<div>\n",
       "<style scoped>\n",
       "    .dataframe tbody tr th:only-of-type {\n",
       "        vertical-align: middle;\n",
       "    }\n",
       "\n",
       "    .dataframe tbody tr th {\n",
       "        vertical-align: top;\n",
       "    }\n",
       "\n",
       "    .dataframe thead th {\n",
       "        text-align: right;\n",
       "    }\n",
       "</style>\n",
       "<table border=\"1\" class=\"dataframe\">\n",
       "  <thead>\n",
       "    <tr style=\"text-align: right;\">\n",
       "      <th></th>\n",
       "      <th>Season</th>\n",
       "      <th>Wk</th>\n",
       "      <th>Date</th>\n",
       "      <th>Time</th>\n",
       "      <th>Home</th>\n",
       "      <th>Away</th>\n",
       "      <th>Home Score</th>\n",
       "      <th>Away Score</th>\n",
       "      <th>xG Home</th>\n",
       "      <th>xG Away</th>\n",
       "      <th>Attendance</th>\n",
       "      <th>Venue</th>\n",
       "      <th>Referee</th>\n",
       "      <th>xG Diff</th>\n",
       "      <th>Actual Diff</th>\n",
       "      <th>League</th>\n",
       "      <th>Round</th>\n",
       "    </tr>\n",
       "  </thead>\n",
       "  <tbody>\n",
       "    <tr>\n",
       "      <th>9762</th>\n",
       "      <td>2021-2022</td>\n",
       "      <td>NaN</td>\n",
       "      <td>2022-04-26</td>\n",
       "      <td>20:00</td>\n",
       "      <td>Manchester City</td>\n",
       "      <td>Real Madrid</td>\n",
       "      <td>4.0</td>\n",
       "      <td>3.0</td>\n",
       "      <td>2.7</td>\n",
       "      <td>1.6</td>\n",
       "      <td>52217.0</td>\n",
       "      <td>Etihad Stadium</td>\n",
       "      <td>István Kovács</td>\n",
       "      <td>1.1</td>\n",
       "      <td>1.0</td>\n",
       "      <td>UEFA</td>\n",
       "      <td>Semi-finals</td>\n",
       "    </tr>\n",
       "    <tr>\n",
       "      <th>9763</th>\n",
       "      <td>2021-2022</td>\n",
       "      <td>NaN</td>\n",
       "      <td>2022-04-27</td>\n",
       "      <td>20:00</td>\n",
       "      <td>Liverpool</td>\n",
       "      <td>Villarreal</td>\n",
       "      <td>2.0</td>\n",
       "      <td>0.0</td>\n",
       "      <td>1.6</td>\n",
       "      <td>0.1</td>\n",
       "      <td>51586.0</td>\n",
       "      <td>Anfield</td>\n",
       "      <td>Szymon Marciniak</td>\n",
       "      <td>1.5</td>\n",
       "      <td>2.0</td>\n",
       "      <td>UEFA</td>\n",
       "      <td>Semi-finals</td>\n",
       "    </tr>\n",
       "    <tr>\n",
       "      <th>9764</th>\n",
       "      <td>2021-2022</td>\n",
       "      <td>NaN</td>\n",
       "      <td>2022-05-03</td>\n",
       "      <td>21:00</td>\n",
       "      <td>Villarreal</td>\n",
       "      <td>Liverpool</td>\n",
       "      <td>2.0</td>\n",
       "      <td>3.0</td>\n",
       "      <td>1.2</td>\n",
       "      <td>2.5</td>\n",
       "      <td>23665.0</td>\n",
       "      <td>Estadio de la Cerámica</td>\n",
       "      <td>Danny Makkelie</td>\n",
       "      <td>-1.3</td>\n",
       "      <td>-1.0</td>\n",
       "      <td>UEFA</td>\n",
       "      <td>Semi-finals</td>\n",
       "    </tr>\n",
       "    <tr>\n",
       "      <th>9765</th>\n",
       "      <td>2021-2022</td>\n",
       "      <td>NaN</td>\n",
       "      <td>2022-05-04</td>\n",
       "      <td>21:00</td>\n",
       "      <td>Real Madrid</td>\n",
       "      <td>Manchester City</td>\n",
       "      <td>3.0</td>\n",
       "      <td>1.0</td>\n",
       "      <td>2.3</td>\n",
       "      <td>1.4</td>\n",
       "      <td>61416.0</td>\n",
       "      <td>Estadio Santiago Bernabéu</td>\n",
       "      <td>Daniele Orsato</td>\n",
       "      <td>0.9</td>\n",
       "      <td>2.0</td>\n",
       "      <td>UEFA</td>\n",
       "      <td>Semi-finals</td>\n",
       "    </tr>\n",
       "    <tr>\n",
       "      <th>9766</th>\n",
       "      <td>2021-2022</td>\n",
       "      <td>NaN</td>\n",
       "      <td>2022-05-28</td>\n",
       "      <td>21:30</td>\n",
       "      <td>Liverpool</td>\n",
       "      <td>Real Madrid</td>\n",
       "      <td>0.0</td>\n",
       "      <td>1.0</td>\n",
       "      <td>2.2</td>\n",
       "      <td>0.9</td>\n",
       "      <td>75000.0</td>\n",
       "      <td>Stade de France (Neutral Site)</td>\n",
       "      <td>Clément Turpin</td>\n",
       "      <td>1.3</td>\n",
       "      <td>-1.0</td>\n",
       "      <td>UEFA</td>\n",
       "      <td>Final</td>\n",
       "    </tr>\n",
       "  </tbody>\n",
       "</table>\n",
       "</div>"
      ],
      "text/plain": [
       "         Season  Wk        Date   Time             Home             Away  \\\n",
       "9762  2021-2022 NaN  2022-04-26  20:00  Manchester City      Real Madrid   \n",
       "9763  2021-2022 NaN  2022-04-27  20:00        Liverpool       Villarreal   \n",
       "9764  2021-2022 NaN  2022-05-03  21:00       Villarreal        Liverpool   \n",
       "9765  2021-2022 NaN  2022-05-04  21:00      Real Madrid  Manchester City   \n",
       "9766  2021-2022 NaN  2022-05-28  21:30        Liverpool      Real Madrid   \n",
       "\n",
       "     Home Score Away Score  xG Home  xG Away  Attendance  \\\n",
       "9762        4.0        3.0      2.7      1.6     52217.0   \n",
       "9763        2.0        0.0      1.6      0.1     51586.0   \n",
       "9764        2.0        3.0      1.2      2.5     23665.0   \n",
       "9765        3.0        1.0      2.3      1.4     61416.0   \n",
       "9766        0.0        1.0      2.2      0.9     75000.0   \n",
       "\n",
       "                               Venue           Referee  xG Diff  Actual Diff  \\\n",
       "9762                  Etihad Stadium     István Kovács      1.1          1.0   \n",
       "9763                         Anfield  Szymon Marciniak      1.5          2.0   \n",
       "9764          Estadio de la Cerámica    Danny Makkelie     -1.3         -1.0   \n",
       "9765       Estadio Santiago Bernabéu    Daniele Orsato      0.9          2.0   \n",
       "9766  Stade de France (Neutral Site)    Clément Turpin      1.3         -1.0   \n",
       "\n",
       "     League        Round  \n",
       "9762   UEFA  Semi-finals  \n",
       "9763   UEFA  Semi-finals  \n",
       "9764   UEFA  Semi-finals  \n",
       "9765   UEFA  Semi-finals  \n",
       "9766   UEFA        Final  "
      ]
     },
     "execution_count": 3,
     "metadata": {},
     "output_type": "execute_result"
    }
   ],
   "source": [
    "# Concatenate matches into one dataframe\n",
    "all_leagues_matches_df = pd.concat([EPL_matches_df, LaLiga_matches_df, SerieA_matches_df,\n",
    "                                Bundes_matches_df, Ligue1_matches_df, UEFA_matches_df], axis=0).reset_index(drop=True)\n",
    "all_leagues_matches_df.tail()"
   ]
  },
  {
   "cell_type": "code",
   "execution_count": 4,
   "id": "e31001a0",
   "metadata": {},
   "outputs": [
    {
     "name": "stdout",
     "output_type": "stream",
     "text": [
      "<class 'pandas.core.frame.DataFrame'>\n",
      "Int64Index: 9666 entries, 0 to 9766\n",
      "Data columns (total 17 columns):\n",
      " #   Column       Non-Null Count  Dtype  \n",
      "---  ------       --------------  -----  \n",
      " 0   Season       9666 non-null   object \n",
      " 1   Wk           9509 non-null   float64\n",
      " 2   Date         9666 non-null   object \n",
      " 3   Time         9666 non-null   object \n",
      " 4   Home         9666 non-null   object \n",
      " 5   Away         9666 non-null   object \n",
      " 6   Home Score   9666 non-null   object \n",
      " 7   Away Score   9666 non-null   object \n",
      " 8   xG Home      9646 non-null   float64\n",
      " 9   xG Away      9646 non-null   float64\n",
      " 10  Attendance   7383 non-null   float64\n",
      " 11  Venue        9666 non-null   object \n",
      " 12  Referee      9648 non-null   object \n",
      " 13  xG Diff      9646 non-null   float64\n",
      " 14  Actual Diff  9666 non-null   float64\n",
      " 15  League       7766 non-null   object \n",
      " 16  Round        619 non-null    object \n",
      "dtypes: float64(6), object(11)\n",
      "memory usage: 1.3+ MB\n"
     ]
    }
   ],
   "source": [
    "rows_to_remove = all_leagues_matches_df[all_leagues_matches_df['Home Score'].isna()].index\n",
    "rows_to_remove\n",
    "all_leagues_matches_cleaned_df = all_leagues_matches_df.drop(rows_to_remove, axis=0)\n",
    "all_leagues_matches_cleaned_df.info()"
   ]
  },
  {
   "cell_type": "code",
   "execution_count": 5,
   "id": "c8ae9574",
   "metadata": {},
   "outputs": [
    {
     "name": "stdout",
     "output_type": "stream",
     "text": [
      "<class 'pandas.core.frame.DataFrame'>\n",
      "Int64Index: 7383 entries, 0 to 9766\n",
      "Data columns (total 17 columns):\n",
      " #   Column       Non-Null Count  Dtype  \n",
      "---  ------       --------------  -----  \n",
      " 0   Season       7383 non-null   object \n",
      " 1   Wk           7274 non-null   float64\n",
      " 2   Date         7383 non-null   object \n",
      " 3   Time         7383 non-null   object \n",
      " 4   Home         7383 non-null   object \n",
      " 5   Away         7383 non-null   object \n",
      " 6   Home Score   7383 non-null   object \n",
      " 7   Away Score   7383 non-null   object \n",
      " 8   xG Home      7372 non-null   float64\n",
      " 9   xG Away      7372 non-null   float64\n",
      " 10  Attendance   7383 non-null   float64\n",
      " 11  Venue        7383 non-null   object \n",
      " 12  Referee      7372 non-null   object \n",
      " 13  xG Diff      7372 non-null   float64\n",
      " 14  Actual Diff  7383 non-null   float64\n",
      " 15  League       5971 non-null   object \n",
      " 16  Round        503 non-null    object \n",
      "dtypes: float64(6), object(11)\n",
      "memory usage: 1.0+ MB\n"
     ]
    }
   ],
   "source": [
    "# Get matches where fans were present\n",
    "attendance_df = all_leagues_matches_cleaned_df.loc[all_leagues_matches_cleaned_df[\"Attendance\"] > 0, :]\n",
    "attendance_df.info()"
   ]
  },
  {
   "cell_type": "code",
   "execution_count": 6,
   "id": "18d1de70",
   "metadata": {},
   "outputs": [
    {
     "data": {
      "text/plain": [
       "3274"
      ]
     },
     "execution_count": 6,
     "metadata": {},
     "output_type": "execute_result"
    }
   ],
   "source": [
    "# Get matches where home team won\n",
    "home_wins_df = attendance_df.loc[attendance_df[\"Home Score\"] > attendance_df[\"Away Score\"], :]\n",
    "len(home_wins_df)"
   ]
  },
  {
   "cell_type": "code",
   "execution_count": 7,
   "id": "3a483b37",
   "metadata": {},
   "outputs": [
    {
     "data": {
      "text/plain": [
       "2267"
      ]
     },
     "execution_count": 7,
     "metadata": {},
     "output_type": "execute_result"
    }
   ],
   "source": [
    "# Get matches where away team won\n",
    "away_wins_df = attendance_df.loc[attendance_df[\"Home Score\"] < attendance_df[\"Away Score\"], :]\n",
    "len(away_wins_df)"
   ]
  },
  {
   "cell_type": "code",
   "execution_count": 8,
   "id": "54ea694d",
   "metadata": {},
   "outputs": [
    {
     "data": {
      "text/plain": [
       "1842"
      ]
     },
     "execution_count": 8,
     "metadata": {},
     "output_type": "execute_result"
    }
   ],
   "source": [
    "# Get matches that ended in a draw\n",
    "draws_df = attendance_df.loc[attendance_df[\"Home Score\"] == attendance_df[\"Away Score\"], :]\n",
    "len(draws_df)"
   ]
  },
  {
   "cell_type": "code",
   "execution_count": 9,
   "id": "7e72c858",
   "metadata": {},
   "outputs": [
    {
     "data": {
      "image/png": "[encoded data removed]",
      "text/plain": [
       "<Figure size 640x480 with 1 Axes>"
      ]
     },
     "metadata": {},
     "output_type": "display_data"
    }
   ],
   "source": [
    "# Calculate % occurance of win/loss/draw\n",
    "home_win_pct = (len(home_wins_df)/len(attendance_df['Home Score']))\n",
    "away_win_pct = (len(away_wins_df)/len(attendance_df['Home Score']))\n",
    "draw_pct = (len(draws_df)/len(attendance_df['Home Score']))\n",
    "\n",
    "# Generate pie chart to display results\n",
    "labels =  ['Home Wins', 'Away Wins', 'Draws']\n",
    "values = home_win_pct, away_win_pct, draw_pct \n",
    "\n",
    "plt.title(\"Top 5 European League Match Outcomes 2018, 2019, 2020, & 2022\")\n",
    "plt.pie(values, labels=labels ,autopct='%1.1f%%')\n",
    "plt.show()"
   ]
  },
  {
   "cell_type": "code",
   "execution_count": 10,
   "id": "9893afe9",
   "metadata": {},
   "outputs": [
    {
     "name": "stdout",
     "output_type": "stream",
     "text": [
      "<class 'pandas.core.frame.DataFrame'>\n",
      "Int64Index: 2283 entries, 1048 to 9736\n",
      "Data columns (total 17 columns):\n",
      " #   Column       Non-Null Count  Dtype  \n",
      "---  ------       --------------  -----  \n",
      " 0   Season       2283 non-null   object \n",
      " 1   Wk           2235 non-null   float64\n",
      " 2   Date         2283 non-null   object \n",
      " 3   Time         2283 non-null   object \n",
      " 4   Home         2283 non-null   object \n",
      " 5   Away         2283 non-null   object \n",
      " 6   Home Score   2283 non-null   object \n",
      " 7   Away Score   2283 non-null   object \n",
      " 8   xG Home      2274 non-null   float64\n",
      " 9   xG Away      2274 non-null   float64\n",
      " 10  Attendance   0 non-null      float64\n",
      " 11  Venue        2283 non-null   object \n",
      " 12  Referee      2276 non-null   object \n",
      " 13  xG Diff      2274 non-null   float64\n",
      " 14  Actual Diff  2283 non-null   float64\n",
      " 15  League       1795 non-null   object \n",
      " 16  Round        116 non-null    object \n",
      "dtypes: float64(6), object(11)\n",
      "memory usage: 321.0+ KB\n"
     ]
    }
   ],
   "source": [
    "# Get matches where attendance was 0 \n",
    "covid_season_df = all_leagues_matches_cleaned_df.loc[all_leagues_matches_cleaned_df[\"Attendance\"].isna()]\n",
    "covid_season_df.info()"
   ]
  },
  {
   "cell_type": "code",
   "execution_count": 11,
   "id": "cdd0563d",
   "metadata": {},
   "outputs": [
    {
     "data": {
      "text/plain": [
       "916"
      ]
     },
     "execution_count": 11,
     "metadata": {},
     "output_type": "execute_result"
    }
   ],
   "source": [
    "# Get matches where home team won during 2020-2021 season\n",
    "home_wins_2_df = covid_season_df.loc[covid_season_df[\"Home Score\"] > covid_season_df[\"Away Score\"], :]\n",
    "len(home_wins_2_df)"
   ]
  },
  {
   "cell_type": "code",
   "execution_count": 12,
   "id": "563c3f87",
   "metadata": {},
   "outputs": [
    {
     "data": {
      "text/plain": [
       "802"
      ]
     },
     "execution_count": 12,
     "metadata": {},
     "output_type": "execute_result"
    }
   ],
   "source": [
    "# Get matches where away team won during 2020-2021 season\n",
    "away_wins_2_df = covid_season_df.loc[covid_season_df[\"Home Score\"] < covid_season_df[\"Away Score\"], :]\n",
    "len(away_wins_2_df)"
   ]
  },
  {
   "cell_type": "code",
   "execution_count": 13,
   "id": "925c88f6",
   "metadata": {},
   "outputs": [
    {
     "data": {
      "text/plain": [
       "565"
      ]
     },
     "execution_count": 13,
     "metadata": {},
     "output_type": "execute_result"
    }
   ],
   "source": [
    "# Get matches where home team won during 2020-2021 season\n",
    "draws_2_df = covid_season_df.loc[covid_season_df[\"Home Score\"] == covid_season_df[\"Away Score\"], :]\n",
    "len(draws_2_df)"
   ]
  },
  {
   "cell_type": "code",
   "execution_count": 14,
   "id": "5373273b",
   "metadata": {},
   "outputs": [
    {
     "data": {
      "image/png": "[encoded data removed]",
      "text/plain": [
       "<Figure size 640x480 with 1 Axes>"
      ]
     },
     "metadata": {},
     "output_type": "display_data"
    }
   ],
   "source": [
    "# Calculate % occurance of win/loss/draw\n",
    "home_win_pct_2 = (len(home_wins_2_df)/len(covid_season_df['Home Score']))\n",
    "away_win_pct_2 = (len(away_wins_2_df)/len(covid_season_df['Home Score']))\n",
    "draw_pct_2 = (len(draws_2_df)/len(covid_season_df['Home Score']))\n",
    "\n",
    "# Generate pie chart to display results\n",
    "labels =  ['Home Wins', 'Away Wins', 'Draws']\n",
    "values = home_win_pct_2, away_win_pct_2, draw_pct_2 \n",
    "\n",
    "plt.title(\"Top 5 European League Match Outcomes Without Fans in Attendance\")\n",
    "plt.pie(values, labels=labels ,autopct='%1.1f%%')\n",
    "plt.show()"
   ]
  },
  {
   "cell_type": "code",
   "execution_count": 15,
   "id": "67108e6a",
   "metadata": {},
   "outputs": [
    {
     "data": {
      "text/plain": [
       "array([1., 0., 2., 3., 4., 5., 6.])"
      ]
     },
     "execution_count": 15,
     "metadata": {},
     "output_type": "execute_result"
    }
   ],
   "source": [
    "# Take absolute value of 'Actual Diff' column\n",
    "EPL_matches_df['Actual Diff'] = EPL_matches_df['Actual Diff'].abs()\n",
    "LaLiga_matches_df['Actual Diff'] = LaLiga_matches_df['Actual Diff'].abs()\n",
    "SerieA_matches_df['Actual Diff'] = SerieA_matches_df['Actual Diff'].abs()\n",
    "Bundes_matches_df['Actual Diff'] = Bundes_matches_df['Actual Diff'].abs()\n",
    "Ligue1_matches_df['Actual Diff'] = Ligue1_matches_df['Actual Diff'].abs()\n",
    "UEFA_matches_df['Actual Diff'] = UEFA_matches_df['Actual Diff'].abs()\n",
    "\n",
    "# Create variable for goal differential values for each league\n",
    "\n",
    "EPL_margins = EPL_matches_df['Actual Diff'].unique()\n",
    "LaLiga_margins = LaLiga_matches_df['Actual Diff'].unique()\n",
    "SerieA_margins = LaLiga_matches_df['Actual Diff'].unique()\n",
    "Bundes_margins = SerieA_matches_df['Actual Diff'].unique()\n",
    "Ligue1_margins = Ligue1_matches_df['Actual Diff'].unique()\n",
    "UEFA_margins = UEFA_matches_df['Actual Diff'].unique()\n",
    "\n",
    "SerieA_margins"
   ]
  },
  {
   "cell_type": "code",
   "execution_count": 49,
   "id": "3b0aafed",
   "metadata": {},
   "outputs": [],
   "source": [
    "# Get summary stats for each league\n",
    "EPL_sum_stats = EPL_matches_df['Actual Diff'].describe()\n",
    "LaLiga_sum_stats = LaLiga_matches_df['Actual Diff'].describe()\n",
    "SerieA_sum_stats = SerieA_matches_df['Actual Diff'].describe()\n",
    "Bundes_sum_stats = Bundes_matches_df['Actual Diff'].describe()\n",
    "Ligue1_sum_stats = Ligue1_matches_df['Actual Diff'].describe()\n",
    "UEFA_sum_stats = UEFA_matches_df['Actual Diff'].describe()\n",
    "\n",
    "EPL_sum_stats_df = pd.DataFrame(EPL_sum_stats)\n",
    "LaLiga_sum_stats_df = pd.DataFrame(LaLiga_sum_stats)\n",
    "SerieA_sum_stats_df = pd.DataFrame(SerieA_sum_stats)\n",
    "Bundes_sum_stats_df = pd.DataFrame(Bundes_sum_stats)\n",
    "Ligue1_sum_stats_df = pd.DataFrame(Ligue1_sum_stats)\n",
    "UEFA_sum_stats_df = pd.DataFrame(UEFA_sum_stats)\n"
   ]
  },
  {
   "cell_type": "code",
   "execution_count": null,
   "id": "31c416a1",
   "metadata": {},
   "outputs": [],
   "source": [
    "\n"
   ]
  },
  {
   "cell_type": "code",
   "execution_count": 16,
   "id": "f25e2522",
   "metadata": {},
   "outputs": [
    {
     "name": "stdout",
     "output_type": "stream",
     "text": [
      "3.5\n",
      "-0.5\n"
     ]
    }
   ],
   "source": [
    "# Calculate quartiles & U/L bounds for potential outliers\n",
    "EPL_quartiles = EPL_matches_df['Actual Diff'].quantile([0.25,0.5,0.75])\n",
    "EPL_Q1 = EPL_quartiles[0.25]\n",
    "EPL_Q3 = EPL_quartiles[0.75]\n",
    "EPL_IQR = EPL_Q3-EPL_Q1\n",
    "\n",
    "EPL_upper_bound = EPL_Q3 + (EPL_IQR*1.5)\n",
    "EPL_lower_bound = EPL_Q1 - (EPL_IQR*1.5)\n",
    "\n",
    "print(EPL_upper_bound)\n",
    "print(EPL_lower_bound)\n",
    "\n"
   ]
  },
  {
   "cell_type": "code",
   "execution_count": 37,
   "id": "8b754cf1",
   "metadata": {},
   "outputs": [
    {
     "data": {
      "text/plain": [
       "137"
      ]
     },
     "execution_count": 37,
     "metadata": {},
     "output_type": "execute_result"
    }
   ],
   "source": [
    "# Get matches where final score is considered an outlier\n",
    "EPL_outliers = EPL_matches_df.loc[(EPL_matches_df['Actual Diff'] < EPL_lower_bound) | \n",
    "                                     (EPL_matches_df['Actual Diff'] > EPL_upper_bound), :]\n",
    "\n",
    "len(EPL_outliers)"
   ]
  },
  {
   "cell_type": "code",
   "execution_count": 21,
   "id": "768edb88",
   "metadata": {},
   "outputs": [
    {
     "name": "stdout",
     "output_type": "stream",
     "text": [
      "5.0\n",
      "-3.0\n"
     ]
    }
   ],
   "source": [
    "# Calculate quartiles & U/L bounds for potential outliers\n",
    "LaLiga_quartiles = LaLiga_matches_df['Actual Diff'].quantile([0.25,0.5,0.75])\n",
    "LaLiga_Q1 = LaLiga_quartiles[0.25]\n",
    "LaLiga_Q3 = LaLiga_quartiles[0.75]\n",
    "LaLiga_IQR = LaLiga_Q3-LaLiga_Q1\n",
    "\n",
    "LaLiga_upper_bound = LaLiga_Q3 + (LaLiga_IQR*1.5)\n",
    "LaLiga_lower_bound = LaLiga_Q1 - (LaLiga_IQR*1.5)\n",
    "\n",
    "print(LaLiga_upper_bound)\n",
    "print(LaLiga_lower_bound)"
   ]
  },
  {
   "cell_type": "code",
   "execution_count": 38,
   "id": "30e57997",
   "metadata": {},
   "outputs": [
    {
     "data": {
      "text/plain": [
       "6"
      ]
     },
     "execution_count": 38,
     "metadata": {},
     "output_type": "execute_result"
    }
   ],
   "source": [
    "# Get matches where final score is considered an outlier\n",
    "LaLiga_outliers = LaLiga_matches_df.loc[(LaLiga_matches_df['Actual Diff'] < LaLiga_lower_bound) | \n",
    "                                     (LaLiga_matches_df['Actual Diff'] > LaLiga_upper_bound), :]\n",
    "\n",
    "len(LaLiga_outliers)"
   ]
  },
  {
   "cell_type": "code",
   "execution_count": 23,
   "id": "94ff6118",
   "metadata": {},
   "outputs": [
    {
     "name": "stdout",
     "output_type": "stream",
     "text": [
      "3.5\n",
      "-0.5\n"
     ]
    }
   ],
   "source": [
    "# Calculate quartiles & U/L bounds for potential outliers\n",
    "SerieA_quartiles = SerieA_matches_df['Actual Diff'].quantile([0.25,0.5,0.75])\n",
    "SerieA_Q1 = SerieA_quartiles[0.25]\n",
    "SerieA_Q3 = SerieA_quartiles[0.75]\n",
    "SerieA_IQR = SerieA_Q3-SerieA_Q1\n",
    "\n",
    "SerieA_upper_bound = SerieA_Q3 + (SerieA_IQR*1.5)\n",
    "SerieA_lower_bound = SerieA_Q1 - (SerieA_IQR*1.5)\n",
    "\n",
    "print(SerieA_upper_bound)\n",
    "print(SerieA_lower_bound)"
   ]
  },
  {
   "cell_type": "code",
   "execution_count": 39,
   "id": "bfed233b",
   "metadata": {},
   "outputs": [
    {
     "data": {
      "text/plain": [
       "112"
      ]
     },
     "execution_count": 39,
     "metadata": {},
     "output_type": "execute_result"
    }
   ],
   "source": [
    "# Get matches where final score is considered an outlier\n",
    "SerieA_outliers = SerieA_matches_df.loc[(SerieA_matches_df['Actual Diff'] < SerieA_lower_bound) | \n",
    "                                     (SerieA_matches_df['Actual Diff'] > SerieA_upper_bound), :]\n",
    "\n",
    "len(SerieA_outliers)"
   ]
  },
  {
   "cell_type": "code",
   "execution_count": 25,
   "id": "f7f9db6d",
   "metadata": {},
   "outputs": [
    {
     "name": "stdout",
     "output_type": "stream",
     "text": [
      "3.5\n",
      "-0.5\n"
     ]
    }
   ],
   "source": [
    "# Calculate quartiles & U/L bounds for potential outliers\n",
    "Bundes_quartiles = Bundes_matches_df['Actual Diff'].quantile([0.25,0.5,0.75])\n",
    "Bundes_Q1 = Bundes_quartiles[0.25]\n",
    "Bundes_Q3 = Bundes_quartiles[0.75]\n",
    "Bundes_IQR = Bundes_Q3-SerieA_Q1\n",
    "\n",
    "Bundes_upper_bound = Bundes_Q3 + (Bundes_IQR*1.5)\n",
    "Bundes_lower_bound = Bundes_Q1 - (Bundes_IQR*1.5)\n",
    "\n",
    "print(Bundes_upper_bound)\n",
    "print(Bundes_lower_bound)"
   ]
  },
  {
   "cell_type": "code",
   "execution_count": 40,
   "id": "3e8d39fd",
   "metadata": {},
   "outputs": [
    {
     "data": {
      "text/plain": [
       "139"
      ]
     },
     "execution_count": 40,
     "metadata": {},
     "output_type": "execute_result"
    }
   ],
   "source": [
    "# Get matches where final score is considered an outlier\n",
    "Bundes_outliers = Bundes_matches_df.loc[(Bundes_matches_df['Actual Diff'] < Bundes_lower_bound) | \n",
    "                                     (Bundes_matches_df['Actual Diff'] > Bundes_upper_bound), :]\n",
    "\n",
    "len(Bundes_outliers)"
   ]
  },
  {
   "cell_type": "code",
   "execution_count": null,
   "id": "8f421f5a",
   "metadata": {},
   "outputs": [],
   "source": [
    "# Calculate quartiles & U/L bounds for potential outliers\n",
    "Ligue1_quartiles = Ligue1_matches_df['Actual Diff'].quantile([0.25,0.5,0.75])\n",
    "Ligue1_Q1 = Ligue1_quartiles[0.25]\n",
    "Ligue1_Q3 = Ligue1_quartiles[0.75]\n",
    "Ligue1_IQR = Ligue1_Q3-Ligue1_Q1\n",
    "\n",
    "Ligue1_upper_bound = Ligue1_Q3 + (Ligue1_IQR*1.5)\n",
    "Ligue1_lower_bound = Ligue1_Q1 - (Ligue1_IQR*1.5)\n",
    "\n",
    "print(Ligue1_upper_bound)\n",
    "print(Ligue1_lower_bound)"
   ]
  },
  {
   "cell_type": "code",
   "execution_count": null,
   "id": "24650140",
   "metadata": {},
   "outputs": [],
   "source": [
    "# Get matches where final score is considered an outlier\n",
    "Ligue1_outliers = Ligue1_matches_df.loc[(Ligue1_matches_df['Actual Diff'] < lower_bound) | \n",
    "                                     (Ligue1_matches_df['Actual Diff'] > upper_bound), :]\n",
    "\n",
    "len(Ligue1_outliers)"
   ]
  },
  {
   "cell_type": "code",
   "execution_count": 27,
   "id": "6ad310c4",
   "metadata": {},
   "outputs": [
    {
     "name": "stdout",
     "output_type": "stream",
     "text": [
      "3.5\n",
      "-0.5\n"
     ]
    }
   ],
   "source": [
    "# Calculate quartiles & U/L bounds for potential outliers\n",
    "UEFA_quartiles = UEFA_matches_df['Actual Diff'].quantile([0.25,0.5,0.75])\n",
    "UEFA_Q1 = UEFA_quartiles[0.25]\n",
    "UEFA_Q3 = UEFA_quartiles[0.75]\n",
    "UEFA_IQR = UEFA_Q3-UEFA_Q1\n",
    "\n",
    "UEFA_upper_bound = UEFA_Q3 + (UEFA_IQR*1.5)\n",
    "UEFA_lower_bound = UEFA_Q1 - (UEFA_IQR*1.5)\n",
    "\n",
    "print(UEFA_upper_bound)\n",
    "print(UEFA_lower_bound)"
   ]
  },
  {
   "cell_type": "code",
   "execution_count": 41,
   "id": "a352fbbe",
   "metadata": {},
   "outputs": [
    {
     "data": {
      "text/plain": [
       "66"
      ]
     },
     "execution_count": 41,
     "metadata": {},
     "output_type": "execute_result"
    }
   ],
   "source": [
    "# Get matches where final score is considered an outlier\n",
    "UEFA_outliers = UEFA_matches_df.loc[(UEFA_matches_df['Actual Diff'] < UEFA_lower_bound) | \n",
    "                                     (UEFA_matches_df['Actual Diff'] > UEFA_upper_bound), :]\n",
    "\n",
    "len(UEFA_outliers) "
   ]
  },
  {
   "cell_type": "code",
   "execution_count": 42,
   "id": "e56ddb84",
   "metadata": {},
   "outputs": [
    {
     "data": {
      "text/plain": [
       "57"
      ]
     },
     "execution_count": 42,
     "metadata": {},
     "output_type": "execute_result"
    }
   ],
   "source": [
    "# Determine how many UCL outliers occur in knockout stages vs group stages\n",
    "UEFA_outliers_df = pd.DataFrame(UEFA_outliers)\n",
    "UEFA_outliers_group_stages = UEFA_outliers_df.loc[(UEFA_outliers_df['Round'] == 'Group stage')]\n",
    "len(UEFA_outliers_group_stages)                                      "
   ]
  },
  {
   "cell_type": "code",
   "execution_count": 31,
   "id": "43fbd824",
   "metadata": {},
   "outputs": [
    {
     "data": {
      "text/plain": [
       "(0.0, 10.0)"
      ]
     },
     "execution_count": 31,
     "metadata": {},
     "output_type": "execute_result"
    },
    {
     "data": {
      "image/png": "[encoded data removed]",
      "text/plain": [
       "<Figure size 800x600 with 1 Axes>"
      ]
     },
     "metadata": {},
     "output_type": "display_data"
    }
   ],
   "source": [
    "# Generate a box plot showing goal differential in every match over the past 5 years\n",
    "data = [EPL_margins, LaLiga_margins, SerieA_margins, Bundes_margins, Ligue1_margins, UEFA_margins]\n",
    "league= ['EPL', 'LaLiga','SerieA','Bundesliga', 'Ligue1', 'UCL']\n",
    "\n",
    "fig1, ax1 = plt.subplots(figsize=(8, 6))\n",
    "ax1.set_title('Goal Differential by League')\n",
    "ax1.set_ylabel('Margin of Victory')\n",
    "ax1.set_xlabel('League')\n",
    "ax1.boxplot(data, labels=league, widths = 0.4,vert=True)\n",
    "plt.ylim(0, 10)"
   ]
  },
  {
   "cell_type": "code",
   "execution_count": null,
   "id": "750e954f",
   "metadata": {},
   "outputs": [],
   "source": [
    "sum_df"
   ]
  },
  {
   "cell_type": "code",
   "execution_count": null,
   "id": "312f9e92",
   "metadata": {},
   "outputs": [],
   "source": [
    "# Groupby team name & get mean for all relevant variables\n",
    "squads_grouped = sum_df.groupby(['Squad'])\n",
    "\n",
    "mean_age = squads_grouped['Avg Age'].mean()\n",
    "mean_wages = squads_grouped['Annual Wages ($)'].mean()\n",
    "mean_poss = squads_grouped['Avg Poss'].mean()\n",
    "mean_attendance = squads_grouped['Attendance'].mean()\n",
    "mean_pts = squads_grouped['Pts'].mean()\n",
    "mean_GF = squads_grouped['GF'].mean()\n",
    "mean_GA = squads_grouped['GA'].mean()\n",
    "mean_xG = squads_grouped['xG'].mean()\n",
    "mean_xGA = squads_grouped['xGA'].mean()\n",
    "mean_xGD = squads_grouped['xGD'].mean()\n",
    "mean_GD = squads_grouped['GD'].mean()"
   ]
  },
  {
   "cell_type": "code",
   "execution_count": null,
   "id": "0dfcda57",
   "metadata": {},
   "outputs": [],
   "source": [
    "# Create dict to hold variables\n",
    "mean_EPL_sum ={\n",
    "    \"Age\": mean_age,\n",
    "    \"Possession\": mean_poss,\n",
    "    \"Attendance\": mean_attendance,\n",
    "    \"Points\": mean_pts,\n",
    "    \"Goals For\": mean_GF,\n",
    "    \"Goals Against\": mean_GA,\n",
    "    \"xGoals For\": mean_xG,\n",
    "    \"xGoals Against\": mean_xGA,\n",
    "    \"Goal Differential\": mean_GD,\n",
    "    \"xGoal Differential\": mean_xGD,\n",
    "    \"Avg Wages\": mean_wages}\n",
    "\n",
    "# Create new df from dict\n",
    "mean_EPL_sum_df = pd.DataFrame(mean_EPL_sum)"
   ]
  },
  {
   "cell_type": "code",
   "execution_count": null,
   "id": "875f1f84",
   "metadata": {},
   "outputs": [],
   "source": [
    "# Round values to 2 decimal places & display df\n",
    "mean_EPL_sum_df = mean_EPL_sum_df.round(2)\n",
    "mean_EPL_sum_df"
   ]
  },
  {
   "cell_type": "code",
   "execution_count": null,
   "id": "2e36a10f",
   "metadata": {},
   "outputs": [],
   "source": [
    "# Calculate average dollars spent per point earned for each team\n",
    "dollars_per_point = mean_EPL_sum_df['Avg Wages'] / mean_EPL_sum_df['Points']\n",
    "print(dollars_per_point)"
   ]
  },
  {
   "cell_type": "code",
   "execution_count": null,
   "id": "60f6bfab",
   "metadata": {},
   "outputs": [],
   "source": [
    "# Plot Points vs Wages\n",
    "x_axis = mean_EPL_sum_df[\"Points\"]\n",
    "y_axis = mean_EPL_sum_df[\"Avg Wages\"]\n",
    "colors = np.random.rand(len(mean_EPL_sum_df[\"Points\"]))\n",
    "fig1, ax1 = plt.subplots()\n",
    "plt.title('Points vs Wages')\n",
    "plt.scatter(x_axis, y_axis,c=colors, cmap='viridis')\n",
    "plt.xlabel('Points')\n",
    "plt.ylabel('Wages ($)')"
   ]
  },
  {
   "cell_type": "code",
   "execution_count": null,
   "id": "bc506794",
   "metadata": {},
   "outputs": [],
   "source": [
    "# Plot points vs possession\n",
    "x_axis = mean_EPL_sum_df[\"Points\"]\n",
    "y_axis = mean_EPL_sum_df[\"Possession\"]\n",
    "\n",
    "fig1, ax1 = plt.subplots()\n",
    "plt.title('Points vs Possession')\n",
    "plt.scatter(x_axis, y_axis,color=\"b\")\n",
    "plt.xlabel('Points')\n",
    "plt.ylabel('Possession (%)')\n",
    "plt.xlim(20,105)\n",
    "plt.ylim(20,80)"
   ]
  },
  {
   "cell_type": "code",
   "execution_count": null,
   "id": "af939b9e",
   "metadata": {},
   "outputs": [],
   "source": [
    "# Plot points vs xGoals Scored\n",
    "x_axis = mean_EPL_sum_df[\"Points\"]\n",
    "y_axis = mean_EPL_sum_df[\"xGoals For\"]\n",
    "\n",
    "fig1, ax1 = plt.subplots()\n",
    "plt.title('Points vs xGoals Scored')\n",
    "plt.scatter(x_axis, y_axis,color=\"b\")\n",
    "plt.xlabel('Points')\n",
    "plt.ylabel('xGoals For')\n",
    "plt.xlim(20,105)\n",
    "plt.ylim(20,100)"
   ]
  },
  {
   "cell_type": "code",
   "execution_count": null,
   "id": "aed2b4d7",
   "metadata": {},
   "outputs": [],
   "source": [
    "# Plot points vs actual goals scored\n",
    "x_axis = mean_EPL_sum_df[\"Points\"]\n",
    "y_axis = mean_EPL_sum_df[\"Goals For\"]\n",
    "\n",
    "fig1, ax1 = plt.subplots()\n",
    "plt.title('Points vs Goals Scored')\n",
    "plt.scatter(x_axis, y_axis,color=\"b\")\n",
    "plt.xlabel('Points')\n",
    "plt.ylabel('Goals For')\n",
    "plt.xlim(20,105)\n",
    "plt.ylim(20,100)"
   ]
  },
  {
   "cell_type": "code",
   "execution_count": null,
   "id": "80e872a2",
   "metadata": {},
   "outputs": [],
   "source": [
    "# Plot points vs xGoals Against\n",
    "x_axis = mean_EPL_sum_df[\"Points\"]\n",
    "y_axis = mean_EPL_sum_df[\"xGoals Against\"]\n",
    "\n",
    "fig1, ax1 = plt.subplots()\n",
    "plt.title('Points vs xGoals Against')\n",
    "plt.scatter(x_axis, y_axis,color=\"b\")\n",
    "plt.xlabel('Points')\n",
    "plt.ylabel('xGoals Against')\n",
    "plt.xlim(20,105)\n",
    "plt.ylim(20,100)"
   ]
  },
  {
   "cell_type": "code",
   "execution_count": null,
   "id": "28d360f6",
   "metadata": {},
   "outputs": [],
   "source": [
    "# Plot points vs actual goals against\n",
    "x_axis = mean_EPL_sum_df[\"Points\"]\n",
    "y_axis = mean_EPL_sum_df[\"Goals Against\"]\n",
    "\n",
    "fig1, ax1 = plt.subplots()\n",
    "plt.title('Points vs Goals Against')\n",
    "plt.scatter(x_axis, y_axis,color=\"b\")\n",
    "plt.xlabel('Points')\n",
    "plt.ylabel('Goals Against')\n",
    "plt.xlim(20,105)\n",
    "plt.ylim(20,100)"
   ]
  },
  {
   "cell_type": "code",
   "execution_count": null,
   "id": "729a68c2",
   "metadata": {},
   "outputs": [],
   "source": [
    "# Perform linear regression on each figure\n",
    "(slope, intercept, rvalue, pvalue, stderr)= linregress(mean_EPL_sum_df[\"Points\"], mean_EPL_sum_df[\"Avg Wages\"])\n",
    "regress_values= slope* mean_EPL_sum_df[\"Points\"] + intercept\n",
    "line_eq= f\"y = {round(slope, 2)} x + {round(intercept, 2)}\"\n",
    "\n",
    "plt.scatter(mean_EPL_sum_df[\"Points\"], mean_EPL_sum_df[\"Avg Wages\"],color='b')\n",
    "plt.plot(mean_EPL_sum_df[\"Points\"], regress_values, color='r')\n",
    "plt.annotate(line_eq,(65,36))\n",
    "plt.xlabel(\"Points\")\n",
    "plt.ylabel(\"Wages ($)\")\n",
    "plt.title(\"Points vs Wages\")\n",
    "plt.show()\n",
    "\n",
    "print(f\" r^2 = {round(rvalue**2,2)}\")"
   ]
  },
  {
   "cell_type": "code",
   "execution_count": null,
   "id": "d0f324fc",
   "metadata": {},
   "outputs": [],
   "source": [
    "# Perform linear regression on each figure\n",
    "(slope, intercept, rvalue, pvalue, stderr)= linregress(mean_EPL_sum_df[\"Points\"], mean_EPL_sum_df[\"Possession\"])\n",
    "regress_values= slope* mean_EPL_sum_df[\"Points\"] + intercept\n",
    "line_eq= f\"y = {round(slope, 2)} x + {round(intercept, 2)}\"\n",
    "\n",
    "plt.scatter(mean_EPL_sum_df[\"Points\"], mean_EPL_sum_df[\"Possession\"],color='b')\n",
    "plt.plot(mean_EPL_sum_df[\"Points\"], regress_values, color='r')\n",
    "plt.annotate(line_eq,(65,36))\n",
    "plt.xlabel(\"Points\")\n",
    "plt.ylabel(\"Possession\")\n",
    "plt.title(\"Points vs Possession\")\n",
    "plt.show()\n",
    "\n",
    "print(f\" r^2 = {round(rvalue**2,2)}\")"
   ]
  },
  {
   "cell_type": "code",
   "execution_count": null,
   "id": "db601699",
   "metadata": {},
   "outputs": [],
   "source": [
    "# Perform linear regression on each figure\n",
    "(slope, intercept, rvalue, pvalue, stderr)= linregress(mean_EPL_sum_df[\"Points\"], mean_EPL_sum_df[\"xGoals For\"])\n",
    "regress_values= slope* mean_EPL_sum_df[\"Points\"] + intercept\n",
    "line_eq= f\"y = {round(slope, 2)} x + {round(intercept, 2)}\"\n",
    "\n",
    "plt.scatter(mean_EPL_sum_df[\"Points\"], mean_EPL_sum_df[\"xGoals For\"],color='b')\n",
    "plt.plot(mean_EPL_sum_df[\"Points\"], regress_values, color='r')\n",
    "plt.annotate(line_eq,(65,36))\n",
    "plt.xlabel(\"Points\")\n",
    "plt.ylabel(\"xGoals Scored\")\n",
    "plt.title(\"Points vs XGoals Scored\")\n",
    "plt.show()\n",
    "\n",
    "print(f\" r^2 = {round(rvalue**2,2)}\")"
   ]
  },
  {
   "cell_type": "code",
   "execution_count": null,
   "id": "976b97a0",
   "metadata": {},
   "outputs": [],
   "source": [
    "# Perform linear regression on each figure\n",
    "(slope, intercept, rvalue, pvalue, stderr)= linregress(mean_EPL_sum_df[\"Points\"], mean_EPL_sum_df[\"Goals For\"])\n",
    "regress_values= slope* mean_EPL_sum_df[\"Points\"] + intercept\n",
    "line_eq= f\"y = {round(slope, 2)} x + {round(intercept, 2)}\"\n",
    "\n",
    "plt.scatter(mean_EPL_sum_df[\"Points\"], mean_EPL_sum_df[\"Goals For\"],color='b')\n",
    "plt.plot(mean_EPL_sum_df[\"Points\"], regress_values, color='r')\n",
    "plt.annotate(line_eq,(65,36))\n",
    "plt.xlabel(\"Points\")\n",
    "plt.ylabel(\"Goals Scored\")\n",
    "plt.title(\"Points vs Goals Scored\")\n",
    "plt.show()\n",
    "\n",
    "print(f\" r^2 = {round(rvalue**2,2)}\")"
   ]
  },
  {
   "cell_type": "code",
   "execution_count": null,
   "id": "2db02085",
   "metadata": {},
   "outputs": [],
   "source": [
    "# Perform linear regression on each figure\n",
    "(slope, intercept, rvalue, pvalue, stderr)= linregress(mean_EPL_sum_df[\"Points\"], mean_EPL_sum_df[\"xGoals Against\"])\n",
    "regress_values= slope* mean_EPL_sum_df[\"Points\"] + intercept\n",
    "line_eq= f\"y = {round(slope, 2)} x + {round(intercept, 2)}\"\n",
    "\n",
    "plt.scatter(mean_EPL_sum_df[\"Points\"], mean_EPL_sum_df[\"xGoals Against\"],color='b')\n",
    "plt.plot(mean_EPL_sum_df[\"Points\"], regress_values, color='r')\n",
    "plt.annotate(line_eq,(30,36))\n",
    "plt.xlabel(\"Points\")\n",
    "plt.ylabel(\"xGoals Against\")\n",
    "plt.title(\"Points vs XGoals Against\")\n",
    "plt.show()\n",
    "\n",
    "print(f\" r^2 = {round(rvalue**2,2)}\")"
   ]
  },
  {
   "cell_type": "code",
   "execution_count": null,
   "id": "5bd73ad3",
   "metadata": {},
   "outputs": [],
   "source": [
    "# Perform linear regression on each figure\n",
    "(slope, intercept, rvalue, pvalue, stderr)= linregress(mean_EPL_sum_df[\"Points\"], mean_EPL_sum_df[\"Goals Against\"])\n",
    "regress_values= slope* mean_EPL_sum_df[\"Points\"] + intercept\n",
    "line_eq= f\"y = {round(slope, 2)} x + {round(intercept, 2)}\"\n",
    "\n",
    "plt.scatter(mean_EPL_sum_df[\"Points\"], mean_EPL_sum_df[\"Goals Against\"],color='b')\n",
    "plt.plot(mean_EPL_sum_df[\"Points\"], regress_values, color='r')\n",
    "plt.annotate(line_eq,(30,36))\n",
    "plt.xlabel(\"Points\")\n",
    "plt.ylabel(\"Goals Against\")\n",
    "plt.title(\"Points vs Goals Against\")\n",
    "plt.show()\n",
    "\n",
    "print(f\" r^2 = {round(rvalue**2,2)}\")"
   ]
  },
  {
   "cell_type": "code",
   "execution_count": null,
   "id": "a9d7504c",
   "metadata": {},
   "outputs": [],
   "source": []
  }
 ],
 "metadata": {
  "kernelspec": {
   "display_name": "Python 3 (ipykernel)",
   "language": "python",
   "name": "python3"
  },
  "language_info": {
   "codemirror_mode": {
    "name": "ipython",
    "version": 3
   },
   "file_extension": ".py",
   "mimetype": "text/x-python",
   "name": "python",
   "nbconvert_exporter": "python",
   "pygments_lexer": "ipython3",
   "version": "3.9.13"
  }
 },
 "nbformat": 4,
 "nbformat_minor": 5
}
