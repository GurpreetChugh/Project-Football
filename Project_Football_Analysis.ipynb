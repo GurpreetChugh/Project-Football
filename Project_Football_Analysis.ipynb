{
 "cells": [
  {
   "cell_type": "code",
   "execution_count": 1,
   "id": "85b4dfba",
   "metadata": {},
   "outputs": [],
   "source": [
    "# Import Dependencies\n",
    "import pandas as pd\n",
    "import numpy as np\n",
    "import matplotlib.pyplot as plt\n",
    "import scipy.stats as st\n",
    "from scipy.stats import linregress"
   ]
  },
  {
   "cell_type": "code",
   "execution_count": 2,
   "id": "946747e3",
   "metadata": {},
   "outputs": [],
   "source": [
    "# File to Load \n",
    "EPL_sum_table = \"Data/EPL_all_seasons_sum.csv\"\n",
    "EPL_matches_table = \"Data/EPL_all_seasons_matches.csv\"\n",
    "LaLiga_sum_table = \"Data/LaLiga_all_seasons_sum.csv\"\n",
    "LaLiga_matches_table = \"Data/LaLiga_all_seasons_matches.csv\"\n",
    "SerieA_sum_table = \"Data/serie_a_seasons_sum.csv\"\n",
    "SerieA_matches_table = \"Data/serie_a_all_seasons_matches.csv\"\n",
    "Bundes_sum_table = \"Data/Bundes_seasonsdata.csv\"\n",
    "Bundes_matches_table = \"Data/combined_bundesliga_matches.csv\"\n",
    "Ligue1_sum_table = \"Data/Ligue1_all_seasons_sum.csv\"\n",
    "Ligue1_matches_table = \"Data/Ligue1_all_seasons_matches.csv\"\n",
    "UEFA_sum_table = \"Data/uefa_all_seasons_sum.csv\"\n",
    "UEFA_matches_table = \"Data/uefa_all_seasons_matches.csv\"\n",
    "\n",
    "# Read csv files and store into Pandas DataFrames\n",
    "EPL_sum_df = pd.read_csv(EPL_sum_table, index_col=0)\n",
    "EPL_matches_df = pd.read_csv(EPL_matches_table, index_col=0)\n",
    "LaLiga_sum_df = pd.read_csv(LaLiga_sum_table, index_col=0)\n",
    "LaLiga_matches_df = pd.read_csv(LaLiga_matches_table, index_col=0)\n",
    "SerieA_sum_df = pd.read_csv(SerieA_sum_table, index_col=0)\n",
    "SerieA_matches_df = pd.read_csv(SerieA_matches_table, index_col=0)\n",
    "Bundes_sum_df = pd.read_csv(Bundes_sum_table, index_col=0)\n",
    "Bundes_matches_df = pd.read_csv(Bundes_matches_table, index_col=0)\n",
    "Ligue1_sum_df = pd.read_csv(Ligue1_sum_table, index_col=0)\n",
    "Ligue1_matches_df = pd.read_csv(Ligue1_matches_table, index_col=0)\n",
    "UEFA_sum_df = pd.read_csv(UEFA_sum_table, index_col=0)\n",
    "UEFA_matches_df = pd.read_csv(UEFA_matches_table, index_col=0)"
   ]
  },
  {
   "cell_type": "code",
   "execution_count": null,
   "id": "67d218c7",
   "metadata": {},
   "outputs": [],
   "source": [
    "#Ligue1_matches_df = Ligue1_matches_df.drop(424, axis=0)"
   ]
  },
  {
   "cell_type": "code",
   "execution_count": null,
   "id": "f66851aa",
   "metadata": {},
   "outputs": [],
   "source": [
    "#Ligue1_matches_df = Ligue1_matches_df['Actual Diff'] = Ligue1_matches_df['Home Score'].astype(float) - Ligue1_matches_df['Away Score'].astype(float)\n"
   ]
  },
  {
   "cell_type": "code",
   "execution_count": 23,
   "id": "5d293086",
   "metadata": {},
   "outputs": [
    {
     "name": "stdout",
     "output_type": "stream",
     "text": [
      "<class 'pandas.core.frame.DataFrame'>\n",
      "RangeIndex: 486 entries, 0 to 485\n",
      "Data columns (total 23 columns):\n",
      " #   Column            Non-Null Count  Dtype  \n",
      "---  ------            --------------  -----  \n",
      " 0   Season            486 non-null    object \n",
      " 1   League Rank       474 non-null    float64\n",
      " 2   Squad             486 non-null    object \n",
      " 3   # of Players      474 non-null    float64\n",
      " 4   Avg Age           486 non-null    float64\n",
      " 5   Avg Poss          486 non-null    float64\n",
      " 6   MP                486 non-null    int64  \n",
      " 7   W                 486 non-null    int64  \n",
      " 8   D                 486 non-null    int64  \n",
      " 9   L                 486 non-null    int64  \n",
      " 10  GF                486 non-null    int64  \n",
      " 11  GA                486 non-null    int64  \n",
      " 12  GD                486 non-null    int64  \n",
      " 13  Pts               486 non-null    int64  \n",
      " 14  Pts/MP            486 non-null    float64\n",
      " 15  xG                486 non-null    float64\n",
      " 16  xGA               486 non-null    float64\n",
      " 17  xGD               486 non-null    float64\n",
      " 18  xGD/90            486 non-null    float64\n",
      " 19  Attendance        470 non-null    float64\n",
      " 20  Annual Wages ($)  486 non-null    float64\n",
      " 21  League            486 non-null    object \n",
      " 22  index             188 non-null    float64\n",
      "dtypes: float64(12), int64(8), object(3)\n",
      "memory usage: 87.5+ KB\n"
     ]
    }
   ],
   "source": [
    "# Concatenate summary tables into one dataframe\n",
    "all_leagues_sum_df = pd.concat([EPL_sum_df, LaLiga_sum_df, SerieA_sum_df,\n",
    "                                Bundes_sum_df, Ligue1_sum_df], axis=0).reset_index(drop=True)\n",
    "all_leagues_sum_df.info()"
   ]
  },
  {
   "cell_type": "code",
   "execution_count": null,
   "id": "d2db3723",
   "metadata": {},
   "outputs": [],
   "source": [
    "all_leagues_sum_df.dtypes"
   ]
  },
  {
   "cell_type": "code",
   "execution_count": null,
   "id": "339d51e2",
   "metadata": {},
   "outputs": [],
   "source": [
    "all_leagues_sum_df[all_leagues_sum_df['Pts'].isna()]\n",
    "#test_df = all_leagues_sum_df.dropna(how='all',thresh=6)\n",
    "#test_df.info()\n",
    "#all_leagues_sum_cleaned_df = all_leagues_sum_df['MP'] - all_leagues_sum_df['W'] - all_leagues_sum_df['D']"
   ]
  },
  {
   "cell_type": "code",
   "execution_count": null,
   "id": "c8c27636",
   "metadata": {},
   "outputs": [],
   "source": [
    "all_leagues_sum_df['Annual Wages ($)'].value_counts()"
   ]
  },
  {
   "cell_type": "code",
   "execution_count": null,
   "id": "30c3d7cd",
   "metadata": {},
   "outputs": [],
   "source": [
    "# Remove comma from wages column to allow for conversion to float\n",
    "#all_leagues_sum_df['Annual Wages ($)'] = all_leagues_sum_df['Annual Wages ($)'].astype(str)\n",
    "#all_leagues_sum_df['Annual Wages ($)'] = all_leagues_sum_df['Annual Wages ($)'].map(lambda x: x.replace(',', ''))\n",
    "#all_leagues_sum_df['Annual Wages ($)'] = all_leagues_sum_df['Annual Wages ($)'].astype(float)\n",
    "#all_leagues_sum_df.info()"
   ]
  },
  {
   "cell_type": "code",
   "execution_count": null,
   "id": "e8a34a29",
   "metadata": {},
   "outputs": [],
   "source": [
    "#all_leagues_sum_df['Annual Wages ($)'].value_counts()"
   ]
  },
  {
   "cell_type": "code",
   "execution_count": 4,
   "id": "eeb06503",
   "metadata": {},
   "outputs": [
    {
     "name": "stdout",
     "output_type": "stream",
     "text": [
      "<class 'pandas.core.frame.DataFrame'>\n",
      "RangeIndex: 9766 entries, 0 to 9765\n",
      "Data columns (total 17 columns):\n",
      " #   Column       Non-Null Count  Dtype  \n",
      "---  ------       --------------  -----  \n",
      " 0   Season       9766 non-null   object \n",
      " 1   Wk           9610 non-null   float64\n",
      " 2   Date         9766 non-null   object \n",
      " 3   Time         9693 non-null   object \n",
      " 4   Home         9766 non-null   object \n",
      " 5   Away         9766 non-null   object \n",
      " 6   Home Score   9665 non-null   float64\n",
      " 7   Away Score   9665 non-null   float64\n",
      " 8   xG Home      9646 non-null   float64\n",
      " 9   xG Away      9646 non-null   float64\n",
      " 10  Attendance   7382 non-null   float64\n",
      " 11  Venue        9766 non-null   object \n",
      " 12  Referee      9648 non-null   object \n",
      " 13  xG Diff      9646 non-null   float64\n",
      " 14  Actual Diff  9766 non-null   float64\n",
      " 15  League       9766 non-null   object \n",
      " 16  Round        619 non-null    object \n",
      "dtypes: float64(8), object(9)\n",
      "memory usage: 1.3+ MB\n"
     ]
    }
   ],
   "source": [
    "# Concatenate matches into one dataframe\n",
    "all_leagues_matches_df = pd.concat([EPL_matches_df, LaLiga_matches_df, SerieA_matches_df,\n",
    "                                Bundes_matches_df, Ligue1_matches_df, UEFA_matches_df], axis=0).reset_index(drop=True)\n",
    "all_leagues_matches_df.info()"
   ]
  },
  {
   "cell_type": "code",
   "execution_count": 5,
   "id": "e31001a0",
   "metadata": {},
   "outputs": [
    {
     "name": "stdout",
     "output_type": "stream",
     "text": [
      "<class 'pandas.core.frame.DataFrame'>\n",
      "Int64Index: 9665 entries, 0 to 9765\n",
      "Data columns (total 17 columns):\n",
      " #   Column       Non-Null Count  Dtype  \n",
      "---  ------       --------------  -----  \n",
      " 0   Season       9665 non-null   object \n",
      " 1   Wk           9509 non-null   float64\n",
      " 2   Date         9665 non-null   object \n",
      " 3   Time         9665 non-null   object \n",
      " 4   Home         9665 non-null   object \n",
      " 5   Away         9665 non-null   object \n",
      " 6   Home Score   9665 non-null   float64\n",
      " 7   Away Score   9665 non-null   float64\n",
      " 8   xG Home      9646 non-null   float64\n",
      " 9   xG Away      9646 non-null   float64\n",
      " 10  Attendance   7382 non-null   float64\n",
      " 11  Venue        9665 non-null   object \n",
      " 12  Referee      9648 non-null   object \n",
      " 13  xG Diff      9646 non-null   float64\n",
      " 14  Actual Diff  9665 non-null   float64\n",
      " 15  League       9665 non-null   object \n",
      " 16  Round        619 non-null    object \n",
      "dtypes: float64(8), object(9)\n",
      "memory usage: 1.3+ MB\n"
     ]
    }
   ],
   "source": [
    "rows_to_remove = all_leagues_matches_df[all_leagues_matches_df['Home Score'].isna()].index\n",
    "rows_to_remove\n",
    "all_leagues_matches_cleaned_df = all_leagues_matches_df.drop(rows_to_remove, axis=0)\n",
    "all_leagues_matches_cleaned_df.info()"
   ]
  },
  {
   "cell_type": "code",
   "execution_count": 6,
   "id": "c8ae9574",
   "metadata": {},
   "outputs": [
    {
     "name": "stdout",
     "output_type": "stream",
     "text": [
      "<class 'pandas.core.frame.DataFrame'>\n",
      "Int64Index: 7382 entries, 0 to 9765\n",
      "Data columns (total 17 columns):\n",
      " #   Column       Non-Null Count  Dtype  \n",
      "---  ------       --------------  -----  \n",
      " 0   Season       7382 non-null   object \n",
      " 1   Wk           7274 non-null   float64\n",
      " 2   Date         7382 non-null   object \n",
      " 3   Time         7382 non-null   object \n",
      " 4   Home         7382 non-null   object \n",
      " 5   Away         7382 non-null   object \n",
      " 6   Home Score   7382 non-null   float64\n",
      " 7   Away Score   7382 non-null   float64\n",
      " 8   xG Home      7372 non-null   float64\n",
      " 9   xG Away      7372 non-null   float64\n",
      " 10  Attendance   7382 non-null   float64\n",
      " 11  Venue        7382 non-null   object \n",
      " 12  Referee      7372 non-null   object \n",
      " 13  xG Diff      7372 non-null   float64\n",
      " 14  Actual Diff  7382 non-null   float64\n",
      " 15  League       7382 non-null   object \n",
      " 16  Round        503 non-null    object \n",
      "dtypes: float64(8), object(9)\n",
      "memory usage: 1.0+ MB\n"
     ]
    }
   ],
   "source": [
    "# Get matches where fans were present\n",
    "attendance_df = all_leagues_matches_cleaned_df.loc[all_leagues_matches_cleaned_df[\"Attendance\"] > 0, :]\n",
    "attendance_df.info()"
   ]
  },
  {
   "cell_type": "code",
   "execution_count": 7,
   "id": "18d1de70",
   "metadata": {},
   "outputs": [
    {
     "data": {
      "text/plain": [
       "3274"
      ]
     },
     "execution_count": 7,
     "metadata": {},
     "output_type": "execute_result"
    }
   ],
   "source": [
    "# Get matches where home team won\n",
    "home_wins_df = attendance_df.loc[attendance_df[\"Home Score\"] > attendance_df[\"Away Score\"], :]\n",
    "len(home_wins_df)"
   ]
  },
  {
   "cell_type": "code",
   "execution_count": 8,
   "id": "3a483b37",
   "metadata": {},
   "outputs": [
    {
     "data": {
      "text/plain": [
       "2266"
      ]
     },
     "execution_count": 8,
     "metadata": {},
     "output_type": "execute_result"
    }
   ],
   "source": [
    "# Get matches where away team won\n",
    "away_wins_df = attendance_df.loc[attendance_df[\"Home Score\"] < attendance_df[\"Away Score\"], :]\n",
    "len(away_wins_df)"
   ]
  },
  {
   "cell_type": "code",
   "execution_count": 9,
   "id": "54ea694d",
   "metadata": {},
   "outputs": [
    {
     "data": {
      "text/plain": [
       "1842"
      ]
     },
     "execution_count": 9,
     "metadata": {},
     "output_type": "execute_result"
    }
   ],
   "source": [
    "# Get matches that ended in a draw\n",
    "draws_df = attendance_df.loc[attendance_df[\"Home Score\"] == attendance_df[\"Away Score\"], :]\n",
    "len(draws_df)"
   ]
  },
  {
   "cell_type": "code",
   "execution_count": 10,
   "id": "7e72c858",
   "metadata": {},
   "outputs": [
    {
     "data": {
      "image/png": "[encoded data removed]",
      "text/plain": [
       "<Figure size 640x480 with 1 Axes>"
      ]
     },
     "metadata": {},
     "output_type": "display_data"
    }
   ],
   "source": [
    "# Calculate % occurance of win/loss/draw\n",
    "home_win_pct = (len(home_wins_df)/len(attendance_df['Home Score']))\n",
    "away_win_pct = (len(away_wins_df)/len(attendance_df['Home Score']))\n",
    "draw_pct = (len(draws_df)/len(attendance_df['Home Score']))\n",
    "\n",
    "# Generate pie chart to display results\n",
    "labels =  ['Home Wins', 'Away Wins', 'Draws']\n",
    "values = home_win_pct, away_win_pct, draw_pct \n",
    "\n",
    "plt.title(\"Top 5 European League Match Outcomes 2018, 2019, 2020, & 2022\")\n",
    "plt.pie(values, labels=labels ,autopct='%1.1f%%')\n",
    "plt.show()"
   ]
  },
  {
   "cell_type": "code",
   "execution_count": 11,
   "id": "9893afe9",
   "metadata": {},
   "outputs": [
    {
     "name": "stdout",
     "output_type": "stream",
     "text": [
      "<class 'pandas.core.frame.DataFrame'>\n",
      "Int64Index: 2283 entries, 1048 to 9735\n",
      "Data columns (total 17 columns):\n",
      " #   Column       Non-Null Count  Dtype  \n",
      "---  ------       --------------  -----  \n",
      " 0   Season       2283 non-null   object \n",
      " 1   Wk           2235 non-null   float64\n",
      " 2   Date         2283 non-null   object \n",
      " 3   Time         2283 non-null   object \n",
      " 4   Home         2283 non-null   object \n",
      " 5   Away         2283 non-null   object \n",
      " 6   Home Score   2283 non-null   float64\n",
      " 7   Away Score   2283 non-null   float64\n",
      " 8   xG Home      2274 non-null   float64\n",
      " 9   xG Away      2274 non-null   float64\n",
      " 10  Attendance   0 non-null      float64\n",
      " 11  Venue        2283 non-null   object \n",
      " 12  Referee      2276 non-null   object \n",
      " 13  xG Diff      2274 non-null   float64\n",
      " 14  Actual Diff  2283 non-null   float64\n",
      " 15  League       2283 non-null   object \n",
      " 16  Round        116 non-null    object \n",
      "dtypes: float64(8), object(9)\n",
      "memory usage: 321.0+ KB\n"
     ]
    }
   ],
   "source": [
    "# Get matches where attendance was 0 \n",
    "covid_season_df = all_leagues_matches_cleaned_df.loc[all_leagues_matches_cleaned_df[\"Attendance\"].isna()]\n",
    "covid_season_df.info()"
   ]
  },
  {
   "cell_type": "code",
   "execution_count": 12,
   "id": "cdd0563d",
   "metadata": {},
   "outputs": [
    {
     "data": {
      "text/plain": [
       "916"
      ]
     },
     "execution_count": 12,
     "metadata": {},
     "output_type": "execute_result"
    }
   ],
   "source": [
    "# Get matches where home team won during 2020-2021 season\n",
    "home_wins_2_df = covid_season_df.loc[covid_season_df[\"Home Score\"] > covid_season_df[\"Away Score\"], :]\n",
    "len(home_wins_2_df)"
   ]
  },
  {
   "cell_type": "code",
   "execution_count": 13,
   "id": "563c3f87",
   "metadata": {},
   "outputs": [
    {
     "data": {
      "text/plain": [
       "802"
      ]
     },
     "execution_count": 13,
     "metadata": {},
     "output_type": "execute_result"
    }
   ],
   "source": [
    "# Get matches where away team won during 2020-2021 season\n",
    "away_wins_2_df = covid_season_df.loc[covid_season_df[\"Home Score\"] < covid_season_df[\"Away Score\"], :]\n",
    "len(away_wins_2_df)"
   ]
  },
  {
   "cell_type": "code",
   "execution_count": 14,
   "id": "925c88f6",
   "metadata": {},
   "outputs": [
    {
     "data": {
      "text/plain": [
       "565"
      ]
     },
     "execution_count": 14,
     "metadata": {},
     "output_type": "execute_result"
    }
   ],
   "source": [
    "# Get matches where home team won during 2020-2021 season\n",
    "draws_2_df = covid_season_df.loc[covid_season_df[\"Home Score\"] == covid_season_df[\"Away Score\"], :]\n",
    "len(draws_2_df)"
   ]
  },
  {
   "cell_type": "code",
   "execution_count": 15,
   "id": "5373273b",
   "metadata": {},
   "outputs": [
    {
     "data": {
      "image/png": "[encoded data removed]",
      "text/plain": [
       "<Figure size 640x480 with 1 Axes>"
      ]
     },
     "metadata": {},
     "output_type": "display_data"
    }
   ],
   "source": [
    "# Calculate % occurance of win/loss/draw\n",
    "home_win_pct_2 = (len(home_wins_2_df)/len(covid_season_df['Home Score']))\n",
    "away_win_pct_2 = (len(away_wins_2_df)/len(covid_season_df['Home Score']))\n",
    "draw_pct_2 = (len(draws_2_df)/len(covid_season_df['Home Score']))\n",
    "\n",
    "# Generate pie chart to display results\n",
    "labels =  ['Home Wins', 'Away Wins', 'Draws']\n",
    "values = home_win_pct_2, away_win_pct_2, draw_pct_2 \n",
    "\n",
    "plt.title(\"Top 5 European League Match Outcomes Without Fans in Attendance\")\n",
    "plt.pie(values, labels=labels ,autopct='%1.1f%%')\n",
    "plt.show()"
   ]
  },
  {
   "cell_type": "code",
   "execution_count": null,
   "id": "67108e6a",
   "metadata": {},
   "outputs": [],
   "source": [
    "# Take absolute value of 'Actual Diff' column\n",
    "EPL_matches_df['Actual Diff'] = EPL_matches_df['Actual Diff'].abs()\n",
    "LaLiga_matches_df['Actual Diff'] = LaLiga_matches_df['Actual Diff'].abs()\n",
    "SerieA_matches_df['Actual Diff'] = SerieA_matches_df['Actual Diff'].abs()\n",
    "Bundes_matches_df['Actual Diff'] = Bundes_matches_df['Actual Diff'].abs()\n",
    "Ligue1_matches_df['Actual Diff'] = Ligue1_matches_df['Actual Diff'].abs()\n",
    "UEFA_matches_df['Actual Diff'] = UEFA_matches_df['Actual Diff'].abs()\n",
    "\n",
    "# Create variable for goal differential values for each league\n",
    "\n",
    "EPL_margins = EPL_matches_df['Actual Diff'].unique()\n",
    "LaLiga_margins = LaLiga_matches_df['Actual Diff'].unique()\n",
    "SerieA_margins = LaLiga_matches_df['Actual Diff'].unique()\n",
    "Bundes_margins = SerieA_matches_df['Actual Diff'].unique()\n",
    "Ligue1_margins = Ligue1_matches_df['Actual Diff'].unique()\n",
    "UEFA_margins = UEFA_matches_df['Actual Diff'].unique()\n",
    "\n",
    "EPL_margins"
   ]
  },
  {
   "cell_type": "code",
   "execution_count": 16,
   "id": "31c416a1",
   "metadata": {},
   "outputs": [
    {
     "name": "stdout",
     "output_type": "stream",
     "text": [
      "<class 'pandas.core.frame.DataFrame'>\n",
      "Int64Index: 9665 entries, 0 to 9765\n",
      "Data columns (total 18 columns):\n",
      " #   Column       Non-Null Count  Dtype  \n",
      "---  ------       --------------  -----  \n",
      " 0   Season       9665 non-null   object \n",
      " 1   Wk           9509 non-null   float64\n",
      " 2   Date         9665 non-null   object \n",
      " 3   Time         9665 non-null   object \n",
      " 4   Home         9665 non-null   object \n",
      " 5   Away         9665 non-null   object \n",
      " 6   Home Score   9665 non-null   float64\n",
      " 7   Away Score   9665 non-null   float64\n",
      " 8   xG Home      9646 non-null   float64\n",
      " 9   xG Away      9646 non-null   float64\n",
      " 10  Attendance   7382 non-null   float64\n",
      " 11  Venue        9665 non-null   object \n",
      " 12  Referee      9648 non-null   object \n",
      " 13  xG Diff      9646 non-null   float64\n",
      " 14  Actual Diff  9665 non-null   float64\n",
      " 15  League       9665 non-null   object \n",
      " 16  Round        619 non-null    object \n",
      " 17  Total Goals  9665 non-null   float64\n",
      "dtypes: float64(9), object(9)\n",
      "memory usage: 1.4+ MB\n"
     ]
    }
   ],
   "source": [
    "all_leagues_matches_cleaned_df['Total Goals'] = all_leagues_matches_cleaned_df['Home Score'].astype(float) + all_leagues_matches_cleaned_df['Away Score'].astype(float)\n",
    "all_leagues_matches_cleaned_df.info()"
   ]
  },
  {
   "cell_type": "code",
   "execution_count": null,
   "id": "051e459a",
   "metadata": {},
   "outputs": [],
   "source": [
    "#all_leagues_matches_cleaned_df[all_leagues_matches_df['League'] == 'Ligue1'].tail()\n"
   ]
  },
  {
   "cell_type": "code",
   "execution_count": null,
   "id": "f25e2522",
   "metadata": {},
   "outputs": [],
   "source": [
    "# Calculate quartiles & U/L bounds for potential outliers\n",
    "EPL_quartiles = EPL_matches_df['Actual Diff'].quantile([0.25,0.5,0.75])\n",
    "EPL_Q1 = EPL_quartiles[0.25]\n",
    "EPL_Q3 = EPL_quartiles[0.75]\n",
    "EPL_IQR = EPL_Q3-EPL_Q1\n",
    "\n",
    "EPL_upper_bound = EPL_Q3 + (EPL_IQR*1.5)\n",
    "EPL_lower_bound = EPL_Q1 - (EPL_IQR*1.5)\n",
    "\n",
    "print(EPL_upper_bound)\n",
    "print(EPL_lower_bound)\n",
    "\n"
   ]
  },
  {
   "cell_type": "code",
   "execution_count": null,
   "id": "8b754cf1",
   "metadata": {},
   "outputs": [],
   "source": [
    "# Get matches where final score is considered an outlier\n",
    "EPL_outliers = EPL_matches_df.loc[(EPL_matches_df['Actual Diff'] < EPL_lower_bound) | \n",
    "                                     (EPL_matches_df['Actual Diff'] > EPL_upper_bound), :]\n",
    "\n",
    "len(EPL_outliers)"
   ]
  },
  {
   "cell_type": "code",
   "execution_count": null,
   "id": "768edb88",
   "metadata": {},
   "outputs": [],
   "source": [
    "# Calculate quartiles & U/L bounds for potential outliers\n",
    "LaLiga_quartiles = LaLiga_matches_df['Actual Diff'].quantile([0.25,0.5,0.75])\n",
    "LaLiga_Q1 = LaLiga_quartiles[0.25]\n",
    "LaLiga_Q3 = LaLiga_quartiles[0.75]\n",
    "LaLiga_IQR = LaLiga_Q3-LaLiga_Q1\n",
    "\n",
    "LaLiga_upper_bound = LaLiga_Q3 + (LaLiga_IQR*1.5)\n",
    "LaLiga_lower_bound = LaLiga_Q1 - (LaLiga_IQR*1.5)\n",
    "\n",
    "print(LaLiga_upper_bound)\n",
    "print(LaLiga_lower_bound)"
   ]
  },
  {
   "cell_type": "code",
   "execution_count": null,
   "id": "30e57997",
   "metadata": {},
   "outputs": [],
   "source": [
    "# Get matches where final score is considered an outlier\n",
    "LaLiga_outliers = LaLiga_matches_df.loc[(LaLiga_matches_df['Actual Diff'] < LaLiga_lower_bound) | \n",
    "                                     (LaLiga_matches_df['Actual Diff'] > LaLiga_upper_bound), :]\n",
    "\n",
    "len(LaLiga_outliers)"
   ]
  },
  {
   "cell_type": "code",
   "execution_count": null,
   "id": "94ff6118",
   "metadata": {},
   "outputs": [],
   "source": [
    "# Calculate quartiles & U/L bounds for potential outliers\n",
    "SerieA_quartiles = SerieA_matches_df['Actual Diff'].quantile([0.25,0.5,0.75])\n",
    "SerieA_Q1 = SerieA_quartiles[0.25]\n",
    "SerieA_Q3 = SerieA_quartiles[0.75]\n",
    "SerieA_IQR = SerieA_Q3-SerieA_Q1\n",
    "\n",
    "SerieA_upper_bound = SerieA_Q3 + (SerieA_IQR*1.5)\n",
    "SerieA_lower_bound = SerieA_Q1 - (SerieA_IQR*1.5)\n",
    "\n",
    "print(SerieA_upper_bound)\n",
    "print(SerieA_lower_bound)"
   ]
  },
  {
   "cell_type": "code",
   "execution_count": null,
   "id": "bfed233b",
   "metadata": {},
   "outputs": [],
   "source": [
    "# Get matches where final score is considered an outlier\n",
    "SerieA_outliers = SerieA_matches_df.loc[(SerieA_matches_df['Actual Diff'] < SerieA_lower_bound) | \n",
    "                                     (SerieA_matches_df['Actual Diff'] > SerieA_upper_bound), :]\n",
    "\n",
    "len(SerieA_outliers)"
   ]
  },
  {
   "cell_type": "code",
   "execution_count": null,
   "id": "f7f9db6d",
   "metadata": {},
   "outputs": [],
   "source": [
    "# Calculate quartiles & U/L bounds for potential outliers\n",
    "Bundes_quartiles = Bundes_matches_df['Actual Diff'].quantile([0.25,0.5,0.75])\n",
    "Bundes_Q1 = Bundes_quartiles[0.25]\n",
    "Bundes_Q3 = Bundes_quartiles[0.75]\n",
    "Bundes_IQR = Bundes_Q3-SerieA_Q1\n",
    "\n",
    "Bundes_upper_bound = Bundes_Q3 + (Bundes_IQR*1.5)\n",
    "Bundes_lower_bound = Bundes_Q1 - (Bundes_IQR*1.5)\n",
    "\n",
    "print(Bundes_upper_bound)\n",
    "print(Bundes_lower_bound)"
   ]
  },
  {
   "cell_type": "code",
   "execution_count": null,
   "id": "3e8d39fd",
   "metadata": {},
   "outputs": [],
   "source": [
    "# Get matches where final score is considered an outlier\n",
    "Bundes_outliers = Bundes_matches_df.loc[(Bundes_matches_df['Actual Diff'] < Bundes_lower_bound) | \n",
    "                                     (Bundes_matches_df['Actual Diff'] > Bundes_upper_bound), :]\n",
    "\n",
    "len(Bundes_outliers)"
   ]
  },
  {
   "cell_type": "code",
   "execution_count": null,
   "id": "8f421f5a",
   "metadata": {},
   "outputs": [],
   "source": [
    "# Calculate quartiles & U/L bounds for potential outliers\n",
    "Ligue1_quartiles = Ligue1_matches_df['Actual Diff'].quantile([0.25,0.5,0.75])\n",
    "Ligue1_Q1 = Ligue1_quartiles[0.25]\n",
    "Ligue1_Q3 = Ligue1_quartiles[0.75]\n",
    "Ligue1_IQR = Ligue1_Q3-Ligue1_Q1\n",
    "\n",
    "Ligue1_upper_bound = Ligue1_Q3 + (Ligue1_IQR*1.5)\n",
    "Ligue1_lower_bound = Ligue1_Q1 - (Ligue1_IQR*1.5)\n",
    "\n",
    "print(Ligue1_upper_bound)\n",
    "print(Ligue1_lower_bound)"
   ]
  },
  {
   "cell_type": "code",
   "execution_count": null,
   "id": "24650140",
   "metadata": {},
   "outputs": [],
   "source": [
    "# Get matches where final score is considered an outlier\n",
    "Ligue1_outliers = Ligue1_matches_df.loc[(Ligue1_matches_df['Actual Diff'] < lower_bound) | \n",
    "                                     (Ligue1_matches_df['Actual Diff'] > upper_bound), :]\n",
    "\n",
    "len(Ligue1_outliers)"
   ]
  },
  {
   "cell_type": "code",
   "execution_count": null,
   "id": "6ad310c4",
   "metadata": {},
   "outputs": [],
   "source": [
    "# Calculate quartiles & U/L bounds for potential outliers\n",
    "UEFA_quartiles = UEFA_matches_df['Actual Diff'].quantile([0.25,0.5,0.75])\n",
    "UEFA_Q1 = UEFA_quartiles[0.25]\n",
    "UEFA_Q3 = UEFA_quartiles[0.75]\n",
    "UEFA_IQR = UEFA_Q3-UEFA_Q1\n",
    "\n",
    "UEFA_upper_bound = UEFA_Q3 + (UEFA_IQR*1.5)\n",
    "UEFA_lower_bound = UEFA_Q1 - (UEFA_IQR*1.5)\n",
    "\n",
    "print(UEFA_upper_bound)\n",
    "print(UEFA_lower_bound)"
   ]
  },
  {
   "cell_type": "code",
   "execution_count": null,
   "id": "a352fbbe",
   "metadata": {},
   "outputs": [],
   "source": [
    "# Get matches where final score is considered an outlier\n",
    "UEFA_outliers = UEFA_matches_df.loc[(UEFA_matches_df['Actual Diff'] < UEFA_lower_bound) | \n",
    "                                     (UEFA_matches_df['Actual Diff'] > UEFA_upper_bound), :]\n",
    "\n",
    "len(UEFA_outliers) "
   ]
  },
  {
   "cell_type": "code",
   "execution_count": null,
   "id": "e56ddb84",
   "metadata": {},
   "outputs": [],
   "source": [
    "# Determine how many UCL outliers occur in knockout stages vs group stages\n",
    "UEFA_outliers_df = pd.DataFrame(UEFA_outliers)\n",
    "UEFA_outliers_group_stages = UEFA_outliers_df.loc[(UEFA_outliers_df['Round'] == 'Group stage')]\n",
    "len(UEFA_outliers_group_stages)                                      "
   ]
  },
  {
   "cell_type": "code",
   "execution_count": null,
   "id": "37db4848",
   "metadata": {},
   "outputs": [],
   "source": [
    "all_leagues_matches_df[all_leagues_matches_df['League'] == 'Ligue1']['Total Goals'].value_counts()"
   ]
  },
  {
   "cell_type": "code",
   "execution_count": 17,
   "id": "43fbd824",
   "metadata": {},
   "outputs": [
    {
     "data": {
      "text/plain": [
       "(-3.0, 15.0)"
      ]
     },
     "execution_count": 17,
     "metadata": {},
     "output_type": "execute_result"
    },
    {
     "data": {
      "image/png": "[encoded data removed]",
      "text/plain": [
       "<Figure size 800x600 with 1 Axes>"
      ]
     },
     "metadata": {},
     "output_type": "display_data"
    }
   ],
   "source": [
    "# Generate a box plot showing goal differential in every match over the past 5 years\n",
    "data = [all_leagues_matches_cleaned_df[all_leagues_matches_cleaned_df['League'] == 'EPL']['Total Goals'],\n",
    "        all_leagues_matches_cleaned_df[all_leagues_matches_cleaned_df['League'] == 'La Liga']['Total Goals'],\n",
    "        all_leagues_matches_cleaned_df[all_leagues_matches_cleaned_df['League'] == 'Serie A']['Total Goals'],\n",
    "        all_leagues_matches_cleaned_df[all_leagues_matches_cleaned_df['League'] == 'Bundesliga']['Total Goals'],\n",
    "        all_leagues_matches_cleaned_df[all_leagues_matches_cleaned_df['League'] == 'Ligue1']['Total Goals'],\n",
    "        all_leagues_matches_cleaned_df[all_leagues_matches_cleaned_df['League'] == 'UEFA']['Total Goals']]\n",
    "\n",
    "league= ['EPL', 'LaLiga','SerieA','Bundesliga', 'Ligue1', 'UCL']\n",
    "\n",
    "fig1, ax1 = plt.subplots(figsize=(8, 6))\n",
    "ax1.set_title('Total Goals per Match by League')\n",
    "ax1.set_ylabel('Total Goals')\n",
    "ax1.set_xlabel('League')\n",
    "ax1.boxplot(data, labels=league, widths = 0.4,vert=True)\n",
    "plt.ylim(-3, 15)"
   ]
  },
  {
   "cell_type": "code",
   "execution_count": null,
   "id": "750e954f",
   "metadata": {},
   "outputs": [],
   "source": []
  },
  {
   "cell_type": "code",
   "execution_count": 24,
   "id": "312f9e92",
   "metadata": {},
   "outputs": [],
   "source": [
    "# Groupby team name & get mean for all relevant variables\n",
    "squads_grouped = all_leagues_sum_df.groupby(['Squad'])\n",
    "\n",
    "mean_age = squads_grouped['Avg Age'].mean()\n",
    "mean_wages = squads_grouped['Annual Wages ($)'].mean()\n",
    "mean_poss = squads_grouped['Avg Poss'].mean()\n",
    "mean_attendance = squads_grouped['Attendance'].mean()\n",
    "mean_pts = squads_grouped['Pts'].mean()\n",
    "mean_GF = squads_grouped['GF'].mean()\n",
    "mean_GA = squads_grouped['GA'].mean()\n",
    "mean_xG = squads_grouped['xG'].mean()\n",
    "mean_xGA = squads_grouped['xGA'].mean()\n",
    "mean_xGD = squads_grouped['xGD'].mean()\n",
    "mean_GD = squads_grouped['GD'].mean()"
   ]
  },
  {
   "cell_type": "code",
   "execution_count": 25,
   "id": "0dfcda57",
   "metadata": {},
   "outputs": [],
   "source": [
    "# Create dict to hold variables\n",
    "mean_sum ={\n",
    "    \"Age\": mean_age,\n",
    "    \"Possession\": mean_poss,\n",
    "    \"Attendance\": mean_attendance,\n",
    "    \"Points\": mean_pts,\n",
    "    \"Goals For\": mean_GF,\n",
    "    \"Goals Against\": mean_GA,\n",
    "    \"xGoals For\": mean_xG,\n",
    "    \"xGoals Against\": mean_xGA,\n",
    "    \"Goal Differential\": mean_GD,\n",
    "    \"xGoal Differential\": mean_xGD,\n",
    "    \"Avg Wages\": mean_wages}\n",
    "\n",
    "# Create new df from dict\n",
    "mean_sum_df = pd.DataFrame(mean_sum)"
   ]
  },
  {
   "cell_type": "code",
   "execution_count": 26,
   "id": "875f1f84",
   "metadata": {},
   "outputs": [
    {
     "data": {
      "text/html": [
       "<div>\n",
       "<style scoped>\n",
       "    .dataframe tbody tr th:only-of-type {\n",
       "        vertical-align: middle;\n",
       "    }\n",
       "\n",
       "    .dataframe tbody tr th {\n",
       "        vertical-align: top;\n",
       "    }\n",
       "\n",
       "    .dataframe thead th {\n",
       "        text-align: right;\n",
       "    }\n",
       "</style>\n",
       "<table border=\"1\" class=\"dataframe\">\n",
       "  <thead>\n",
       "    <tr style=\"text-align: right;\">\n",
       "      <th></th>\n",
       "      <th>Age</th>\n",
       "      <th>Possession</th>\n",
       "      <th>Attendance</th>\n",
       "      <th>Points</th>\n",
       "      <th>Goals For</th>\n",
       "      <th>Goals Against</th>\n",
       "      <th>xGoals For</th>\n",
       "      <th>xGoals Against</th>\n",
       "      <th>Goal Differential</th>\n",
       "      <th>xGoal Differential</th>\n",
       "      <th>Avg Wages</th>\n",
       "    </tr>\n",
       "    <tr>\n",
       "      <th>Squad</th>\n",
       "      <th></th>\n",
       "      <th></th>\n",
       "      <th></th>\n",
       "      <th></th>\n",
       "      <th></th>\n",
       "      <th></th>\n",
       "      <th></th>\n",
       "      <th></th>\n",
       "      <th></th>\n",
       "      <th></th>\n",
       "      <th></th>\n",
       "    </tr>\n",
       "  </thead>\n",
       "  <tbody>\n",
       "    <tr>\n",
       "      <th>Alavés</th>\n",
       "      <td>27.28</td>\n",
       "      <td>41.86</td>\n",
       "      <td>14817.25</td>\n",
       "      <td>41.00</td>\n",
       "      <td>36.00</td>\n",
       "      <td>56.20</td>\n",
       "      <td>39.76</td>\n",
       "      <td>54.76</td>\n",
       "      <td>-20.20</td>\n",
       "      <td>-15.00</td>\n",
       "      <td>2.237093e+07</td>\n",
       "    </tr>\n",
       "    <tr>\n",
       "      <th>Amiens</th>\n",
       "      <td>27.50</td>\n",
       "      <td>43.30</td>\n",
       "      <td>9521.00</td>\n",
       "      <td>45.00</td>\n",
       "      <td>37.00</td>\n",
       "      <td>42.00</td>\n",
       "      <td>32.80</td>\n",
       "      <td>54.90</td>\n",
       "      <td>-5.00</td>\n",
       "      <td>-22.10</td>\n",
       "      <td>1.256564e+07</td>\n",
       "    </tr>\n",
       "    <tr>\n",
       "      <th>Angers</th>\n",
       "      <td>27.10</td>\n",
       "      <td>45.10</td>\n",
       "      <td>11065.00</td>\n",
       "      <td>41.00</td>\n",
       "      <td>42.00</td>\n",
       "      <td>52.00</td>\n",
       "      <td>47.60</td>\n",
       "      <td>45.80</td>\n",
       "      <td>-10.00</td>\n",
       "      <td>1.80</td>\n",
       "      <td>1.032360e+07</td>\n",
       "    </tr>\n",
       "    <tr>\n",
       "      <th>Arminia</th>\n",
       "      <td>25.90</td>\n",
       "      <td>41.50</td>\n",
       "      <td>8547.00</td>\n",
       "      <td>31.50</td>\n",
       "      <td>26.50</td>\n",
       "      <td>52.50</td>\n",
       "      <td>29.60</td>\n",
       "      <td>59.80</td>\n",
       "      <td>-26.00</td>\n",
       "      <td>-30.25</td>\n",
       "      <td>1.030322e+07</td>\n",
       "    </tr>\n",
       "    <tr>\n",
       "      <th>Arsenal</th>\n",
       "      <td>25.92</td>\n",
       "      <td>55.92</td>\n",
       "      <td>45421.60</td>\n",
       "      <td>63.80</td>\n",
       "      <td>63.80</td>\n",
       "      <td>47.40</td>\n",
       "      <td>57.54</td>\n",
       "      <td>49.20</td>\n",
       "      <td>16.40</td>\n",
       "      <td>8.36</td>\n",
       "      <td>1.638060e+08</td>\n",
       "    </tr>\n",
       "    <tr>\n",
       "      <th>...</th>\n",
       "      <td>...</td>\n",
       "      <td>...</td>\n",
       "      <td>...</td>\n",
       "      <td>...</td>\n",
       "      <td>...</td>\n",
       "      <td>...</td>\n",
       "      <td>...</td>\n",
       "      <td>...</td>\n",
       "      <td>...</td>\n",
       "      <td>...</td>\n",
       "      <td>...</td>\n",
       "    </tr>\n",
       "    <tr>\n",
       "      <th>Werder Bremen</th>\n",
       "      <td>26.60</td>\n",
       "      <td>48.05</td>\n",
       "      <td>26765.00</td>\n",
       "      <td>39.25</td>\n",
       "      <td>43.25</td>\n",
       "      <td>53.75</td>\n",
       "      <td>40.25</td>\n",
       "      <td>52.45</td>\n",
       "      <td>-10.50</td>\n",
       "      <td>-12.23</td>\n",
       "      <td>3.435884e+07</td>\n",
       "    </tr>\n",
       "    <tr>\n",
       "      <th>West Brom</th>\n",
       "      <td>27.75</td>\n",
       "      <td>39.30</td>\n",
       "      <td>12401.50</td>\n",
       "      <td>28.50</td>\n",
       "      <td>33.00</td>\n",
       "      <td>66.00</td>\n",
       "      <td>36.15</td>\n",
       "      <td>57.90</td>\n",
       "      <td>-33.00</td>\n",
       "      <td>-21.70</td>\n",
       "      <td>5.841702e+07</td>\n",
       "    </tr>\n",
       "    <tr>\n",
       "      <th>West Ham</th>\n",
       "      <td>27.80</td>\n",
       "      <td>45.80</td>\n",
       "      <td>43675.60</td>\n",
       "      <td>50.80</td>\n",
       "      <td>54.20</td>\n",
       "      <td>56.60</td>\n",
       "      <td>47.94</td>\n",
       "      <td>56.60</td>\n",
       "      <td>-2.40</td>\n",
       "      <td>-8.66</td>\n",
       "      <td>8.940771e+07</td>\n",
       "    </tr>\n",
       "    <tr>\n",
       "      <th>Wolfsburg</th>\n",
       "      <td>25.62</td>\n",
       "      <td>50.52</td>\n",
       "      <td>16273.60</td>\n",
       "      <td>48.00</td>\n",
       "      <td>50.00</td>\n",
       "      <td>47.00</td>\n",
       "      <td>46.26</td>\n",
       "      <td>46.52</td>\n",
       "      <td>3.00</td>\n",
       "      <td>-0.26</td>\n",
       "      <td>6.319995e+07</td>\n",
       "    </tr>\n",
       "    <tr>\n",
       "      <th>Wolves</th>\n",
       "      <td>26.58</td>\n",
       "      <td>48.47</td>\n",
       "      <td>21716.50</td>\n",
       "      <td>53.00</td>\n",
       "      <td>43.00</td>\n",
       "      <td>45.25</td>\n",
       "      <td>45.05</td>\n",
       "      <td>46.62</td>\n",
       "      <td>-2.25</td>\n",
       "      <td>-1.55</td>\n",
       "      <td>6.079168e+07</td>\n",
       "    </tr>\n",
       "  </tbody>\n",
       "</table>\n",
       "<p>128 rows × 11 columns</p>\n",
       "</div>"
      ],
      "text/plain": [
       "                 Age  Possession  Attendance  Points  Goals For  \\\n",
       "Squad                                                             \n",
       "Alavés         27.28       41.86    14817.25   41.00      36.00   \n",
       "Amiens         27.50       43.30     9521.00   45.00      37.00   \n",
       "Angers         27.10       45.10    11065.00   41.00      42.00   \n",
       "Arminia        25.90       41.50     8547.00   31.50      26.50   \n",
       "Arsenal        25.92       55.92    45421.60   63.80      63.80   \n",
       "...              ...         ...         ...     ...        ...   \n",
       "Werder Bremen  26.60       48.05    26765.00   39.25      43.25   \n",
       "West Brom      27.75       39.30    12401.50   28.50      33.00   \n",
       "West Ham       27.80       45.80    43675.60   50.80      54.20   \n",
       "Wolfsburg      25.62       50.52    16273.60   48.00      50.00   \n",
       "Wolves         26.58       48.47    21716.50   53.00      43.00   \n",
       "\n",
       "               Goals Against  xGoals For  xGoals Against  Goal Differential  \\\n",
       "Squad                                                                         \n",
       "Alavés                 56.20       39.76           54.76             -20.20   \n",
       "Amiens                 42.00       32.80           54.90              -5.00   \n",
       "Angers                 52.00       47.60           45.80             -10.00   \n",
       "Arminia                52.50       29.60           59.80             -26.00   \n",
       "Arsenal                47.40       57.54           49.20              16.40   \n",
       "...                      ...         ...             ...                ...   \n",
       "Werder Bremen          53.75       40.25           52.45             -10.50   \n",
       "West Brom              66.00       36.15           57.90             -33.00   \n",
       "West Ham               56.60       47.94           56.60              -2.40   \n",
       "Wolfsburg              47.00       46.26           46.52               3.00   \n",
       "Wolves                 45.25       45.05           46.62              -2.25   \n",
       "\n",
       "               xGoal Differential     Avg Wages  \n",
       "Squad                                            \n",
       "Alavés                     -15.00  2.237093e+07  \n",
       "Amiens                     -22.10  1.256564e+07  \n",
       "Angers                       1.80  1.032360e+07  \n",
       "Arminia                    -30.25  1.030322e+07  \n",
       "Arsenal                      8.36  1.638060e+08  \n",
       "...                           ...           ...  \n",
       "Werder Bremen              -12.23  3.435884e+07  \n",
       "West Brom                  -21.70  5.841702e+07  \n",
       "West Ham                    -8.66  8.940771e+07  \n",
       "Wolfsburg                   -0.26  6.319995e+07  \n",
       "Wolves                      -1.55  6.079168e+07  \n",
       "\n",
       "[128 rows x 11 columns]"
      ]
     },
     "execution_count": 26,
     "metadata": {},
     "output_type": "execute_result"
    }
   ],
   "source": [
    "# Round values to 2 decimal places & display df\n",
    "mean_sum_df = mean_sum_df.round(2)\n",
    "mean_sum_df"
   ]
  },
  {
   "cell_type": "code",
   "execution_count": null,
   "id": "f868cc5e",
   "metadata": {},
   "outputs": [],
   "source": [
    "mean_sum_df['Avg Wages']"
   ]
  },
  {
   "cell_type": "code",
   "execution_count": 30,
   "id": "2e36a10f",
   "metadata": {},
   "outputs": [
    {
     "name": "stdout",
     "output_type": "stream",
     "text": [
      "Squad\n",
      "Alavés            545.632410\n",
      "Amiens            279.236556\n",
      "Angers            251.795171\n",
      "Arminia           327.086333\n",
      "Arsenal          2567.491918\n",
      "                    ...     \n",
      "Werder Bremen     875.384490\n",
      "West Brom        2049.720018\n",
      "West Ham         1759.994327\n",
      "Wolfsburg        1316.665571\n",
      "Wolves           1147.012896\n",
      "Length: 128, dtype: float64\n"
     ]
    }
   ],
   "source": [
    "# Calculate average dollars spent per point earned for each team\n",
    "dollars_per_point = (mean_sum_df['Avg Wages'] / 1000) / mean_sum_df['Points']\n",
    "print(dollars_per_point)"
   ]
  },
  {
   "cell_type": "code",
   "execution_count": 34,
   "id": "60f6bfab",
   "metadata": {},
   "outputs": [
    {
     "data": {
      "text/plain": [
       "Text(0.5, 0, 'Wages in $ Millions')"
      ]
     },
     "execution_count": 34,
     "metadata": {},
     "output_type": "execute_result"
    },
    {
     "data": {
      "image/png": "[encoded data removed]",
      "text/plain": [
       "<Figure size 640x480 with 1 Axes>"
      ]
     },
     "metadata": {},
     "output_type": "display_data"
    }
   ],
   "source": [
    "# Plot Points vs Wages\n",
    "y_axis = mean_sum_df[\"Points\"]\n",
    "x_axis = (mean_sum_df[\"Avg Wages\"] / 1000000)\n",
    "colors = np.random.rand(len(mean_sum_df[\"Points\"]))\n",
    "fig1, ax1 = plt.subplots()\n",
    "plt.title('Points vs Wages')\n",
    "plt.scatter(x_axis, y_axis,c=colors, cmap='viridis')\n",
    "plt.ylabel('Points')\n",
    "plt.xlabel('Wages in $ Millions')"
   ]
  },
  {
   "cell_type": "code",
   "execution_count": 36,
   "id": "bc506794",
   "metadata": {},
   "outputs": [
    {
     "data": {
      "text/plain": [
       "(20.0, 80.0)"
      ]
     },
     "execution_count": 36,
     "metadata": {},
     "output_type": "execute_result"
    },
    {
     "data": {
      "image/png": "[encoded data removed]",
      "text/plain": [
       "<Figure size 640x480 with 1 Axes>"
      ]
     },
     "metadata": {},
     "output_type": "display_data"
    }
   ],
   "source": [
    "# Plot points vs possession\n",
    "y_axis = mean_sum_df[\"Points\"]\n",
    "x_axis = mean_sum_df[\"Possession\"]\n",
    "\n",
    "fig1, ax1 = plt.subplots()\n",
    "plt.title('Points vs Possession')\n",
    "plt.scatter(x_axis, y_axis,color=\"b\")\n",
    "plt.ylabel('Points')\n",
    "plt.xlabel('Possession (%)')\n",
    "plt.ylim(20,105)\n",
    "plt.xlim(20,80)"
   ]
  },
  {
   "cell_type": "code",
   "execution_count": null,
   "id": "af939b9e",
   "metadata": {},
   "outputs": [],
   "source": [
    "# Plot points vs xGoals Scored\n",
    "x_axis = mean_EPL_sum_df[\"Points\"]\n",
    "y_axis = mean_EPL_sum_df[\"xGoals For\"]\n",
    "\n",
    "fig1, ax1 = plt.subplots()\n",
    "plt.title('Points vs xGoals Scored')\n",
    "plt.scatter(x_axis, y_axis,color=\"b\")\n",
    "plt.xlabel('Points')\n",
    "plt.ylabel('xGoals For')\n",
    "plt.xlim(20,105)\n",
    "plt.ylim(20,100)"
   ]
  },
  {
   "cell_type": "code",
   "execution_count": null,
   "id": "aed2b4d7",
   "metadata": {},
   "outputs": [],
   "source": [
    "# Plot points vs actual goals scored\n",
    "x_axis = mean_EPL_sum_df[\"Points\"]\n",
    "y_axis = mean_EPL_sum_df[\"Goals For\"]\n",
    "\n",
    "fig1, ax1 = plt.subplots()\n",
    "plt.title('Points vs Goals Scored')\n",
    "plt.scatter(x_axis, y_axis,color=\"b\")\n",
    "plt.xlabel('Points')\n",
    "plt.ylabel('Goals For')\n",
    "plt.xlim(20,105)\n",
    "plt.ylim(20,100)"
   ]
  },
  {
   "cell_type": "code",
   "execution_count": null,
   "id": "80e872a2",
   "metadata": {},
   "outputs": [],
   "source": [
    "# Plot points vs xGoals Against\n",
    "x_axis = mean_EPL_sum_df[\"Points\"]\n",
    "y_axis = mean_EPL_sum_df[\"xGoals Against\"]\n",
    "\n",
    "fig1, ax1 = plt.subplots()\n",
    "plt.title('Points vs xGoals Against')\n",
    "plt.scatter(x_axis, y_axis,color=\"b\")\n",
    "plt.xlabel('Points')\n",
    "plt.ylabel('xGoals Against')\n",
    "plt.xlim(20,105)\n",
    "plt.ylim(20,100)"
   ]
  },
  {
   "cell_type": "code",
   "execution_count": null,
   "id": "28d360f6",
   "metadata": {},
   "outputs": [],
   "source": [
    "# Plot points vs actual goals against\n",
    "x_axis = mean_EPL_sum_df[\"Points\"]\n",
    "y_axis = mean_EPL_sum_df[\"Goals Against\"]\n",
    "\n",
    "fig1, ax1 = plt.subplots()\n",
    "plt.title('Points vs Goals Against')\n",
    "plt.scatter(x_axis, y_axis,color=\"b\")\n",
    "plt.xlabel('Points')\n",
    "plt.ylabel('Goals Against')\n",
    "plt.xlim(20,105)\n",
    "plt.ylim(20,100)"
   ]
  },
  {
   "cell_type": "code",
   "execution_count": null,
   "id": "729a68c2",
   "metadata": {},
   "outputs": [],
   "source": [
    "# Perform linear regression on each figure\n",
    "(slope, intercept, rvalue, pvalue, stderr)= linregress(mean_EPL_sum_df[\"Points\"], mean_EPL_sum_df[\"Avg Wages\"])\n",
    "regress_values= slope* mean_EPL_sum_df[\"Points\"] + intercept\n",
    "line_eq= f\"y = {round(slope, 2)} x + {round(intercept, 2)}\"\n",
    "\n",
    "plt.scatter(mean_EPL_sum_df[\"Points\"], mean_EPL_sum_df[\"Avg Wages\"],color='b')\n",
    "plt.plot(mean_EPL_sum_df[\"Points\"], regress_values, color='r')\n",
    "plt.annotate(line_eq,(65,36))\n",
    "plt.xlabel(\"Points\")\n",
    "plt.ylabel(\"Wages ($)\")\n",
    "plt.title(\"Points vs Wages\")\n",
    "plt.show()\n",
    "\n",
    "print(f\" r^2 = {round(rvalue**2,2)}\")"
   ]
  },
  {
   "cell_type": "code",
   "execution_count": null,
   "id": "d0f324fc",
   "metadata": {},
   "outputs": [],
   "source": [
    "# Perform linear regression on each figure\n",
    "(slope, intercept, rvalue, pvalue, stderr)= linregress(mean_EPL_sum_df[\"Points\"], mean_EPL_sum_df[\"Possession\"])\n",
    "regress_values= slope* mean_EPL_sum_df[\"Points\"] + intercept\n",
    "line_eq= f\"y = {round(slope, 2)} x + {round(intercept, 2)}\"\n",
    "\n",
    "plt.scatter(mean_EPL_sum_df[\"Points\"], mean_EPL_sum_df[\"Possession\"],color='b')\n",
    "plt.plot(mean_EPL_sum_df[\"Points\"], regress_values, color='r')\n",
    "plt.annotate(line_eq,(65,36))\n",
    "plt.xlabel(\"Points\")\n",
    "plt.ylabel(\"Possession\")\n",
    "plt.title(\"Points vs Possession\")\n",
    "plt.show()\n",
    "\n",
    "print(f\" r^2 = {round(rvalue**2,2)}\")"
   ]
  },
  {
   "cell_type": "code",
   "execution_count": null,
   "id": "db601699",
   "metadata": {},
   "outputs": [],
   "source": [
    "# Perform linear regression on each figure\n",
    "(slope, intercept, rvalue, pvalue, stderr)= linregress(mean_EPL_sum_df[\"Points\"], mean_EPL_sum_df[\"xGoals For\"])\n",
    "regress_values= slope* mean_EPL_sum_df[\"Points\"] + intercept\n",
    "line_eq= f\"y = {round(slope, 2)} x + {round(intercept, 2)}\"\n",
    "\n",
    "plt.scatter(mean_EPL_sum_df[\"Points\"], mean_EPL_sum_df[\"xGoals For\"],color='b')\n",
    "plt.plot(mean_EPL_sum_df[\"Points\"], regress_values, color='r')\n",
    "plt.annotate(line_eq,(65,36))\n",
    "plt.xlabel(\"Points\")\n",
    "plt.ylabel(\"xGoals Scored\")\n",
    "plt.title(\"Points vs XGoals Scored\")\n",
    "plt.show()\n",
    "\n",
    "print(f\" r^2 = {round(rvalue**2,2)}\")"
   ]
  },
  {
   "cell_type": "code",
   "execution_count": null,
   "id": "976b97a0",
   "metadata": {},
   "outputs": [],
   "source": [
    "# Perform linear regression on each figure\n",
    "(slope, intercept, rvalue, pvalue, stderr)= linregress(mean_EPL_sum_df[\"Points\"], mean_EPL_sum_df[\"Goals For\"])\n",
    "regress_values= slope* mean_EPL_sum_df[\"Points\"] + intercept\n",
    "line_eq= f\"y = {round(slope, 2)} x + {round(intercept, 2)}\"\n",
    "\n",
    "plt.scatter(mean_EPL_sum_df[\"Points\"], mean_EPL_sum_df[\"Goals For\"],color='b')\n",
    "plt.plot(mean_EPL_sum_df[\"Points\"], regress_values, color='r')\n",
    "plt.annotate(line_eq,(65,36))\n",
    "plt.xlabel(\"Points\")\n",
    "plt.ylabel(\"Goals Scored\")\n",
    "plt.title(\"Points vs Goals Scored\")\n",
    "plt.show()\n",
    "\n",
    "print(f\" r^2 = {round(rvalue**2,2)}\")"
   ]
  },
  {
   "cell_type": "code",
   "execution_count": null,
   "id": "2db02085",
   "metadata": {},
   "outputs": [],
   "source": [
    "# Perform linear regression on each figure\n",
    "(slope, intercept, rvalue, pvalue, stderr)= linregress(mean_EPL_sum_df[\"Points\"], mean_EPL_sum_df[\"xGoals Against\"])\n",
    "regress_values= slope* mean_EPL_sum_df[\"Points\"] + intercept\n",
    "line_eq= f\"y = {round(slope, 2)} x + {round(intercept, 2)}\"\n",
    "\n",
    "plt.scatter(mean_EPL_sum_df[\"Points\"], mean_EPL_sum_df[\"xGoals Against\"],color='b')\n",
    "plt.plot(mean_EPL_sum_df[\"Points\"], regress_values, color='r')\n",
    "plt.annotate(line_eq,(30,36))\n",
    "plt.xlabel(\"Points\")\n",
    "plt.ylabel(\"xGoals Against\")\n",
    "plt.title(\"Points vs XGoals Against\")\n",
    "plt.show()\n",
    "\n",
    "print(f\" r^2 = {round(rvalue**2,2)}\")"
   ]
  },
  {
   "cell_type": "code",
   "execution_count": null,
   "id": "5bd73ad3",
   "metadata": {},
   "outputs": [],
   "source": [
    "# Perform linear regression on each figure\n",
    "(slope, intercept, rvalue, pvalue, stderr)= linregress(mean_EPL_sum_df[\"Points\"], mean_EPL_sum_df[\"Goals Against\"])\n",
    "regress_values= slope* mean_EPL_sum_df[\"Points\"] + intercept\n",
    "line_eq= f\"y = {round(slope, 2)} x + {round(intercept, 2)}\"\n",
    "\n",
    "plt.scatter(mean_EPL_sum_df[\"Points\"], mean_EPL_sum_df[\"Goals Against\"],color='b')\n",
    "plt.plot(mean_EPL_sum_df[\"Points\"], regress_values, color='r')\n",
    "plt.annotate(line_eq,(30,36))\n",
    "plt.xlabel(\"Points\")\n",
    "plt.ylabel(\"Goals Against\")\n",
    "plt.title(\"Points vs Goals Against\")\n",
    "plt.show()\n",
    "\n",
    "print(f\" r^2 = {round(rvalue**2,2)}\")"
   ]
  },
  {
   "cell_type": "code",
   "execution_count": 37,
   "id": "a9d7504c",
   "metadata": {},
   "outputs": [
    {
     "data": {
      "text/plain": [
       "Index(['Age', 'Possession', 'Attendance', 'Points', 'Goals For',\n",
       "       'Goals Against', 'xGoals For', 'xGoals Against', 'Goal Differential',\n",
       "       'xGoal Differential', 'Avg Wages'],\n",
       "      dtype='object')"
      ]
     },
     "execution_count": 37,
     "metadata": {},
     "output_type": "execute_result"
    }
   ],
   "source": [
    "mean_sum_df.columns"
   ]
  },
  {
   "cell_type": "code",
   "execution_count": 40,
   "id": "3d44cd93",
   "metadata": {},
   "outputs": [],
   "source": [
    "league_grouped = all_leagues_sum_df.groupby(['League'])\n",
    "\n",
    "mean_age = league_grouped['Avg Age'].mean()\n",
    "mean_wages = league_grouped['Annual Wages ($)'].mean()\n",
    "mean_poss = league_grouped['Avg Poss'].mean()\n",
    "mean_attendance = league_grouped['Attendance'].mean()\n",
    "mean_pts = league_grouped['Pts'].mean()\n",
    "mean_GF = league_grouped['GF'].mean()\n",
    "mean_GA = league_grouped['GA'].mean()\n",
    "mean_xG = league_grouped['xG'].mean()\n",
    "mean_xGA = league_grouped['xGA'].mean()\n",
    "mean_xGD = league_grouped['xGD'].mean()\n",
    "mean_GD = league_grouped['GD'].mean()\n"
   ]
  },
  {
   "cell_type": "code",
   "execution_count": 42,
   "id": "bd0bbda6",
   "metadata": {},
   "outputs": [
    {
     "data": {
      "text/html": [
       "<div>\n",
       "<style scoped>\n",
       "    .dataframe tbody tr th:only-of-type {\n",
       "        vertical-align: middle;\n",
       "    }\n",
       "\n",
       "    .dataframe tbody tr th {\n",
       "        vertical-align: top;\n",
       "    }\n",
       "\n",
       "    .dataframe thead th {\n",
       "        text-align: right;\n",
       "    }\n",
       "</style>\n",
       "<table border=\"1\" class=\"dataframe\">\n",
       "  <thead>\n",
       "    <tr style=\"text-align: right;\">\n",
       "      <th></th>\n",
       "      <th>Age</th>\n",
       "      <th>Possession</th>\n",
       "      <th>Attendance</th>\n",
       "      <th>Points</th>\n",
       "      <th>Goals For</th>\n",
       "      <th>Goals Against</th>\n",
       "      <th>xGoals For</th>\n",
       "      <th>xGoals Against</th>\n",
       "      <th>Goal Differential</th>\n",
       "      <th>xGoal Differential</th>\n",
       "      <th>Avg Wages</th>\n",
       "    </tr>\n",
       "    <tr>\n",
       "      <th>League</th>\n",
       "      <th></th>\n",
       "      <th></th>\n",
       "      <th></th>\n",
       "      <th></th>\n",
       "      <th></th>\n",
       "      <th></th>\n",
       "      <th></th>\n",
       "      <th></th>\n",
       "      <th></th>\n",
       "      <th></th>\n",
       "      <th></th>\n",
       "    </tr>\n",
       "  </thead>\n",
       "  <tbody>\n",
       "    <tr>\n",
       "      <th>Bundesliga</th>\n",
       "      <td>25.922727</td>\n",
       "      <td>50.076136</td>\n",
       "      <td>27556.954545</td>\n",
       "      <td>47.181818</td>\n",
       "      <td>52.465909</td>\n",
       "      <td>51.897727</td>\n",
       "      <td>50.180682</td>\n",
       "      <td>49.713636</td>\n",
       "      <td>0.568182</td>\n",
       "      <td>0.473864</td>\n",
       "      <td>4.962603e+07</td>\n",
       "    </tr>\n",
       "    <tr>\n",
       "      <th>EPL</th>\n",
       "      <td>26.720000</td>\n",
       "      <td>50.000000</td>\n",
       "      <td>29258.510000</td>\n",
       "      <td>52.670000</td>\n",
       "      <td>52.190000</td>\n",
       "      <td>52.190000</td>\n",
       "      <td>50.093000</td>\n",
       "      <td>50.096000</td>\n",
       "      <td>0.000000</td>\n",
       "      <td>-0.002000</td>\n",
       "      <td>9.775193e+07</td>\n",
       "    </tr>\n",
       "    <tr>\n",
       "      <th>La Liga</th>\n",
       "      <td>27.181633</td>\n",
       "      <td>50.142857</td>\n",
       "      <td>23651.280488</td>\n",
       "      <td>51.948980</td>\n",
       "      <td>48.795918</td>\n",
       "      <td>48.561224</td>\n",
       "      <td>48.743878</td>\n",
       "      <td>48.662245</td>\n",
       "      <td>0.234694</td>\n",
       "      <td>0.086735</td>\n",
       "      <td>7.034345e+07</td>\n",
       "    </tr>\n",
       "    <tr>\n",
       "      <th>Ligue1</th>\n",
       "      <td>25.995000</td>\n",
       "      <td>49.995000</td>\n",
       "      <td>22398.350000</td>\n",
       "      <td>52.200000</td>\n",
       "      <td>51.650000</td>\n",
       "      <td>51.650000</td>\n",
       "      <td>49.565000</td>\n",
       "      <td>49.575000</td>\n",
       "      <td>0.000000</td>\n",
       "      <td>-0.010000</td>\n",
       "      <td>3.021376e+07</td>\n",
       "    </tr>\n",
       "    <tr>\n",
       "      <th>Serie A</th>\n",
       "      <td>26.943000</td>\n",
       "      <td>49.999000</td>\n",
       "      <td>17102.530000</td>\n",
       "      <td>52.270000</td>\n",
       "      <td>54.420000</td>\n",
       "      <td>54.420000</td>\n",
       "      <td>52.007000</td>\n",
       "      <td>52.011000</td>\n",
       "      <td>0.000000</td>\n",
       "      <td>0.002000</td>\n",
       "      <td>4.363337e+07</td>\n",
       "    </tr>\n",
       "  </tbody>\n",
       "</table>\n",
       "</div>"
      ],
      "text/plain": [
       "                  Age  Possession    Attendance     Points  Goals For  \\\n",
       "League                                                                  \n",
       "Bundesliga  25.922727   50.076136  27556.954545  47.181818  52.465909   \n",
       "EPL         26.720000   50.000000  29258.510000  52.670000  52.190000   \n",
       "La Liga     27.181633   50.142857  23651.280488  51.948980  48.795918   \n",
       "Ligue1      25.995000   49.995000  22398.350000  52.200000  51.650000   \n",
       "Serie A     26.943000   49.999000  17102.530000  52.270000  54.420000   \n",
       "\n",
       "            Goals Against  xGoals For  xGoals Against  Goal Differential  \\\n",
       "League                                                                     \n",
       "Bundesliga      51.897727   50.180682       49.713636           0.568182   \n",
       "EPL             52.190000   50.093000       50.096000           0.000000   \n",
       "La Liga         48.561224   48.743878       48.662245           0.234694   \n",
       "Ligue1          51.650000   49.565000       49.575000           0.000000   \n",
       "Serie A         54.420000   52.007000       52.011000           0.000000   \n",
       "\n",
       "            xGoal Differential     Avg Wages  \n",
       "League                                        \n",
       "Bundesliga            0.473864  4.962603e+07  \n",
       "EPL                  -0.002000  9.775193e+07  \n",
       "La Liga               0.086735  7.034345e+07  \n",
       "Ligue1               -0.010000  3.021376e+07  \n",
       "Serie A               0.002000  4.363337e+07  "
      ]
     },
     "execution_count": 42,
     "metadata": {},
     "output_type": "execute_result"
    }
   ],
   "source": [
    "# Create dict to hold variables\n",
    "league_grouped_sum ={\n",
    "    \"Age\": mean_age,\n",
    "    \"Possession\": mean_poss,\n",
    "    \"Attendance\": mean_attendance,\n",
    "    \"Points\": mean_pts,\n",
    "    \"Goals For\": mean_GF,\n",
    "    \"Goals Against\": mean_GA,\n",
    "    \"xGoals For\": mean_xG,\n",
    "    \"xGoals Against\": mean_xGA,\n",
    "    \"Goal Differential\": mean_GD,\n",
    "    \"xGoal Differential\": mean_xGD,\n",
    "    \"Avg Wages\": mean_wages}\n",
    "\n",
    "# Create new df from dict\n",
    "league_grouped_sum_df = pd.DataFrame(league_grouped_sum)\n",
    "league_grouped_sum_df.head()"
   ]
  },
  {
   "cell_type": "code",
   "execution_count": 49,
   "id": "ef6674f9",
   "metadata": {},
   "outputs": [
    {
     "data": {
      "text/plain": [
       "(0.0, 30.0)"
      ]
     },
     "execution_count": 49,
     "metadata": {},
     "output_type": "execute_result"
    },
    {
     "data": {
      "image/png": "[encoded data removed]",
      "text/plain": [
       "<Figure size 640x480 with 1 Axes>"
      ]
     },
     "metadata": {},
     "output_type": "display_data"
    }
   ],
   "source": [
    "y_axis = league_grouped_sum_df['Age']\n",
    "x_axis = ['Bundesliga', 'EPL','LaLiga','Ligue 1', 'Serie A']\n",
    "plt.bar(x_axis, y_axis)\n",
    "plt.ylim(0,30)"
   ]
  },
  {
   "cell_type": "code",
   "execution_count": 50,
   "id": "0ded7867",
   "metadata": {},
   "outputs": [
    {
     "data": {
      "text/plain": [
       "<BarContainer object of 5 artists>"
      ]
     },
     "execution_count": 50,
     "metadata": {},
     "output_type": "execute_result"
    },
    {
     "data": {
      "image/png": "[encoded data removed]",
      "text/plain": [
       "<Figure size 640x480 with 1 Axes>"
      ]
     },
     "metadata": {},
     "output_type": "display_data"
    }
   ],
   "source": [
    "y_axis = league_grouped_sum_df['Avg Wages']\n",
    "x_axis = ['Bundesliga', 'EPL','LaLiga','Ligue 1', 'Serie A']\n",
    "plt.bar(x_axis, y_axis)\n",
    "#plt.ylim()"
   ]
  },
  {
   "cell_type": "code",
   "execution_count": 56,
   "id": "234c032a",
   "metadata": {},
   "outputs": [
    {
     "data": {
      "text/plain": [
       "Index(['Season', 'League Rank', 'Squad', '# of Players', 'Avg Age', 'Avg Poss',\n",
       "       'MP', 'W', 'D', 'L', 'GF', 'GA', 'GD', 'Pts', 'Pts/MP', 'xG', 'xGA',\n",
       "       'xGD', 'xGD/90', 'Attendance', 'Annual Wages ($)', 'League', 'index'],\n",
       "      dtype='object')"
      ]
     },
     "execution_count": 56,
     "metadata": {},
     "output_type": "execute_result"
    }
   ],
   "source": [
    "all_leagues_sum_df.columns"
   ]
  },
  {
   "cell_type": "code",
   "execution_count": 64,
   "id": "8cda5c3e",
   "metadata": {},
   "outputs": [
    {
     "data": {
      "text/html": [
       "<div>\n",
       "<style scoped>\n",
       "    .dataframe tbody tr th:only-of-type {\n",
       "        vertical-align: middle;\n",
       "    }\n",
       "\n",
       "    .dataframe tbody tr th {\n",
       "        vertical-align: top;\n",
       "    }\n",
       "\n",
       "    .dataframe thead th {\n",
       "        text-align: right;\n",
       "    }\n",
       "</style>\n",
       "<table border=\"1\" class=\"dataframe\">\n",
       "  <thead>\n",
       "    <tr style=\"text-align: right;\">\n",
       "      <th></th>\n",
       "      <th></th>\n",
       "      <th>GF</th>\n",
       "      <th>Annual Wages ($)</th>\n",
       "    </tr>\n",
       "    <tr>\n",
       "      <th>League</th>\n",
       "      <th>Season</th>\n",
       "      <th></th>\n",
       "      <th></th>\n",
       "    </tr>\n",
       "  </thead>\n",
       "  <tbody>\n",
       "    <tr>\n",
       "      <th rowspan=\"5\" valign=\"top\">Bundesliga</th>\n",
       "      <th>2017-2018</th>\n",
       "      <td>811</td>\n",
       "      <td>4.620808e+07</td>\n",
       "    </tr>\n",
       "    <tr>\n",
       "      <th>2018-2019</th>\n",
       "      <td>942</td>\n",
       "      <td>5.129115e+07</td>\n",
       "    </tr>\n",
       "    <tr>\n",
       "      <th>2019-2020</th>\n",
       "      <td>982</td>\n",
       "      <td>5.394498e+07</td>\n",
       "    </tr>\n",
       "    <tr>\n",
       "      <th>2020-2021</th>\n",
       "      <td>928</td>\n",
       "      <td>5.053548e+07</td>\n",
       "    </tr>\n",
       "    <tr>\n",
       "      <th>2021-2022</th>\n",
       "      <td>954</td>\n",
       "      <td>4.605309e+07</td>\n",
       "    </tr>\n",
       "    <tr>\n",
       "      <th rowspan=\"5\" valign=\"top\">EPL</th>\n",
       "      <th>2017-2018</th>\n",
       "      <td>1018</td>\n",
       "      <td>9.202020e+07</td>\n",
       "    </tr>\n",
       "    <tr>\n",
       "      <th>2018-2019</th>\n",
       "      <td>1072</td>\n",
       "      <td>9.747985e+07</td>\n",
       "    </tr>\n",
       "    <tr>\n",
       "      <th>2019-2020</th>\n",
       "      <td>1034</td>\n",
       "      <td>9.448564e+07</td>\n",
       "    </tr>\n",
       "    <tr>\n",
       "      <th>2020-2021</th>\n",
       "      <td>1024</td>\n",
       "      <td>1.012749e+08</td>\n",
       "    </tr>\n",
       "    <tr>\n",
       "      <th>2021-2022</th>\n",
       "      <td>1071</td>\n",
       "      <td>1.034991e+08</td>\n",
       "    </tr>\n",
       "    <tr>\n",
       "      <th rowspan=\"5\" valign=\"top\">La Liga</th>\n",
       "      <th>2017-2018</th>\n",
       "      <td>990</td>\n",
       "      <td>5.610859e+07</td>\n",
       "    </tr>\n",
       "    <tr>\n",
       "      <th>2018-2019</th>\n",
       "      <td>946</td>\n",
       "      <td>7.013623e+07</td>\n",
       "    </tr>\n",
       "    <tr>\n",
       "      <th>2019-2020</th>\n",
       "      <td>942</td>\n",
       "      <td>7.381299e+07</td>\n",
       "    </tr>\n",
       "    <tr>\n",
       "      <th>2020-2021</th>\n",
       "      <td>953</td>\n",
       "      <td>7.742880e+07</td>\n",
       "    </tr>\n",
       "    <tr>\n",
       "      <th>2021-2022</th>\n",
       "      <td>951</td>\n",
       "      <td>7.350853e+07</td>\n",
       "    </tr>\n",
       "    <tr>\n",
       "      <th rowspan=\"5\" valign=\"top\">Ligue1</th>\n",
       "      <th>2017-2018</th>\n",
       "      <td>1033</td>\n",
       "      <td>3.021376e+07</td>\n",
       "    </tr>\n",
       "    <tr>\n",
       "      <th>2018-2019</th>\n",
       "      <td>1033</td>\n",
       "      <td>3.021376e+07</td>\n",
       "    </tr>\n",
       "    <tr>\n",
       "      <th>2019-2020</th>\n",
       "      <td>1033</td>\n",
       "      <td>3.021376e+07</td>\n",
       "    </tr>\n",
       "    <tr>\n",
       "      <th>2020-2021</th>\n",
       "      <td>1033</td>\n",
       "      <td>3.021376e+07</td>\n",
       "    </tr>\n",
       "    <tr>\n",
       "      <th>2021-2022</th>\n",
       "      <td>1033</td>\n",
       "      <td>3.021376e+07</td>\n",
       "    </tr>\n",
       "    <tr>\n",
       "      <th rowspan=\"5\" valign=\"top\">Serie A</th>\n",
       "      <th>2017-2018</th>\n",
       "      <td>1017</td>\n",
       "      <td>4.363337e+07</td>\n",
       "    </tr>\n",
       "    <tr>\n",
       "      <th>2018-2019</th>\n",
       "      <td>1019</td>\n",
       "      <td>4.363337e+07</td>\n",
       "    </tr>\n",
       "    <tr>\n",
       "      <th>2019-2020</th>\n",
       "      <td>1154</td>\n",
       "      <td>4.363337e+07</td>\n",
       "    </tr>\n",
       "    <tr>\n",
       "      <th>2020-2021</th>\n",
       "      <td>1163</td>\n",
       "      <td>4.363337e+07</td>\n",
       "    </tr>\n",
       "    <tr>\n",
       "      <th>2021-2022</th>\n",
       "      <td>1089</td>\n",
       "      <td>4.363337e+07</td>\n",
       "    </tr>\n",
       "  </tbody>\n",
       "</table>\n",
       "</div>"
      ],
      "text/plain": [
       "                        GF  Annual Wages ($)\n",
       "League     Season                           \n",
       "Bundesliga 2017-2018   811      4.620808e+07\n",
       "           2018-2019   942      5.129115e+07\n",
       "           2019-2020   982      5.394498e+07\n",
       "           2020-2021   928      5.053548e+07\n",
       "           2021-2022   954      4.605309e+07\n",
       "EPL        2017-2018  1018      9.202020e+07\n",
       "           2018-2019  1072      9.747985e+07\n",
       "           2019-2020  1034      9.448564e+07\n",
       "           2020-2021  1024      1.012749e+08\n",
       "           2021-2022  1071      1.034991e+08\n",
       "La Liga    2017-2018   990      5.610859e+07\n",
       "           2018-2019   946      7.013623e+07\n",
       "           2019-2020   942      7.381299e+07\n",
       "           2020-2021   953      7.742880e+07\n",
       "           2021-2022   951      7.350853e+07\n",
       "Ligue1     2017-2018  1033      3.021376e+07\n",
       "           2018-2019  1033      3.021376e+07\n",
       "           2019-2020  1033      3.021376e+07\n",
       "           2020-2021  1033      3.021376e+07\n",
       "           2021-2022  1033      3.021376e+07\n",
       "Serie A    2017-2018  1017      4.363337e+07\n",
       "           2018-2019  1019      4.363337e+07\n",
       "           2019-2020  1154      4.363337e+07\n",
       "           2020-2021  1163      4.363337e+07\n",
       "           2021-2022  1089      4.363337e+07"
      ]
     },
     "execution_count": 64,
     "metadata": {},
     "output_type": "execute_result"
    }
   ],
   "source": [
    "year_grouped = all_leagues_sum_df.groupby(['League', 'Season']).agg({'GF': 'sum', 'Annual Wages ($)': 'mean'})\n",
    "year_grouped"
   ]
  },
  {
   "cell_type": "code",
   "execution_count": 65,
   "id": "1aad2be4",
   "metadata": {},
   "outputs": [
    {
     "data": {
      "text/plain": [
       "MultiIndex([('Bundesliga', '2017-2018'),\n",
       "            ('Bundesliga', '2018-2019'),\n",
       "            ('Bundesliga', '2019-2020'),\n",
       "            ('Bundesliga', '2020-2021'),\n",
       "            ('Bundesliga', '2021-2022'),\n",
       "            (       'EPL', '2017-2018'),\n",
       "            (       'EPL', '2018-2019'),\n",
       "            (       'EPL', '2019-2020'),\n",
       "            (       'EPL', '2020-2021'),\n",
       "            (       'EPL', '2021-2022'),\n",
       "            (   'La Liga', '2017-2018'),\n",
       "            (   'La Liga', '2018-2019'),\n",
       "            (   'La Liga', '2019-2020'),\n",
       "            (   'La Liga', '2020-2021'),\n",
       "            (   'La Liga', '2021-2022'),\n",
       "            (    'Ligue1', '2017-2018'),\n",
       "            (    'Ligue1', '2018-2019'),\n",
       "            (    'Ligue1', '2019-2020'),\n",
       "            (    'Ligue1', '2020-2021'),\n",
       "            (    'Ligue1', '2021-2022'),\n",
       "            (   'Serie A', '2017-2018'),\n",
       "            (   'Serie A', '2018-2019'),\n",
       "            (   'Serie A', '2019-2020'),\n",
       "            (   'Serie A', '2020-2021'),\n",
       "            (   'Serie A', '2021-2022')],\n",
       "           names=['League', 'Season'])"
      ]
     },
     "execution_count": 65,
     "metadata": {},
     "output_type": "execute_result"
    }
   ],
   "source": [
    "year_grouped.index"
   ]
  },
  {
   "cell_type": "code",
   "execution_count": 67,
   "id": "b37898c6",
   "metadata": {},
   "outputs": [
    {
     "data": {
      "text/html": [
       "<div>\n",
       "<style scoped>\n",
       "    .dataframe tbody tr th:only-of-type {\n",
       "        vertical-align: middle;\n",
       "    }\n",
       "\n",
       "    .dataframe tbody tr th {\n",
       "        vertical-align: top;\n",
       "    }\n",
       "\n",
       "    .dataframe thead th {\n",
       "        text-align: right;\n",
       "    }\n",
       "</style>\n",
       "<table border=\"1\" class=\"dataframe\">\n",
       "  <thead>\n",
       "    <tr style=\"text-align: right;\">\n",
       "      <th></th>\n",
       "      <th>index</th>\n",
       "      <th>League</th>\n",
       "      <th>Season</th>\n",
       "      <th>GF</th>\n",
       "      <th>Annual Wages ($)</th>\n",
       "    </tr>\n",
       "  </thead>\n",
       "  <tbody>\n",
       "    <tr>\n",
       "      <th>0</th>\n",
       "      <td>0</td>\n",
       "      <td>Bundesliga</td>\n",
       "      <td>2017-2018</td>\n",
       "      <td>811</td>\n",
       "      <td>4.620808e+07</td>\n",
       "    </tr>\n",
       "    <tr>\n",
       "      <th>1</th>\n",
       "      <td>1</td>\n",
       "      <td>Bundesliga</td>\n",
       "      <td>2018-2019</td>\n",
       "      <td>942</td>\n",
       "      <td>5.129115e+07</td>\n",
       "    </tr>\n",
       "    <tr>\n",
       "      <th>2</th>\n",
       "      <td>2</td>\n",
       "      <td>Bundesliga</td>\n",
       "      <td>2019-2020</td>\n",
       "      <td>982</td>\n",
       "      <td>5.394498e+07</td>\n",
       "    </tr>\n",
       "    <tr>\n",
       "      <th>3</th>\n",
       "      <td>3</td>\n",
       "      <td>Bundesliga</td>\n",
       "      <td>2020-2021</td>\n",
       "      <td>928</td>\n",
       "      <td>5.053548e+07</td>\n",
       "    </tr>\n",
       "    <tr>\n",
       "      <th>4</th>\n",
       "      <td>4</td>\n",
       "      <td>Bundesliga</td>\n",
       "      <td>2021-2022</td>\n",
       "      <td>954</td>\n",
       "      <td>4.605309e+07</td>\n",
       "    </tr>\n",
       "    <tr>\n",
       "      <th>5</th>\n",
       "      <td>5</td>\n",
       "      <td>EPL</td>\n",
       "      <td>2017-2018</td>\n",
       "      <td>1018</td>\n",
       "      <td>9.202020e+07</td>\n",
       "    </tr>\n",
       "    <tr>\n",
       "      <th>6</th>\n",
       "      <td>6</td>\n",
       "      <td>EPL</td>\n",
       "      <td>2018-2019</td>\n",
       "      <td>1072</td>\n",
       "      <td>9.747985e+07</td>\n",
       "    </tr>\n",
       "    <tr>\n",
       "      <th>7</th>\n",
       "      <td>7</td>\n",
       "      <td>EPL</td>\n",
       "      <td>2019-2020</td>\n",
       "      <td>1034</td>\n",
       "      <td>9.448564e+07</td>\n",
       "    </tr>\n",
       "    <tr>\n",
       "      <th>8</th>\n",
       "      <td>8</td>\n",
       "      <td>EPL</td>\n",
       "      <td>2020-2021</td>\n",
       "      <td>1024</td>\n",
       "      <td>1.012749e+08</td>\n",
       "    </tr>\n",
       "    <tr>\n",
       "      <th>9</th>\n",
       "      <td>9</td>\n",
       "      <td>EPL</td>\n",
       "      <td>2021-2022</td>\n",
       "      <td>1071</td>\n",
       "      <td>1.034991e+08</td>\n",
       "    </tr>\n",
       "    <tr>\n",
       "      <th>10</th>\n",
       "      <td>10</td>\n",
       "      <td>La Liga</td>\n",
       "      <td>2017-2018</td>\n",
       "      <td>990</td>\n",
       "      <td>5.610859e+07</td>\n",
       "    </tr>\n",
       "    <tr>\n",
       "      <th>11</th>\n",
       "      <td>11</td>\n",
       "      <td>La Liga</td>\n",
       "      <td>2018-2019</td>\n",
       "      <td>946</td>\n",
       "      <td>7.013623e+07</td>\n",
       "    </tr>\n",
       "    <tr>\n",
       "      <th>12</th>\n",
       "      <td>12</td>\n",
       "      <td>La Liga</td>\n",
       "      <td>2019-2020</td>\n",
       "      <td>942</td>\n",
       "      <td>7.381299e+07</td>\n",
       "    </tr>\n",
       "    <tr>\n",
       "      <th>13</th>\n",
       "      <td>13</td>\n",
       "      <td>La Liga</td>\n",
       "      <td>2020-2021</td>\n",
       "      <td>953</td>\n",
       "      <td>7.742880e+07</td>\n",
       "    </tr>\n",
       "    <tr>\n",
       "      <th>14</th>\n",
       "      <td>14</td>\n",
       "      <td>La Liga</td>\n",
       "      <td>2021-2022</td>\n",
       "      <td>951</td>\n",
       "      <td>7.350853e+07</td>\n",
       "    </tr>\n",
       "    <tr>\n",
       "      <th>15</th>\n",
       "      <td>15</td>\n",
       "      <td>Ligue1</td>\n",
       "      <td>2017-2018</td>\n",
       "      <td>1033</td>\n",
       "      <td>3.021376e+07</td>\n",
       "    </tr>\n",
       "    <tr>\n",
       "      <th>16</th>\n",
       "      <td>16</td>\n",
       "      <td>Ligue1</td>\n",
       "      <td>2018-2019</td>\n",
       "      <td>1033</td>\n",
       "      <td>3.021376e+07</td>\n",
       "    </tr>\n",
       "    <tr>\n",
       "      <th>17</th>\n",
       "      <td>17</td>\n",
       "      <td>Ligue1</td>\n",
       "      <td>2019-2020</td>\n",
       "      <td>1033</td>\n",
       "      <td>3.021376e+07</td>\n",
       "    </tr>\n",
       "    <tr>\n",
       "      <th>18</th>\n",
       "      <td>18</td>\n",
       "      <td>Ligue1</td>\n",
       "      <td>2020-2021</td>\n",
       "      <td>1033</td>\n",
       "      <td>3.021376e+07</td>\n",
       "    </tr>\n",
       "    <tr>\n",
       "      <th>19</th>\n",
       "      <td>19</td>\n",
       "      <td>Ligue1</td>\n",
       "      <td>2021-2022</td>\n",
       "      <td>1033</td>\n",
       "      <td>3.021376e+07</td>\n",
       "    </tr>\n",
       "    <tr>\n",
       "      <th>20</th>\n",
       "      <td>20</td>\n",
       "      <td>Serie A</td>\n",
       "      <td>2017-2018</td>\n",
       "      <td>1017</td>\n",
       "      <td>4.363337e+07</td>\n",
       "    </tr>\n",
       "    <tr>\n",
       "      <th>21</th>\n",
       "      <td>21</td>\n",
       "      <td>Serie A</td>\n",
       "      <td>2018-2019</td>\n",
       "      <td>1019</td>\n",
       "      <td>4.363337e+07</td>\n",
       "    </tr>\n",
       "    <tr>\n",
       "      <th>22</th>\n",
       "      <td>22</td>\n",
       "      <td>Serie A</td>\n",
       "      <td>2019-2020</td>\n",
       "      <td>1154</td>\n",
       "      <td>4.363337e+07</td>\n",
       "    </tr>\n",
       "    <tr>\n",
       "      <th>23</th>\n",
       "      <td>23</td>\n",
       "      <td>Serie A</td>\n",
       "      <td>2020-2021</td>\n",
       "      <td>1163</td>\n",
       "      <td>4.363337e+07</td>\n",
       "    </tr>\n",
       "    <tr>\n",
       "      <th>24</th>\n",
       "      <td>24</td>\n",
       "      <td>Serie A</td>\n",
       "      <td>2021-2022</td>\n",
       "      <td>1089</td>\n",
       "      <td>4.363337e+07</td>\n",
       "    </tr>\n",
       "  </tbody>\n",
       "</table>\n",
       "</div>"
      ],
      "text/plain": [
       "    index      League     Season    GF  Annual Wages ($)\n",
       "0       0  Bundesliga  2017-2018   811      4.620808e+07\n",
       "1       1  Bundesliga  2018-2019   942      5.129115e+07\n",
       "2       2  Bundesliga  2019-2020   982      5.394498e+07\n",
       "3       3  Bundesliga  2020-2021   928      5.053548e+07\n",
       "4       4  Bundesliga  2021-2022   954      4.605309e+07\n",
       "5       5         EPL  2017-2018  1018      9.202020e+07\n",
       "6       6         EPL  2018-2019  1072      9.747985e+07\n",
       "7       7         EPL  2019-2020  1034      9.448564e+07\n",
       "8       8         EPL  2020-2021  1024      1.012749e+08\n",
       "9       9         EPL  2021-2022  1071      1.034991e+08\n",
       "10     10     La Liga  2017-2018   990      5.610859e+07\n",
       "11     11     La Liga  2018-2019   946      7.013623e+07\n",
       "12     12     La Liga  2019-2020   942      7.381299e+07\n",
       "13     13     La Liga  2020-2021   953      7.742880e+07\n",
       "14     14     La Liga  2021-2022   951      7.350853e+07\n",
       "15     15      Ligue1  2017-2018  1033      3.021376e+07\n",
       "16     16      Ligue1  2018-2019  1033      3.021376e+07\n",
       "17     17      Ligue1  2019-2020  1033      3.021376e+07\n",
       "18     18      Ligue1  2020-2021  1033      3.021376e+07\n",
       "19     19      Ligue1  2021-2022  1033      3.021376e+07\n",
       "20     20     Serie A  2017-2018  1017      4.363337e+07\n",
       "21     21     Serie A  2018-2019  1019      4.363337e+07\n",
       "22     22     Serie A  2019-2020  1154      4.363337e+07\n",
       "23     23     Serie A  2020-2021  1163      4.363337e+07\n",
       "24     24     Serie A  2021-2022  1089      4.363337e+07"
      ]
     },
     "execution_count": 67,
     "metadata": {},
     "output_type": "execute_result"
    }
   ],
   "source": [
    "#year_grouped_wages = pd.pivot(year_grouped, index='Season',columns='League', values= 'Annual Wages ($)')\n",
    "year_grouped = year_grouped.reset_index().rename(columns={'level_0': 'League', 'level_1': 'Season'})\n",
    "year_grouped"
   ]
  },
  {
   "cell_type": "code",
   "execution_count": null,
   "id": "5d765687",
   "metadata": {},
   "outputs": [],
   "source": []
  },
  {
   "cell_type": "code",
   "execution_count": 77,
   "id": "21d90dac",
   "metadata": {},
   "outputs": [
    {
     "data": {
      "text/plain": [
       "[<matplotlib.lines.Line2D at 0x19be2646370>]"
      ]
     },
     "execution_count": 77,
     "metadata": {},
     "output_type": "execute_result"
    },
    {
     "data": {
      "image/png": "[encoded data removed]",
      "text/plain": [
       "<Figure size 640x480 with 1 Axes>"
      ]
     },
     "metadata": {},
     "output_type": "display_data"
    }
   ],
   "source": [
    "x_axis_bundes = year_grouped[year_grouped['League'] == 'Bundesliga']['Season']\n",
    "y_axis_bundes = year_grouped[year_grouped['League'] == 'Bundesliga']['GF']\n",
    "plt.plot(x_axis_bundes, y_axis_bundes, color='y')\n",
    "\n",
    "x_axis_EPL = year_grouped[year_grouped['League'] == 'EPL']['Season']\n",
    "y_axis_EPL = year_grouped[year_grouped['League'] == 'EPL']['GF']\n",
    "plt.plot(x_axis_EPL, y_axis_EPL, color='r')\n",
    "\n",
    "x_axis_LaLiga = year_grouped[year_grouped['League'] == 'La Liga']['Season']\n",
    "y_axis_LaLiga = year_grouped[year_grouped['League'] == 'La Liga']['GF']\n",
    "plt.plot(x_axis_LaLiga, y_axis_LaLiga, color='orange')\n",
    "\n",
    "x_axis_serieA = year_grouped[year_grouped['League'] == 'Serie A']['Season']\n",
    "y_axis_serieA = year_grouped[year_grouped['League'] == 'Serie A']['GF']\n",
    "plt.plot(x_axis_serieA, y_axis_serieA, color='green')\n",
    "\n",
    "x_axis_ligue1 = year_grouped[year_grouped['League'] == 'Ligue1']['Season']\n",
    "y_axis_ligue1 = year_grouped[year_grouped['League'] == 'Ligue1']['GF']\n",
    "plt.plot(x_axis_ligue1, y_axis_ligue1, color='b')"
   ]
  },
  {
   "cell_type": "code",
   "execution_count": null,
   "id": "7cee56ed",
   "metadata": {},
   "outputs": [],
   "source": []
  }
 ],
 "metadata": {
  "kernelspec": {
   "display_name": "Python 3 (ipykernel)",
   "language": "python",
   "name": "python3"
  },
  "language_info": {
   "codemirror_mode": {
    "name": "ipython",
    "version": 3
   },
   "file_extension": ".py",
   "mimetype": "text/x-python",
   "name": "python",
   "nbconvert_exporter": "python",
   "pygments_lexer": "ipython3",
   "version": "3.9.13"
  }
 },
 "nbformat": 4,
 "nbformat_minor": 5
}
