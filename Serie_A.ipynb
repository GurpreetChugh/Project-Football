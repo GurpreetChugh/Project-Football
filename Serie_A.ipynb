{
 "cells": [
  {
   "cell_type": "code",
   "execution_count": 1,
   "metadata": {},
   "outputs": [],
   "source": [
    "import pandas as pd\n",
    "import numpy as np\n",
    "import matplotlib.pyplot as plt\n",
    "import requests\n",
    "import scipy.stats as stats\n",
    "import seaborn as sns"
   ]
  },
  {
   "cell_type": "markdown",
   "metadata": {},
   "source": [
    "# Serie A Summary Stats"
   ]
  },
  {
   "cell_type": "code",
   "execution_count": 2,
   "metadata": {},
   "outputs": [],
   "source": [
    "#url for Summary Stats seasons 2017_2019 to 2021_2022\n",
    "url_1718_summary = \"https://fbref.com/en/comps/11/2017-2018/2017-2018-Serie-A-Stats\"\n",
    "url_1819_summary = \"https://fbref.com/en/comps/11/2018-2019/2018-2019-Serie-A-Stats\"\n",
    "url_1920_summary = \"https://fbref.com/en/comps/11/2019-2020/2019-2020-Serie-A-Stats\"\n",
    "url_2021_summary = \"https://fbref.com/en/comps/11/2020-2021/2020-2021-Serie-A-Stats\"\n",
    "url_2122_summary = \"https://fbref.com/en/comps/11/2021-2022/2021-2022-Serie-A-Stats\"  \n",
    "\n",
    "#  Read the url\n",
    "table_1718 = pd.read_html(url_1718_summary)\n",
    "table_1819 = pd.read_html(url_1819_summary)\n",
    "table_1920 = pd.read_html(url_1920_summary)\n",
    "table_2021 = pd.read_html(url_2021_summary)\n",
    "table_2122 = pd.read_html(url_2122_summary)\n",
    "\n",
    "\n",
    "#  Create the DataFrames\n",
    "serie_a_summary_1718_df = pd.DataFrame(table_1718[0])\n",
    "serie_a_summary_1819_df = pd.DataFrame(table_1819[0])\n",
    "serie_a_summary_1920_df = pd.DataFrame(table_1920[0])\n",
    "serie_a_summary_2021_df = pd.DataFrame(table_2021[0])\n",
    "serie_a_summary_2122_df = pd.DataFrame(table_2122[0])\n"
   ]
  },
  {
   "cell_type": "code",
   "execution_count": 3,
   "metadata": {},
   "outputs": [],
   "source": [
    "# Get Team age (index[2])\n",
    "#  Read the url\n",
    "table_1718 = pd.read_html(url_1718_summary)\n",
    "table_1819 = pd.read_html(url_1819_summary)\n",
    "table_1920 = pd.read_html(url_1920_summary)\n",
    "table_2021 = pd.read_html(url_2021_summary)\n",
    "table_2122 = pd.read_html(url_2122_summary)\n",
    "\n",
    "\n",
    "#  Create the DataFrames\n",
    "serie_a_team_age_1718_df = pd.DataFrame(table_1718[2])\n",
    "serie_a_team_age_1819_df = pd.DataFrame(table_1819[2])\n",
    "serie_a_team_age_1920_df = pd.DataFrame(table_1920[2])\n",
    "serie_a_team_age_2021_df = pd.DataFrame(table_2021[2])\n",
    "serie_a_team_age_2122_df = pd.DataFrame(table_2122[2])"
   ]
  },
  {
   "cell_type": "code",
   "execution_count": 4,
   "metadata": {},
   "outputs": [],
   "source": [
    "# Remove upper level to allow for merging with other tables\n",
    "serie_a_team_age_1718_df = serie_a_team_age_1718_df.droplevel(0, axis = 1)\n",
    "serie_a_team_age_1819_df = serie_a_team_age_1819_df.droplevel(0, axis = 1)\n",
    "serie_a_team_age_1920_df = serie_a_team_age_1920_df.droplevel(0, axis = 1)\n",
    "serie_a_team_age_2021_df = serie_a_team_age_2021_df.droplevel(0, axis = 1)\n",
    "serie_a_team_age_2122_df = serie_a_team_age_2122_df.droplevel(0, axis = 1)\n"
   ]
  },
  {
   "cell_type": "code",
   "execution_count": null,
   "metadata": {},
   "outputs": [],
   "source": [
    "#url for Team Wages seasons 2017_2019 to 2021_2022\n",
    "url_1718_wages = \"https://fbref.com/en/comps/11/2017-2018/wages/2017-2018-Serie-A-Wages\"\n",
    "url_1819_wages = \"https://fbref.com/en/comps/11/2017-2018/wages/2017-2018-Serie-A-Wages\"\n",
    "url_1920_wages = \"https://fbref.com/en/comps/11/2017-2018/wages/2017-2018-Serie-A-Wages\"\n",
    "url_2021_wages = \"https://fbref.com/en/comps/11/2017-2018/wages/2017-2018-Serie-A-Wages\"\n",
    "url_2122_wages = \"https://fbref.com/en/comps/11/2017-2018/wages/2017-2018-Serie-A-Wages\" \n",
    "\n",
    "#  Read the url\n",
    "table_1718 = pd.read_html(url_1718_wages)\n",
    "table_1819 = pd.read_html(url_1819_wages)\n",
    "table_1920 = pd.read_html(url_1920_wages)\n",
    "table_2021 = pd.read_html(url_2021_wages)\n",
    "table_2122 = pd.read_html(url_2122_wages)\n",
    "\n",
    "\n",
    "#  Create the DataFrames\n",
    "serie_a_wages_1718_df = pd.DataFrame(table_1718[0])\n",
    "serie_a_wages_1819_df = pd.DataFrame(table_1819[0])\n",
    "serie_a_wages_1920_df = pd.DataFrame(table_1920[0])\n",
    "serie_a_wages_2021_df = pd.DataFrame(table_2021[0])\n",
    "serie_a_wages_2122_df = pd.DataFrame(table_2122[0])\n"
   ]
  },
  {
   "cell_type": "code",
   "execution_count": null,
   "metadata": {},
   "outputs": [],
   "source": [
    "# Merge wages and season summary for each season\n",
    "serie_a_1718_merged_df = pd.merge(serie_a_wages_1718_df, serie_a_summary_1718_df, how=\"left\", on=['Squad'])\n",
    "serie_a_1819_merged_df = pd.merge(serie_a_wages_1819_df, serie_a_summary_1819_df, how=\"left\", on=['Squad'])\n",
    "serie_a_1920_merged_df = pd.merge(serie_a_wages_1920_df, serie_a_summary_1920_df, how=\"left\", on=['Squad'])\n",
    "serie_a_2021_merged_df = pd.merge(serie_a_wages_2021_df, serie_a_summary_2021_df, how=\"left\", on=['Squad'])\n",
    "serie_a_2122_merged_df = pd.merge(serie_a_wages_2122_df, serie_a_summary_2122_df, how=\"left\", on=['Squad'])\n"
   ]
  },
  {
   "cell_type": "code",
   "execution_count": null,
   "metadata": {},
   "outputs": [],
   "source": [
    "#  Merge the Age tables for each season\n",
    "serie_a_1718_complete_df = pd.merge(serie_a_1718_merged_df, serie_a_team_age_1718_df, how=\"left\", on=[\"Squad\"])\n",
    "serie_a_1819_complete_df = pd.merge(serie_a_1819_merged_df, serie_a_team_age_1819_df, how=\"left\", on=[\"Squad\"])\n",
    "serie_a_1920_complete_df = pd.merge(serie_a_1920_merged_df, serie_a_team_age_1920_df, how=\"left\", on=[\"Squad\"])\n",
    "serie_a_2021_complete_df = pd.merge(serie_a_2021_merged_df, serie_a_team_age_2021_df, how=\"left\", on=[\"Squad\"])\n",
    "serie_a_2122_complete_df = pd.merge(serie_a_2122_merged_df, serie_a_team_age_2122_df, how=\"left\", on=[\"Squad\"])\n"
   ]
  },
  {
   "cell_type": "code",
   "execution_count": null,
   "metadata": {},
   "outputs": [],
   "source": [
    "# Select desired columns for final summary table\n",
    "serie_a_1718_sum_complete_df = serie_a_1718_complete_df[['Rk_y', 'Squad','# Pl_x', 'Age', 'Poss', 'Annual Wages',\n",
    "                                                         'MP_x', 'W', 'D', 'L', 'GF', 'GA', 'GD', 'Pts','Pts/MP',\n",
    "                                                         'xG_x', 'xGA', 'xGD', 'xGD/90', 'Attendance']]\n",
    "serie_a_1819_sum_complete_df = serie_a_1819_complete_df[['Rk_y', 'Squad','# Pl_x', 'Age', 'Poss', 'Annual Wages',\n",
    "                                                         'MP_x', 'W', 'D', 'L', 'GF', 'GA', 'GD', 'Pts','Pts/MP',\n",
    "                                                         'xG_x', 'xGA', 'xGD', 'xGD/90', 'Attendance']]\n",
    "serie_a_1920_sum_complete_df = serie_a_1920_complete_df[['Rk_y', 'Squad','# Pl_x', 'Age', 'Poss', 'Annual Wages',\n",
    "                                                         'MP_x', 'W', 'D', 'L', 'GF', 'GA', 'GD', 'Pts','Pts/MP',\n",
    "                                                         'xG_x', 'xGA', 'xGD', 'xGD/90', 'Attendance']]\n",
    "serie_a_2021_sum_complete_df = serie_a_2021_complete_df[['Rk_y', 'Squad','# Pl_x', 'Age', 'Poss', 'Annual Wages',\n",
    "                                                         'MP_x', 'W', 'D', 'L', 'GF', 'GA', 'GD', 'Pts','Pts/MP',\n",
    "                                                         'xG_x', 'xGA', 'xGD', 'xGD/90', 'Attendance']]\n",
    "serie_a_2122_sum_complete_df = serie_a_2122_complete_df[['Rk_y', 'Squad','# Pl_x', 'Age', 'Poss', 'Annual Wages',\n",
    "                                                         'MP_x', 'W', 'D', 'L', 'GF', 'GA', 'GD', 'Pts','Pts/MP',\n",
    "                                                         'xG_x', 'xGA', 'xGD', 'xGD/90', 'Attendance']]\n"
   ]
  },
  {
   "cell_type": "code",
   "execution_count": null,
   "metadata": {},
   "outputs": [],
   "source": [
    "# Rename columns\n",
    "serie_a_1718_sum_complete_df = serie_a_1718_sum_complete_df.rename(columns={ 'Rk_y': 'League Rank', 'Age': 'Avg Age', \n",
    "                                                                             'Poss': 'Avg Poss', '# Pl_x': '# of Players', \n",
    "                                                                             'MP_x': 'MP', 'xG_x': 'xG'})\n",
    "serie_a_1819_sum_complete_df = serie_a_1819_sum_complete_df.rename(columns={ 'Rk_y': 'League Rank', 'Age': 'Avg Age', \n",
    "                                                                             'Poss': 'Avg Poss', '# Pl_x': '# of Players', \n",
    "                                                                             'MP_x': 'MP', 'xG_x': 'xG'})\n",
    "serie_a_1920_sum_complete_df = serie_a_1920_sum_complete_df.rename(columns={ 'Rk_y': 'League Rank', 'Age': 'Avg Age', \n",
    "                                                                             'Poss': 'Avg Poss', '# Pl_x': '# of Players', \n",
    "                                                                             'MP_x': 'MP', 'xG_x': 'xG'})\n",
    "serie_a_2021_sum_complete_df = serie_a_2021_sum_complete_df.rename(columns={ 'Rk_y': 'League Rank', 'Age': 'Avg Age', \n",
    "                                                                             'Poss': 'Avg Poss', '# Pl_x': '# of Players', \n",
    "                                                                             'MP_x': 'MP', 'xG_x': 'xG'})\n",
    "serie_a_2122_sum_complete_df = serie_a_2122_sum_complete_df.rename(columns={ 'Rk_y': 'League Rank', 'Age': 'Avg Age', \n",
    "                                                                             'Poss': 'Avg Poss', '# Pl_x': '# of Players', \n",
    "                                                                             'MP_x': 'MP', 'xG_x': 'xG'})\n",
    "                                                                                                                                    "
   ]
  },
  {
   "cell_type": "code",
   "execution_count": null,
   "metadata": {},
   "outputs": [],
   "source": [
    "# Convert 'Annual Wages' column into single column with only dollar value\n",
    "serie_a_1718_sum_complete_df[['pounds', 'dollars']] = serie_a_1718_sum_complete_df['Annual Wages'].str.split('$', expand=True)\n",
    "serie_a_1819_sum_complete_df[['pounds', 'dollars']] = serie_a_1718_sum_complete_df['Annual Wages'].str.split('$', expand=True)\n",
    "serie_a_1920_sum_complete_df[['pounds', 'dollars']] = serie_a_1718_sum_complete_df['Annual Wages'].str.split('$', expand=True)\n",
    "serie_a_2021_sum_complete_df[['pounds', 'dollars']] = serie_a_1718_sum_complete_df['Annual Wages'].str.split('$', expand=True)\n",
    "serie_a_2122_sum_complete_df[['pounds', 'dollars']] = serie_a_1718_sum_complete_df['Annual Wages'].str.split('$', expand=True)\n",
    "                                                                                                            "
   ]
  },
  {
   "cell_type": "code",
   "execution_count": null,
   "metadata": {},
   "outputs": [],
   "source": [
    "# Convert 'Annual Wages' column into single column with only dollar value\n",
    "\n",
    "serie_a_1718_sum_complete_df[['Annual Wages ($)', 'discard']] = serie_a_1718_sum_complete_df['dollars'].str.split(')', expand=True)\n",
    "serie_a_1819_sum_complete_df[['Annual Wages ($)', 'discard']] = serie_a_1819_sum_complete_df['dollars'].str.split(')', expand=True)\n",
    "serie_a_1920_sum_complete_df[['Annual Wages ($)', 'discard']] = serie_a_1920_sum_complete_df['dollars'].str.split(')', expand=True)\n",
    "serie_a_2021_sum_complete_df[['Annual Wages ($)', 'discard']] = serie_a_2021_sum_complete_df['dollars'].str.split(')', expand=True)\n",
    "serie_a_2122_sum_complete_df[['Annual Wages ($)', 'discard']] = serie_a_2122_sum_complete_df['dollars'].str.split(')', expand=True)"
   ]
  },
  {
   "cell_type": "code",
   "execution_count": null,
   "metadata": {},
   "outputs": [],
   "source": [
    "# Drop unwanted columns \n",
    "serie_a_1718_sum_cleaned_df = serie_a_1718_sum_complete_df.drop(['pounds', 'dollars', 'Annual Wages', 'discard'], axis=1)\n",
    "serie_a_1819_sum_cleaned_df = serie_a_1819_sum_complete_df.drop(['pounds', 'dollars', 'Annual Wages', 'discard'], axis=1)\n",
    "serie_a_1920_sum_cleaned_df = serie_a_1920_sum_complete_df.drop(['pounds', 'dollars', 'Annual Wages', 'discard'], axis=1)\n",
    "serie_a_2021_sum_cleaned_df = serie_a_2021_sum_complete_df.drop(['pounds', 'dollars', 'Annual Wages', 'discard'], axis=1)\n",
    "serie_a_2122_sum_cleaned_df = serie_a_2122_sum_complete_df.drop(['pounds', 'dollars', 'Annual Wages', 'discard'], axis=1)"
   ]
  },
  {
   "cell_type": "code",
   "execution_count": null,
   "metadata": {},
   "outputs": [],
   "source": [
    "# Sort by league position\n",
    "serie_a_1718_sum_clean_sorted_df = serie_a_1718_sum_cleaned_df.sort_values('Pts', ascending=False)\n",
    "serie_a_1819_sum_clean_sorted_df = serie_a_1819_sum_cleaned_df.sort_values('Pts', ascending=False)\n",
    "serie_a_1920_sum_clean_sorted_df = serie_a_1920_sum_cleaned_df.sort_values('Pts', ascending=False)\n",
    "serie_a_2021_sum_clean_sorted_df = serie_a_2021_sum_cleaned_df.sort_values('Pts', ascending=False)\n",
    "serie_a_2122_sum_clean_sorted_df = serie_a_2122_sum_cleaned_df.sort_values('Pts', ascending=False)\n",
    "\n"
   ]
  },
  {
   "cell_type": "code",
   "execution_count": null,
   "metadata": {},
   "outputs": [],
   "source": [
    "serie_a_1718_sum_clean_sorted_df['Season'] = '2017-2018'\n",
    "serie_a_1819_sum_clean_sorted_df['Season'] = '2018-2019'\n",
    "serie_a_1920_sum_clean_sorted_df['Season'] = '2019-2020'\n",
    "serie_a_2021_sum_clean_sorted_df['Season'] = '2020-2021'\n",
    "serie_a_2122_sum_clean_sorted_df['Season'] = '2021-2022'\n"
   ]
  },
  {
   "cell_type": "code",
   "execution_count": null,
   "metadata": {},
   "outputs": [],
   "source": [
    "# Create a single DataFrame for Seasons Summary\n",
    "serie_a_seasons_sum_df = pd.concat([serie_a_1718_sum_clean_sorted_df, serie_a_1819_sum_clean_sorted_df,\n",
    "                                    serie_a_1920_sum_clean_sorted_df,serie_a_2021_sum_clean_sorted_df,\n",
    "                                    serie_a_2122_sum_clean_sorted_df])\n"
   ]
  },
  {
   "cell_type": "code",
   "execution_count": null,
   "metadata": {},
   "outputs": [],
   "source": [
    "#  Rearrange Columns and reset index\n",
    "serie_a_seasons_sum_df = serie_a_seasons_sum_df[['Season', 'League Rank', 'Squad', '# of Players', 'Avg Age', \n",
    "                                                 'Avg Poss', 'MP', 'W', 'D', 'L', 'GF', 'GA', 'GD', 'Pts', 'Pts/MP',\n",
    "                                                 'xG', 'xGA', 'xGD', 'xGD/90', 'Attendance', 'Annual Wages ($)']]\n",
    "\n",
    "serie_a_seasons_sum_df['Annual Wages ($)'] = serie_a_seasons_sum_df['Annual Wages ($)'].map(lambda x: x.replace(',', '')).astype(float)\n",
    "\n",
    "\n",
    "serie_a_seasons_sum_df[\"League\"] = \"Serie A\"\n",
    "serie_a_seasons_sum_df = serie_a_seasons_sum_df.reset_index()\n",
    "serie_a_seasons_sum_df.head()\n",
    "\n"
   ]
  },
  {
   "cell_type": "markdown",
   "metadata": {},
   "source": [
    "# Serie A Match Stats"
   ]
  },
  {
   "cell_type": "code",
   "execution_count": null,
   "metadata": {},
   "outputs": [],
   "source": [
    "#url for Match Stats seasons 2017_2019 to 2021_2022\n",
    "url_1718_matches = \"https://fbref.com/en/comps/11/2017-2018/schedule/2017-2018-Serie-A-Scores-and-Fixtures\"\n",
    "url_1819_matches = \"https://fbref.com/en/comps/11/2018-2019/schedule/2018-2019-Serie-A-Scores-and-Fixtures\"\n",
    "url_1920_matches = \"https://fbref.com/en/comps/11/2019-2020/schedule/2019-2020-Serie-A-Scores-and-Fixtures\"\n",
    "url_2021_matches = \"https://fbref.com/en/comps/11/2020-2021/schedule/2020-2021-Serie-A-Scores-and-Fixtures\"\n",
    "url_2122_matches = \"https://fbref.com/en/comps/11/2021-2022/schedule/2021-2022-Serie-A-Scores-and-Fixtures\"    "
   ]
  },
  {
   "cell_type": "code",
   "execution_count": null,
   "metadata": {},
   "outputs": [],
   "source": [
    "# Read url\n",
    "matches_1718 = pd.read_html(url_1718_matches)\n",
    "matches_1819 = pd.read_html(url_1819_matches)\n",
    "matches_1920 = pd.read_html(url_1920_matches)\n",
    "matches_2021 = pd.read_html(url_2021_matches)\n",
    "matches_2122 = pd.read_html(url_2122_matches)"
   ]
  },
  {
   "cell_type": "code",
   "execution_count": null,
   "metadata": {},
   "outputs": [],
   "source": [
    "# Match Seasions 2017-2018 to 2021-2022 season\n",
    "\n",
    "serie_a_matches_1718_df = pd.DataFrame(matches_1718[0])\n",
    "serie_a_matches_1819_df = pd.DataFrame(matches_1819[0])\n",
    "serie_a_matches_1920_df = pd.DataFrame(matches_1920[0])\n",
    "serie_a_matches_2021_df = pd.DataFrame(matches_2021[0])\n",
    "serie_a_matches_2122_df = pd.DataFrame(matches_2122[0])"
   ]
  },
  {
   "cell_type": "code",
   "execution_count": null,
   "metadata": {},
   "outputs": [],
   "source": [
    "#  Drop the empty rows\n",
    "serie_a_matches_1718_df = serie_a_matches_1718_df.dropna(how=\"all\")\n",
    "serie_a_matches_1819_df = serie_a_matches_1819_df.dropna(how=\"all\")\n",
    "serie_a_matches_1920_df = serie_a_matches_1920_df.dropna(how=\"all\")\n",
    "serie_a_matches_2021_df = serie_a_matches_2021_df.dropna(how=\"all\")\n",
    "serie_a_matches_2122_df = serie_a_matches_2122_df.dropna(how=\"all\")\n"
   ]
  },
  {
   "cell_type": "code",
   "execution_count": null,
   "metadata": {},
   "outputs": [],
   "source": [
    "#  Drop Match Reports and Notes column\n",
    "serie_a_matches_1718_df = serie_a_matches_1718_df.drop([\"Match Report\", \"Notes\"], axis=1)\n",
    "serie_a_matches_1819_df = serie_a_matches_1819_df.drop([\"Match Report\", \"Notes\"], axis=1)\n",
    "serie_a_matches_1920_df = serie_a_matches_1920_df.drop([\"Match Report\", \"Notes\"], axis=1)\n",
    "serie_a_matches_2021_df = serie_a_matches_2021_df.drop([\"Match Report\", \"Notes\"], axis=1)\n",
    "serie_a_matches_2122_df = serie_a_matches_2122_df.drop([\"Match Report\", \"Notes\"], axis=1)"
   ]
  },
  {
   "cell_type": "code",
   "execution_count": null,
   "metadata": {},
   "outputs": [],
   "source": [
    "# Add the seasons to the dataframe\n",
    "serie_a_matches_1718_df[\"Season\"] = \"2017-2018\"\n",
    "serie_a_matches_1819_df[\"Season\"] = \"2018-2019\"\n",
    "serie_a_matches_1920_df[\"Season\"] = \"2019-2020\"\n",
    "serie_a_matches_2021_df[\"Season\"] = \"2020-2021\"\n",
    "serie_a_matches_2122_df[\"Season\"] = \"2021-2022\""
   ]
  },
  {
   "cell_type": "code",
   "execution_count": null,
   "metadata": {},
   "outputs": [],
   "source": [
    "serie_a_all_seasons_matches_df = pd.concat([serie_a_matches_1718_df,serie_a_matches_1819_df,\n",
    "                                        serie_a_matches_1920_df, serie_a_matches_2021_df,\n",
    "                                        serie_a_matches_2122_df], axis=0)\n"
   ]
  },
  {
   "cell_type": "code",
   "execution_count": null,
   "metadata": {},
   "outputs": [],
   "source": [
    "# Split the Score into Home Score and Away Score\n",
    "serie_a_all_seasons_matches_df[['Home Score','Away Score']] = serie_a_all_seasons_matches_df['Score'].str.split('–', expand=True)\n",
    "\n",
    "                                                                                                           "
   ]
  },
  {
   "cell_type": "code",
   "execution_count": null,
   "metadata": {},
   "outputs": [],
   "source": [
    "#  Sort columns \n",
    "\n",
    "serie_a_all_seasons_matches_df = serie_a_all_seasons_matches_df[['Season', 'Wk', 'Date','Time', 'Home', 'Away',\n",
    "                                                               'Home Score', 'Away Score', 'xG', 'xG.1', \n",
    "                                                               'Attendance', 'Venue', 'Referee']]"
   ]
  },
  {
   "cell_type": "code",
   "execution_count": null,
   "metadata": {},
   "outputs": [],
   "source": [
    "# Rename xG and xG.1 columns\n",
    "\n",
    "serie_a_all_seasons_matches_df = serie_a_all_seasons_matches_df.rename(columns={ 'xG': 'xG Home', 'xG.1': 'xG Away'}) \n"
   ]
  },
  {
   "cell_type": "code",
   "execution_count": null,
   "metadata": {},
   "outputs": [],
   "source": [
    "#  Covert Columns to floats and add column for \n",
    "\n",
    "serie_a_all_seasons_matches_df[\"xG Diff\"] = serie_a_all_seasons_matches_df['xG Home'].astype(float) - serie_a_all_seasons_matches_df['xG Away'].astype(float)\n",
    "serie_a_all_seasons_matches_df[\"Actual Diff\"] = serie_a_all_seasons_matches_df['Home Score'].astype(float) - serie_a_all_seasons_matches_df['Away Score'].astype(float)\n",
    "serie_a_all_seasons_matches_df[\"League\"] = \"Serie A\"\n",
    "serie_a_all_seasons_matches_df.head()\n",
    "                                                                                                                                                                                        "
   ]
  },
  {
   "cell_type": "code",
   "execution_count": null,
   "metadata": {},
   "outputs": [],
   "source": [
    "# Final DataFrames Serie A\n",
    "# Final Seasons Summary DataFrame 5 Seasons 2017-2018 to 2021-2022\n",
    "serie_a_seasons_sum_df.sample(10)\n",
    "# Final Match DataFrame 5 Seasons 2017-2018 to 2021-2022\n",
    "serie_a_all_seasons_matches_df.sample(10)"
   ]
  },
  {
   "cell_type": "code",
   "execution_count": null,
   "metadata": {},
   "outputs": [],
   "source": [
    "# Export cleaned data to csv files\n",
    "serie_a_seasons_sum_df.to_csv('data/serie_a_seasons_sum.csv', encoding= 'utf-8')\n",
    "serie_a_all_seasons_matches_df.to_csv('data/serie_a_all_seasons_matches.csv', encoding= 'utf-8')"
   ]
  },
  {
   "cell_type": "raw",
   "metadata": {},
   "source": []
  }
 ],
 "metadata": {
  "kernelspec": {
   "display_name": "Python 3 (ipykernel)",
   "language": "python",
   "name": "python3"
  },
  "language_info": {
   "codemirror_mode": {
    "name": "ipython",
    "version": 3
   },
   "file_extension": ".py",
   "mimetype": "text/x-python",
   "name": "python",
   "nbconvert_exporter": "python",
   "pygments_lexer": "ipython3",
   "version": "3.10.10"
  }
 },
 "nbformat": 4,
 "nbformat_minor": 2
}
