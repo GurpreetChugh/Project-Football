{
 "cells": [
  {
   "cell_type": "code",
   "execution_count": 1,
   "id": "de48cd18",
   "metadata": {},
   "outputs": [],
   "source": [
    "# Import required libraries\n",
    "import requests\n",
    "import pandas as pd\n",
    "import json"
   ]
  },
  {
   "cell_type": "code",
   "execution_count": 2,
   "id": "63d05eff",
   "metadata": {},
   "outputs": [],
   "source": [
    "# list of stadiums\n",
    "stadiums = ['Allianz Arena', 'Wembley Stadium', 'San Siro', 'Camp Nou', 'Anfield']\n"
   ]
  },
  {
   "cell_type": "code",
   "execution_count": 19,
   "id": "d35a4051",
   "metadata": {},
   "outputs": [],
   "source": [
    "# Your Geoapify API key\n",
    "api_key = 'a9245b30483340c08a5841fa8e048a9e'\n"
   ]
  },
  {
   "cell_type": "code",
   "execution_count": 20,
   "id": "43063da3",
   "metadata": {},
   "outputs": [],
   "source": [
    "# Base URL for the API\n",
    "base_url = 'https://api.geoapify.com/v1/geocode/search'"
   ]
  },
  {
   "cell_type": "code",
   "execution_count": 21,
   "id": "0ef6d9e5",
   "metadata": {},
   "outputs": [],
   "source": [
    "# Empty list to store results\n",
    "results = []"
   ]
  },
  {
   "cell_type": "code",
   "execution_count": 22,
   "id": "8e05d6e2",
   "metadata": {},
   "outputs": [],
   "source": [
    "# Loop over all stadiums\n",
    "for stadium in stadiums:\n",
    "    # Parameters for the API request\n",
    "    params = {\n",
    "        'text': stadium,\n",
    "        'apiKey': api_key\n",
    "    }\n",
    "\n",
    "    # Make the request\n",
    "    response = requests.get(base_url, params=params)\n",
    "\n",
    "    # Check if the request was successful\n",
    "    if response.status_code == 200:\n",
    "        # Parse the response as JSON\n",
    "        data = response.json()\n",
    "\n",
    "        # Check if any results were found\n",
    "        if data['features']:\n",
    "            # Get the first result\n",
    "            result = data['features'][0]\n",
    "\n",
    "            # Get the coordinates (longitude, latitude) of the result\n",
    "            coordinates = result['geometry']['coordinates']\n",
    "\n",
    "            # Add the coordinates to the results list\n",
    "            results.append({\n",
    "                'Stadium': stadium,\n",
    "                'Longitude': coordinates[0],\n",
    "                'Latitude': coordinates[1]\n",
    "            })\n",
    "        else:\n",
    "            print(f\"No results found for {stadium}\")\n",
    "    else:\n",
    "        print(f\"Request failed with status code {response.status_code}\")\n"
   ]
  },
  {
   "cell_type": "code",
   "execution_count": 23,
   "id": "723a63dd",
   "metadata": {},
   "outputs": [],
   "source": [
    "# Convert the results to a DataFrame\n",
    "df = pd.DataFrame(results)"
   ]
  },
  {
   "cell_type": "code",
   "execution_count": 24,
   "id": "f858b77d",
   "metadata": {},
   "outputs": [
    {
     "name": "stdout",
     "output_type": "stream",
     "text": [
      "           Stadium  Longitude   Latitude\n",
      "0    Allianz Arena  11.624664  48.218808\n",
      "1  Wembley Stadium  -0.279603  51.556069\n",
      "2         San Siro   9.261518  46.046902\n",
      "3         Camp Nou -77.035008 -12.066627\n",
      "4          Anfield  -2.960910  53.430836\n"
     ]
    }
   ],
   "source": [
    "# Display the DataFrame\n",
    "print(df)"
   ]
  },
  {
   "cell_type": "code",
   "execution_count": 25,
   "id": "e9ea10e3",
   "metadata": {},
   "outputs": [
    {
     "name": "stdout",
     "output_type": "stream",
     "text": [
      "API key is not valid.\n"
     ]
    }
   ],
   "source": [
    "import requests\n",
    "\n",
    "# Your Geoapify API key\n",
    "api_key = 'geoapify_api_key'\n",
    "\n",
    "# Base URL for the API\n",
    "base_url = 'https://api.geoapify.com/v1/geocode/search'\n",
    "\n",
    "# Parameters for the API request\n",
    "params = {\n",
    "    'text': 'Berlin',\n",
    "    'apiKey': api_key\n",
    "}\n",
    "\n",
    "# Make the request\n",
    "response = requests.get(base_url, params=params)\n",
    "\n",
    "# Check if the request was successful\n",
    "if response.status_code == 200:\n",
    "    print(\"API key is valid!\")\n",
    "elif response.status_code == 401:\n",
    "    print(\"API key is not valid.\")\n",
    "else:\n",
    "    print(f\"Something went wrong. The server responded with status code {response.status_code}.\")\n"
   ]
  },
  {
   "cell_type": "code",
   "execution_count": null,
   "id": "b2ea4eb3",
   "metadata": {},
   "outputs": [],
   "source": []
  }
 ],
 "metadata": {
  "kernelspec": {
   "display_name": "Python 3 (ipykernel)",
   "language": "python",
   "name": "python3"
  },
  "language_info": {
   "codemirror_mode": {
    "name": "ipython",
    "version": 3
   },
   "file_extension": ".py",
   "mimetype": "text/x-python",
   "name": "python",
   "nbconvert_exporter": "python",
   "pygments_lexer": "ipython3",
   "version": "3.9.13"
  }
 },
 "nbformat": 4,
 "nbformat_minor": 5
}
