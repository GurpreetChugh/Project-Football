{
 "cells": [
  {
   "cell_type": "code",
   "execution_count": 1,
<<<<<<< HEAD
<<<<<<< HEAD
=======
   "id": "85b4dfba",
>>>>>>> 30cf5622458eb4d13bd0670c1bb38c0eebb5c938
=======
   "id": "85b4dfba",
>>>>>>> 08b62925cdd7d6df0b91987c59c6638925c20689
   "metadata": {},
   "outputs": [],
   "source": [
    "# Import Dependencies\n",
    "import pandas as pd\n",
    "import numpy as np\n",
    "import matplotlib.pyplot as plt\n",
    "import scipy.stats as st\n",
    "from scipy.stats import linregress"
   ]
  },
  {
   "cell_type": "code",
   "execution_count": 2,
<<<<<<< HEAD
<<<<<<< HEAD
=======
   "id": "946747e3",
>>>>>>> 30cf5622458eb4d13bd0670c1bb38c0eebb5c938
=======
   "id": "946747e3",
>>>>>>> 08b62925cdd7d6df0b91987c59c6638925c20689
   "metadata": {},
   "outputs": [],
   "source": [
    "# File to Load \n",
    "sum_table = \"EPL_all_seasons_sum.csv\"\n",
    "matches_table = \"EPL_all_seasons_matches.csv\"\n",
    "\n",
    "# Read csv files and store into Pandas DataFrames\n",
    "sum_df = pd.read_csv(sum_table, index_col=0)\n",
    "matches_df = pd.read_csv(matches_table, index_col=0)"
   ]
  },
  {
   "cell_type": "code",
   "execution_count": 3,
<<<<<<< HEAD
<<<<<<< HEAD
=======
   "id": "eeb06503",
>>>>>>> 30cf5622458eb4d13bd0670c1bb38c0eebb5c938
=======
   "id": "eeb06503",
>>>>>>> 08b62925cdd7d6df0b91987c59c6638925c20689
   "metadata": {},
   "outputs": [
    {
     "name": "stdout",
     "output_type": "stream",
     "text": [
      "<class 'pandas.core.frame.DataFrame'>\n",
      "Int64Index: 1900 entries, 0 to 447\n",
      "Data columns (total 15 columns):\n",
      " #   Column       Non-Null Count  Dtype  \n",
      "---  ------       --------------  -----  \n",
      " 0   Season       1900 non-null   object \n",
      " 1   Wk           1900 non-null   float64\n",
      " 2   Date         1900 non-null   object \n",
      " 3   Time         1900 non-null   object \n",
      " 4   Home         1900 non-null   object \n",
      " 5   Away         1900 non-null   object \n",
      " 6   Home Score   1900 non-null   int64  \n",
      " 7   Away Score   1900 non-null   int64  \n",
      " 8   xG Home      1900 non-null   float64\n",
      " 9   xG Away      1900 non-null   float64\n",
      " 10  Attendance   1460 non-null   float64\n",
      " 11  Venue        1900 non-null   object \n",
      " 12  Referee      1900 non-null   object \n",
      " 13  xG Diff      1900 non-null   float64\n",
      " 14  Actual Diff  1900 non-null   float64\n",
      "dtypes: float64(6), int64(2), object(7)\n",
      "memory usage: 237.5+ KB\n"
     ]
    }
   ],
   "source": [
    "matches_df.info()"
   ]
  },
  {
   "cell_type": "code",
   "execution_count": 4,
<<<<<<< HEAD
<<<<<<< HEAD
=======
   "id": "c8ae9574",
>>>>>>> 30cf5622458eb4d13bd0670c1bb38c0eebb5c938
=======
   "id": "c8ae9574",
>>>>>>> 08b62925cdd7d6df0b91987c59c6638925c20689
   "metadata": {},
   "outputs": [
    {
     "name": "stdout",
     "output_type": "stream",
     "text": [
      "<class 'pandas.core.frame.DataFrame'>\n",
      "Int64Index: 1460 entries, 0 to 447\n",
      "Data columns (total 15 columns):\n",
      " #   Column       Non-Null Count  Dtype  \n",
      "---  ------       --------------  -----  \n",
      " 0   Season       1460 non-null   object \n",
      " 1   Wk           1460 non-null   float64\n",
      " 2   Date         1460 non-null   object \n",
      " 3   Time         1460 non-null   object \n",
      " 4   Home         1460 non-null   object \n",
      " 5   Away         1460 non-null   object \n",
      " 6   Home Score   1460 non-null   int64  \n",
      " 7   Away Score   1460 non-null   int64  \n",
      " 8   xG Home      1460 non-null   float64\n",
      " 9   xG Away      1460 non-null   float64\n",
      " 10  Attendance   1460 non-null   float64\n",
      " 11  Venue        1460 non-null   object \n",
      " 12  Referee      1460 non-null   object \n",
      " 13  xG Diff      1460 non-null   float64\n",
      " 14  Actual Diff  1460 non-null   float64\n",
      "dtypes: float64(6), int64(2), object(7)\n",
      "memory usage: 182.5+ KB\n"
     ]
    }
   ],
   "source": [
    "# Get matches where fans were present\n",
    "attendance_df = matches_df.loc[matches_df[\"Attendance\"] > 1, :]\n",
    "attendance_df.info()"
   ]
  },
  {
   "cell_type": "code",
   "execution_count": 5,
<<<<<<< HEAD
<<<<<<< HEAD
=======
   "id": "18d1de70",
>>>>>>> 30cf5622458eb4d13bd0670c1bb38c0eebb5c938
=======
   "id": "18d1de70",
>>>>>>> 08b62925cdd7d6df0b91987c59c6638925c20689
   "metadata": {},
   "outputs": [
    {
     "data": {
      "text/plain": [
       "663"
      ]
     },
     "execution_count": 5,
     "metadata": {},
     "output_type": "execute_result"
    }
   ],
   "source": [
    "# Get matches where home team won\n",
    "home_wins_df = attendance_df.loc[attendance_df[\"Home Score\"] > attendance_df[\"Away Score\"], :]\n",
    "len(home_wins_df)"
   ]
  },
  {
   "cell_type": "code",
   "execution_count": 6,
<<<<<<< HEAD
<<<<<<< HEAD
=======
   "id": "3a483b37",
>>>>>>> 30cf5622458eb4d13bd0670c1bb38c0eebb5c938
=======
   "id": "3a483b37",
>>>>>>> 08b62925cdd7d6df0b91987c59c6638925c20689
   "metadata": {},
   "outputs": [
    {
     "data": {
      "text/plain": [
       "463"
      ]
     },
     "execution_count": 6,
     "metadata": {},
     "output_type": "execute_result"
    }
   ],
   "source": [
    "# Get matches where away team won\n",
    "away_wins_df = attendance_df.loc[attendance_df[\"Home Score\"] < attendance_df[\"Away Score\"], :]\n",
    "len(away_wins_df)"
   ]
  },
  {
   "cell_type": "code",
   "execution_count": 7,
<<<<<<< HEAD
<<<<<<< HEAD
=======
   "id": "54ea694d",
>>>>>>> 30cf5622458eb4d13bd0670c1bb38c0eebb5c938
=======
   "id": "54ea694d",
>>>>>>> 08b62925cdd7d6df0b91987c59c6638925c20689
   "metadata": {},
   "outputs": [
    {
     "data": {
      "text/plain": [
       "334"
      ]
     },
     "execution_count": 7,
     "metadata": {},
     "output_type": "execute_result"
    }
   ],
   "source": [
    "# Get matches that ended in a draw\n",
    "draws_df = attendance_df.loc[attendance_df[\"Home Score\"] == attendance_df[\"Away Score\"], :]\n",
    "len(draws_df)"
   ]
  },
  {
   "cell_type": "code",
   "execution_count": 8,
<<<<<<< HEAD
<<<<<<< HEAD
=======
   "id": "7e72c858",
>>>>>>> 30cf5622458eb4d13bd0670c1bb38c0eebb5c938
=======
   "id": "7e72c858",
>>>>>>> 08b62925cdd7d6df0b91987c59c6638925c20689
   "metadata": {},
   "outputs": [
    {
     "data": {
      "image/png": "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\n",
      "text/plain": [
       "<Figure size 640x480 with 1 Axes>"
      ]
     },
     "metadata": {},
     "output_type": "display_data"
    }
   ],
   "source": [
    "# Calculate % occurance of win/loss/draw\n",
    "home_win_pct = (663/1460)\n",
    "away_win_pct = (463/1460)\n",
    "draw_pct = (334/1460)\n",
    "\n",
    "# Generate pie chart to display results\n",
    "labels =  ['Home Wins', 'Away Wins', 'Draws']\n",
    "values = home_win_pct, away_win_pct, draw_pct \n",
    "\n",
    "plt.title(\"EPL Match Outcomes 2018, 2019, 2020, & 2022\")\n",
    "plt.pie(values, labels=labels ,autopct='%1.1f%%')\n",
    "plt.show()"
   ]
  },
  {
   "cell_type": "code",
   "execution_count": 9,
<<<<<<< HEAD
<<<<<<< HEAD
=======
   "id": "9893afe9",
>>>>>>> 30cf5622458eb4d13bd0670c1bb38c0eebb5c938
=======
   "id": "9893afe9",
>>>>>>> 08b62925cdd7d6df0b91987c59c6638925c20689
   "metadata": {},
   "outputs": [
    {
     "name": "stdout",
     "output_type": "stream",
     "text": [
      "<class 'pandas.core.frame.DataFrame'>\n",
      "Int64Index: 0 entries\n",
      "Data columns (total 15 columns):\n",
      " #   Column       Non-Null Count  Dtype  \n",
      "---  ------       --------------  -----  \n",
      " 0   Season       0 non-null      object \n",
      " 1   Wk           0 non-null      float64\n",
      " 2   Date         0 non-null      object \n",
      " 3   Time         0 non-null      object \n",
      " 4   Home         0 non-null      object \n",
      " 5   Away         0 non-null      object \n",
      " 6   Home Score   0 non-null      int64  \n",
      " 7   Away Score   0 non-null      int64  \n",
      " 8   xG Home      0 non-null      float64\n",
      " 9   xG Away      0 non-null      float64\n",
      " 10  Attendance   0 non-null      float64\n",
      " 11  Venue        0 non-null      object \n",
      " 12  Referee      0 non-null      object \n",
      " 13  xG Diff      0 non-null      float64\n",
      " 14  Actual Diff  0 non-null      float64\n",
      "dtypes: float64(6), int64(2), object(7)\n",
      "memory usage: 0.0+ bytes\n"
     ]
    }
   ],
   "source": [
    "# Get matches where attendance was 0 \n",
    "covid_season_df = matches_df.loc[matches_df[\"Attendance\"] == '2020-2021', :]\n",
    "covid_season_df.info()"
   ]
  },
  {
   "cell_type": "code",
   "execution_count": 10,
<<<<<<< HEAD
<<<<<<< HEAD
=======
   "id": "cdd0563d",
>>>>>>> 30cf5622458eb4d13bd0670c1bb38c0eebb5c938
=======
   "id": "cdd0563d",
>>>>>>> 08b62925cdd7d6df0b91987c59c6638925c20689
   "metadata": {},
   "outputs": [
    {
     "data": {
      "text/plain": [
       "0"
      ]
     },
     "execution_count": 10,
     "metadata": {},
     "output_type": "execute_result"
    }
   ],
   "source": [
    "# Get matches where home team won during 2020-2021 season\n",
    "home_wins_21_df = covid_season_df.loc[covid_season_df[\"Home Score\"] > covid_season_df[\"Away Score\"], :]\n",
    "len(home_wins_21_df)"
   ]
  },
  {
   "cell_type": "code",
   "execution_count": 11,
<<<<<<< HEAD
<<<<<<< HEAD
=======
   "id": "563c3f87",
>>>>>>> 30cf5622458eb4d13bd0670c1bb38c0eebb5c938
=======
   "id": "563c3f87",
>>>>>>> 08b62925cdd7d6df0b91987c59c6638925c20689
   "metadata": {},
   "outputs": [
    {
     "data": {
      "text/plain": [
       "0"
      ]
     },
     "execution_count": 11,
     "metadata": {},
     "output_type": "execute_result"
    }
   ],
   "source": [
    "# Get matches where away team won during 2020-2021 season\n",
    "away_wins_21_df = covid_season_df.loc[covid_season_df[\"Home Score\"] < covid_season_df[\"Away Score\"], :]\n",
    "len(away_wins_21_df)"
   ]
  },
  {
   "cell_type": "code",
   "execution_count": 12,
<<<<<<< HEAD
<<<<<<< HEAD
=======
   "id": "925c88f6",
>>>>>>> 30cf5622458eb4d13bd0670c1bb38c0eebb5c938
=======
   "id": "925c88f6",
>>>>>>> 08b62925cdd7d6df0b91987c59c6638925c20689
   "metadata": {},
   "outputs": [
    {
     "data": {
      "text/plain": [
       "0"
      ]
     },
     "execution_count": 12,
     "metadata": {},
     "output_type": "execute_result"
    }
   ],
   "source": [
    "# Get matches where home team won during 2020-2021 season\n",
    "draws_21_df = covid_season_df.loc[covid_season_df[\"Home Score\"] == covid_season_df[\"Away Score\"], :]\n",
    "len(draws_21_df)"
   ]
  },
  {
   "cell_type": "code",
   "execution_count": 13,
<<<<<<< HEAD
<<<<<<< HEAD
=======
   "id": "5373273b",
>>>>>>> 30cf5622458eb4d13bd0670c1bb38c0eebb5c938
=======
   "id": "5373273b",
>>>>>>> 08b62925cdd7d6df0b91987c59c6638925c20689
   "metadata": {},
   "outputs": [
    {
     "data": {
      "image/png": "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\n",
      "text/plain": [
       "<Figure size 640x480 with 1 Axes>"
      ]
     },
     "metadata": {},
     "output_type": "display_data"
    }
   ],
   "source": [
    "# Calculate % occurance of win/loss/draw\n",
    "home_win_pct_21 = (144/380)\n",
    "away_win_pct_21 = (153/380)\n",
    "draw_pct_21 = (83/380)\n",
    "\n",
    "# Generate pie chart to display results\n",
    "labels =  ['Home Wins', 'Away Wins', 'Draws']\n",
    "values = home_win_pct_21, away_win_pct_21, draw_pct_21 \n",
    "\n",
    "plt.title(\"EPL Match Outcomes During 2020-2021 COVID Season\")\n",
    "plt.pie(values, labels=labels ,autopct='%1.1f%%')\n",
    "plt.show()"
   ]
  },
  {
   "cell_type": "code",
   "execution_count": 14,
<<<<<<< HEAD
<<<<<<< HEAD
=======
   "id": "750e954f",
>>>>>>> 30cf5622458eb4d13bd0670c1bb38c0eebb5c938
=======
   "id": "750e954f",
>>>>>>> 08b62925cdd7d6df0b91987c59c6638925c20689
   "metadata": {},
   "outputs": [
    {
     "data": {
      "text/html": [
       "<div>\n",
       "<style scoped>\n",
       "    .dataframe tbody tr th:only-of-type {\n",
       "        vertical-align: middle;\n",
       "    }\n",
       "\n",
       "    .dataframe tbody tr th {\n",
       "        vertical-align: top;\n",
       "    }\n",
       "\n",
       "    .dataframe thead th {\n",
       "        text-align: right;\n",
       "    }\n",
       "</style>\n",
       "<table border=\"1\" class=\"dataframe\">\n",
       "  <thead>\n",
       "    <tr style=\"text-align: right;\">\n",
       "      <th></th>\n",
       "      <th>Season</th>\n",
       "      <th>League Rank</th>\n",
       "      <th>Squad</th>\n",
       "      <th># of Players</th>\n",
       "      <th>Avg Age</th>\n",
       "      <th>Avg Poss</th>\n",
       "      <th>MP</th>\n",
       "      <th>W</th>\n",
       "      <th>D</th>\n",
       "      <th>L</th>\n",
       "      <th>...</th>\n",
       "      <th>GA</th>\n",
       "      <th>GD</th>\n",
       "      <th>Pts</th>\n",
       "      <th>Pts/MP</th>\n",
       "      <th>xG</th>\n",
       "      <th>xGA</th>\n",
       "      <th>xGD</th>\n",
       "      <th>xGD/90</th>\n",
       "      <th>Attendance</th>\n",
       "      <th>Annual Wages ($)</th>\n",
       "    </tr>\n",
       "  </thead>\n",
       "  <tbody>\n",
       "    <tr>\n",
       "      <th>0</th>\n",
       "      <td>2017-2018</td>\n",
       "      <td>1</td>\n",
       "      <td>Manchester City</td>\n",
       "      <td>32</td>\n",
       "      <td>26.4</td>\n",
       "      <td>71.0</td>\n",
       "      <td>38</td>\n",
       "      <td>32</td>\n",
       "      <td>4</td>\n",
       "      <td>2</td>\n",
       "      <td>...</td>\n",
       "      <td>27</td>\n",
       "      <td>79</td>\n",
       "      <td>100</td>\n",
       "      <td>2.63</td>\n",
       "      <td>78.6</td>\n",
       "      <td>23.8</td>\n",
       "      <td>54.8</td>\n",
       "      <td>1.44</td>\n",
       "      <td>54070</td>\n",
       "      <td>184103578.0</td>\n",
       "    </tr>\n",
       "    <tr>\n",
       "      <th>1</th>\n",
       "      <td>2017-2018</td>\n",
       "      <td>2</td>\n",
       "      <td>Manchester Utd</td>\n",
       "      <td>35</td>\n",
       "      <td>26.7</td>\n",
       "      <td>54.7</td>\n",
       "      <td>38</td>\n",
       "      <td>25</td>\n",
       "      <td>6</td>\n",
       "      <td>7</td>\n",
       "      <td>...</td>\n",
       "      <td>28</td>\n",
       "      <td>40</td>\n",
       "      <td>81</td>\n",
       "      <td>2.13</td>\n",
       "      <td>55.7</td>\n",
       "      <td>40.7</td>\n",
       "      <td>15.0</td>\n",
       "      <td>0.40</td>\n",
       "      <td>74976</td>\n",
       "      <td>201934520.0</td>\n",
       "    </tr>\n",
       "    <tr>\n",
       "      <th>2</th>\n",
       "      <td>2017-2018</td>\n",
       "      <td>3</td>\n",
       "      <td>Tottenham</td>\n",
       "      <td>34</td>\n",
       "      <td>25.8</td>\n",
       "      <td>61.8</td>\n",
       "      <td>38</td>\n",
       "      <td>23</td>\n",
       "      <td>8</td>\n",
       "      <td>7</td>\n",
       "      <td>...</td>\n",
       "      <td>36</td>\n",
       "      <td>38</td>\n",
       "      <td>77</td>\n",
       "      <td>2.03</td>\n",
       "      <td>64.7</td>\n",
       "      <td>33.9</td>\n",
       "      <td>30.8</td>\n",
       "      <td>0.81</td>\n",
       "      <td>67953</td>\n",
       "      <td>97579832.0</td>\n",
       "    </tr>\n",
       "    <tr>\n",
       "      <th>3</th>\n",
       "      <td>2017-2018</td>\n",
       "      <td>4</td>\n",
       "      <td>Liverpool</td>\n",
       "      <td>34</td>\n",
       "      <td>25.6</td>\n",
       "      <td>60.3</td>\n",
       "      <td>38</td>\n",
       "      <td>21</td>\n",
       "      <td>12</td>\n",
       "      <td>5</td>\n",
       "      <td>...</td>\n",
       "      <td>38</td>\n",
       "      <td>46</td>\n",
       "      <td>75</td>\n",
       "      <td>1.97</td>\n",
       "      <td>72.9</td>\n",
       "      <td>33.8</td>\n",
       "      <td>39.1</td>\n",
       "      <td>1.03</td>\n",
       "      <td>53049</td>\n",
       "      <td>116263857.0</td>\n",
       "    </tr>\n",
       "    <tr>\n",
       "      <th>4</th>\n",
       "      <td>2017-2018</td>\n",
       "      <td>5</td>\n",
       "      <td>Chelsea</td>\n",
       "      <td>45</td>\n",
       "      <td>26.7</td>\n",
       "      <td>55.6</td>\n",
       "      <td>38</td>\n",
       "      <td>21</td>\n",
       "      <td>7</td>\n",
       "      <td>10</td>\n",
       "      <td>...</td>\n",
       "      <td>38</td>\n",
       "      <td>24</td>\n",
       "      <td>70</td>\n",
       "      <td>1.84</td>\n",
       "      <td>54.4</td>\n",
       "      <td>33.8</td>\n",
       "      <td>20.6</td>\n",
       "      <td>0.54</td>\n",
       "      <td>41282</td>\n",
       "      <td>147846240.0</td>\n",
       "    </tr>\n",
       "    <tr>\n",
       "      <th>...</th>\n",
       "      <td>...</td>\n",
       "      <td>...</td>\n",
       "      <td>...</td>\n",
       "      <td>...</td>\n",
       "      <td>...</td>\n",
       "      <td>...</td>\n",
       "      <td>...</td>\n",
       "      <td>...</td>\n",
       "      <td>...</td>\n",
       "      <td>...</td>\n",
       "      <td>...</td>\n",
       "      <td>...</td>\n",
       "      <td>...</td>\n",
       "      <td>...</td>\n",
       "      <td>...</td>\n",
       "      <td>...</td>\n",
       "      <td>...</td>\n",
       "      <td>...</td>\n",
       "      <td>...</td>\n",
       "      <td>...</td>\n",
       "      <td>...</td>\n",
       "    </tr>\n",
       "    <tr>\n",
       "      <th>95</th>\n",
       "      <td>2021-2022</td>\n",
       "      <td>16</td>\n",
       "      <td>Everton</td>\n",
       "      <td>86</td>\n",
       "      <td>26.7</td>\n",
       "      <td>40.0</td>\n",
       "      <td>38</td>\n",
       "      <td>11</td>\n",
       "      <td>6</td>\n",
       "      <td>21</td>\n",
       "      <td>...</td>\n",
       "      <td>66</td>\n",
       "      <td>-23</td>\n",
       "      <td>39</td>\n",
       "      <td>1.03</td>\n",
       "      <td>41.2</td>\n",
       "      <td>55.4</td>\n",
       "      <td>-14.2</td>\n",
       "      <td>-0.37</td>\n",
       "      <td>38446</td>\n",
       "      <td>112648575.0</td>\n",
       "    </tr>\n",
       "    <tr>\n",
       "      <th>96</th>\n",
       "      <td>2021-2022</td>\n",
       "      <td>17</td>\n",
       "      <td>Leeds United</td>\n",
       "      <td>70</td>\n",
       "      <td>26.1</td>\n",
       "      <td>52.3</td>\n",
       "      <td>38</td>\n",
       "      <td>9</td>\n",
       "      <td>11</td>\n",
       "      <td>18</td>\n",
       "      <td>...</td>\n",
       "      <td>79</td>\n",
       "      <td>-37</td>\n",
       "      <td>38</td>\n",
       "      <td>1.00</td>\n",
       "      <td>44.4</td>\n",
       "      <td>67.8</td>\n",
       "      <td>-23.5</td>\n",
       "      <td>-0.62</td>\n",
       "      <td>36308</td>\n",
       "      <td>28934417.0</td>\n",
       "    </tr>\n",
       "    <tr>\n",
       "      <th>97</th>\n",
       "      <td>2021-2022</td>\n",
       "      <td>18</td>\n",
       "      <td>Burnley</td>\n",
       "      <td>72</td>\n",
       "      <td>28.5</td>\n",
       "      <td>40.2</td>\n",
       "      <td>38</td>\n",
       "      <td>7</td>\n",
       "      <td>14</td>\n",
       "      <td>17</td>\n",
       "      <td>...</td>\n",
       "      <td>53</td>\n",
       "      <td>-19</td>\n",
       "      <td>35</td>\n",
       "      <td>0.92</td>\n",
       "      <td>39.7</td>\n",
       "      <td>57.1</td>\n",
       "      <td>-17.4</td>\n",
       "      <td>-0.46</td>\n",
       "      <td>19278</td>\n",
       "      <td>48025544.0</td>\n",
       "    </tr>\n",
       "    <tr>\n",
       "      <th>98</th>\n",
       "      <td>2021-2022</td>\n",
       "      <td>19</td>\n",
       "      <td>Watford</td>\n",
       "      <td>88</td>\n",
       "      <td>28.4</td>\n",
       "      <td>40.7</td>\n",
       "      <td>38</td>\n",
       "      <td>6</td>\n",
       "      <td>5</td>\n",
       "      <td>27</td>\n",
       "      <td>...</td>\n",
       "      <td>77</td>\n",
       "      <td>-43</td>\n",
       "      <td>23</td>\n",
       "      <td>0.61</td>\n",
       "      <td>40.0</td>\n",
       "      <td>64.5</td>\n",
       "      <td>-24.5</td>\n",
       "      <td>-0.64</td>\n",
       "      <td>20614</td>\n",
       "      <td>50285851.0</td>\n",
       "    </tr>\n",
       "    <tr>\n",
       "      <th>99</th>\n",
       "      <td>2021-2022</td>\n",
       "      <td>20</td>\n",
       "      <td>Norwich City</td>\n",
       "      <td>82</td>\n",
       "      <td>26.2</td>\n",
       "      <td>42.9</td>\n",
       "      <td>38</td>\n",
       "      <td>5</td>\n",
       "      <td>7</td>\n",
       "      <td>26</td>\n",
       "      <td>...</td>\n",
       "      <td>84</td>\n",
       "      <td>-61</td>\n",
       "      <td>22</td>\n",
       "      <td>0.58</td>\n",
       "      <td>32.3</td>\n",
       "      <td>75.5</td>\n",
       "      <td>-43.2</td>\n",
       "      <td>-1.14</td>\n",
       "      <td>26836</td>\n",
       "      <td>38060731.0</td>\n",
       "    </tr>\n",
       "  </tbody>\n",
       "</table>\n",
       "<p>100 rows × 21 columns</p>\n",
       "</div>"
      ],
      "text/plain": [
       "       Season  League Rank            Squad  # of Players  Avg Age  Avg Poss  \\\n",
       "0   2017-2018            1  Manchester City            32     26.4      71.0   \n",
       "1   2017-2018            2   Manchester Utd            35     26.7      54.7   \n",
       "2   2017-2018            3        Tottenham            34     25.8      61.8   \n",
       "3   2017-2018            4        Liverpool            34     25.6      60.3   \n",
       "4   2017-2018            5          Chelsea            45     26.7      55.6   \n",
       "..        ...          ...              ...           ...      ...       ...   \n",
       "95  2021-2022           16          Everton            86     26.7      40.0   \n",
       "96  2021-2022           17     Leeds United            70     26.1      52.3   \n",
       "97  2021-2022           18          Burnley            72     28.5      40.2   \n",
       "98  2021-2022           19          Watford            88     28.4      40.7   \n",
       "99  2021-2022           20     Norwich City            82     26.2      42.9   \n",
       "\n",
       "    MP   W   D   L  ...  GA  GD  Pts  Pts/MP    xG   xGA   xGD  xGD/90  \\\n",
       "0   38  32   4   2  ...  27  79  100    2.63  78.6  23.8  54.8    1.44   \n",
       "1   38  25   6   7  ...  28  40   81    2.13  55.7  40.7  15.0    0.40   \n",
       "2   38  23   8   7  ...  36  38   77    2.03  64.7  33.9  30.8    0.81   \n",
       "3   38  21  12   5  ...  38  46   75    1.97  72.9  33.8  39.1    1.03   \n",
       "4   38  21   7  10  ...  38  24   70    1.84  54.4  33.8  20.6    0.54   \n",
       "..  ..  ..  ..  ..  ...  ..  ..  ...     ...   ...   ...   ...     ...   \n",
       "95  38  11   6  21  ...  66 -23   39    1.03  41.2  55.4 -14.2   -0.37   \n",
       "96  38   9  11  18  ...  79 -37   38    1.00  44.4  67.8 -23.5   -0.62   \n",
       "97  38   7  14  17  ...  53 -19   35    0.92  39.7  57.1 -17.4   -0.46   \n",
       "98  38   6   5  27  ...  77 -43   23    0.61  40.0  64.5 -24.5   -0.64   \n",
       "99  38   5   7  26  ...  84 -61   22    0.58  32.3  75.5 -43.2   -1.14   \n",
       "\n",
       "    Attendance  Annual Wages ($)  \n",
       "0        54070       184103578.0  \n",
       "1        74976       201934520.0  \n",
       "2        67953        97579832.0  \n",
       "3        53049       116263857.0  \n",
       "4        41282       147846240.0  \n",
       "..         ...               ...  \n",
       "95       38446       112648575.0  \n",
       "96       36308        28934417.0  \n",
       "97       19278        48025544.0  \n",
       "98       20614        50285851.0  \n",
       "99       26836        38060731.0  \n",
       "\n",
       "[100 rows x 21 columns]"
      ]
     },
     "execution_count": 14,
     "metadata": {},
     "output_type": "execute_result"
    }
   ],
   "source": [
    "sum_df"
   ]
  },
  {
   "cell_type": "code",
   "execution_count": 15,
<<<<<<< HEAD
<<<<<<< HEAD
=======
   "id": "312f9e92",
>>>>>>> 30cf5622458eb4d13bd0670c1bb38c0eebb5c938
=======
   "id": "312f9e92",
>>>>>>> 08b62925cdd7d6df0b91987c59c6638925c20689
   "metadata": {},
   "outputs": [],
   "source": [
    "# Groupby team name & get mean for all relevant variables\n",
    "squads_grouped = sum_df.groupby(['Squad'])\n",
    "\n",
    "mean_age = squads_grouped['Avg Age'].mean()\n",
    "mean_wages = squads_grouped['Annual Wages ($)'].mean()\n",
    "mean_poss = squads_grouped['Avg Poss'].mean()\n",
    "mean_attendance = squads_grouped['Attendance'].mean()\n",
    "mean_pts = squads_grouped['Pts'].mean()\n",
    "mean_GF = squads_grouped['GF'].mean()\n",
    "mean_GA = squads_grouped['GA'].mean()\n",
    "mean_xG = squads_grouped['xG'].mean()\n",
    "mean_xGA = squads_grouped['xGA'].mean()\n",
    "mean_xGD = squads_grouped['xGD'].mean()\n",
    "mean_GD = squads_grouped['GD'].mean()"
   ]
  },
  {
   "cell_type": "code",
   "execution_count": 16,
<<<<<<< HEAD
<<<<<<< HEAD
=======
   "id": "0dfcda57",
>>>>>>> 30cf5622458eb4d13bd0670c1bb38c0eebb5c938
=======
   "id": "0dfcda57",
>>>>>>> 08b62925cdd7d6df0b91987c59c6638925c20689
   "metadata": {},
   "outputs": [],
   "source": [
    "# Create dict to hold variables\n",
    "mean_EPL_sum ={\n",
    "    \"Age\": mean_age,\n",
    "    \"Possession\": mean_poss,\n",
    "    \"Attendance\": mean_attendance,\n",
    "    \"Points\": mean_pts,\n",
    "    \"Goals For\": mean_GF,\n",
    "    \"Goals Against\": mean_GA,\n",
    "    \"xGoals For\": mean_xG,\n",
    "    \"xGoals Against\": mean_xGA,\n",
    "    \"Goal Differential\": mean_GD,\n",
    "    \"xGoal Differential\": mean_xGD,\n",
    "    \"Avg Wages\": mean_wages}\n",
    "\n",
    "# Create new df from dict\n",
    "mean_EPL_sum_df = pd.DataFrame(mean_EPL_sum)"
   ]
  },
  {
   "cell_type": "code",
   "execution_count": 17,
<<<<<<< HEAD
<<<<<<< HEAD
=======
   "id": "875f1f84",
>>>>>>> 30cf5622458eb4d13bd0670c1bb38c0eebb5c938
=======
   "id": "875f1f84",
>>>>>>> 08b62925cdd7d6df0b91987c59c6638925c20689
   "metadata": {},
   "outputs": [
    {
     "data": {
      "text/html": [
       "<div>\n",
       "<style scoped>\n",
       "    .dataframe tbody tr th:only-of-type {\n",
       "        vertical-align: middle;\n",
       "    }\n",
       "\n",
       "    .dataframe tbody tr th {\n",
       "        vertical-align: top;\n",
       "    }\n",
       "\n",
       "    .dataframe thead th {\n",
       "        text-align: right;\n",
       "    }\n",
       "</style>\n",
       "<table border=\"1\" class=\"dataframe\">\n",
       "  <thead>\n",
       "    <tr style=\"text-align: right;\">\n",
       "      <th></th>\n",
       "      <th>Age</th>\n",
       "      <th>Possession</th>\n",
       "      <th>Attendance</th>\n",
       "      <th>Points</th>\n",
       "      <th>Goals For</th>\n",
       "      <th>Goals Against</th>\n",
       "      <th>xGoals For</th>\n",
       "      <th>xGoals Against</th>\n",
       "      <th>Goal Differential</th>\n",
       "      <th>xGoal Differential</th>\n",
       "      <th>Avg Wages</th>\n",
       "    </tr>\n",
       "    <tr>\n",
       "      <th>Squad</th>\n",
       "      <th></th>\n",
       "      <th></th>\n",
       "      <th></th>\n",
       "      <th></th>\n",
       "      <th></th>\n",
       "      <th></th>\n",
       "      <th></th>\n",
       "      <th></th>\n",
       "      <th></th>\n",
       "      <th></th>\n",
       "      <th></th>\n",
       "    </tr>\n",
       "  </thead>\n",
       "  <tbody>\n",
       "    <tr>\n",
       "      <th>Arsenal</th>\n",
       "      <td>25.92</td>\n",
       "      <td>55.92</td>\n",
       "      <td>45421.60</td>\n",
       "      <td>63.8</td>\n",
       "      <td>63.80</td>\n",
       "      <td>47.40</td>\n",
       "      <td>57.54</td>\n",
       "      <td>49.20</td>\n",
       "      <td>16.40</td>\n",
       "      <td>8.36</td>\n",
       "      <td>1.638060e+08</td>\n",
       "    </tr>\n",
       "    <tr>\n",
       "      <th>Aston Villa</th>\n",
       "      <td>25.67</td>\n",
       "      <td>46.37</td>\n",
       "      <td>23570.67</td>\n",
       "      <td>45.0</td>\n",
       "      <td>49.33</td>\n",
       "      <td>55.67</td>\n",
       "      <td>46.93</td>\n",
       "      <td>55.97</td>\n",
       "      <td>-6.33</td>\n",
       "      <td>-9.00</td>\n",
       "      <td>7.483860e+07</td>\n",
       "    </tr>\n",
       "    <tr>\n",
       "      <th>Bournemouth</th>\n",
       "      <td>26.23</td>\n",
       "      <td>46.37</td>\n",
       "      <td>9639.33</td>\n",
       "      <td>41.0</td>\n",
       "      <td>47.00</td>\n",
       "      <td>65.33</td>\n",
       "      <td>45.63</td>\n",
       "      <td>59.57</td>\n",
       "      <td>-18.33</td>\n",
       "      <td>-13.93</td>\n",
       "      <td>5.594109e+07</td>\n",
       "    </tr>\n",
       "    <tr>\n",
       "      <th>Brentford</th>\n",
       "      <td>25.40</td>\n",
       "      <td>44.80</td>\n",
       "      <td>16918.00</td>\n",
       "      <td>46.0</td>\n",
       "      <td>48.00</td>\n",
       "      <td>56.00</td>\n",
       "      <td>45.80</td>\n",
       "      <td>48.50</td>\n",
       "      <td>-8.00</td>\n",
       "      <td>-2.70</td>\n",
       "      <td>2.567763e+07</td>\n",
       "    </tr>\n",
       "    <tr>\n",
       "      <th>Brighton</th>\n",
       "      <td>26.66</td>\n",
       "      <td>48.76</td>\n",
       "      <td>22937.40</td>\n",
       "      <td>41.8</td>\n",
       "      <td>38.00</td>\n",
       "      <td>51.60</td>\n",
       "      <td>42.96</td>\n",
       "      <td>48.62</td>\n",
       "      <td>-13.60</td>\n",
       "      <td>-5.64</td>\n",
       "      <td>5.577839e+07</td>\n",
       "    </tr>\n",
       "    <tr>\n",
       "      <th>Burnley</th>\n",
       "      <td>28.06</td>\n",
       "      <td>41.82</td>\n",
       "      <td>15334.60</td>\n",
       "      <td>44.4</td>\n",
       "      <td>38.20</td>\n",
       "      <td>53.00</td>\n",
       "      <td>40.62</td>\n",
       "      <td>54.98</td>\n",
       "      <td>-14.80</td>\n",
       "      <td>-14.36</td>\n",
       "      <td>4.801607e+07</td>\n",
       "    </tr>\n",
       "    <tr>\n",
       "      <th>Cardiff City</th>\n",
       "      <td>27.70</td>\n",
       "      <td>35.40</td>\n",
       "      <td>31408.00</td>\n",
       "      <td>34.0</td>\n",
       "      <td>34.00</td>\n",
       "      <td>69.00</td>\n",
       "      <td>42.40</td>\n",
       "      <td>61.50</td>\n",
       "      <td>-35.00</td>\n",
       "      <td>-19.10</td>\n",
       "      <td>4.009015e+07</td>\n",
       "    </tr>\n",
       "    <tr>\n",
       "      <th>Chelsea</th>\n",
       "      <td>26.58</td>\n",
       "      <td>60.32</td>\n",
       "      <td>30142.20</td>\n",
       "      <td>69.8</td>\n",
       "      <td>65.60</td>\n",
       "      <td>40.00</td>\n",
       "      <td>61.60</td>\n",
       "      <td>34.46</td>\n",
       "      <td>25.60</td>\n",
       "      <td>27.14</td>\n",
       "      <td>1.756046e+08</td>\n",
       "    </tr>\n",
       "    <tr>\n",
       "      <th>Crystal Palace</th>\n",
       "      <td>28.02</td>\n",
       "      <td>45.38</td>\n",
       "      <td>19067.40</td>\n",
       "      <td>45.6</td>\n",
       "      <td>43.60</td>\n",
       "      <td>54.00</td>\n",
       "      <td>43.48</td>\n",
       "      <td>50.84</td>\n",
       "      <td>-10.40</td>\n",
       "      <td>-7.40</td>\n",
       "      <td>9.204499e+07</td>\n",
       "    </tr>\n",
       "    <tr>\n",
       "      <th>Everton</th>\n",
       "      <td>26.18</td>\n",
       "      <td>46.48</td>\n",
       "      <td>29100.40</td>\n",
       "      <td>50.0</td>\n",
       "      <td>46.40</td>\n",
       "      <td>54.80</td>\n",
       "      <td>45.58</td>\n",
       "      <td>50.38</td>\n",
       "      <td>-8.40</td>\n",
       "      <td>-4.82</td>\n",
       "      <td>1.078747e+08</td>\n",
       "    </tr>\n",
       "    <tr>\n",
       "      <th>Fulham</th>\n",
       "      <td>25.60</td>\n",
       "      <td>49.25</td>\n",
       "      <td>12291.00</td>\n",
       "      <td>27.0</td>\n",
       "      <td>30.50</td>\n",
       "      <td>67.00</td>\n",
       "      <td>40.90</td>\n",
       "      <td>60.40</td>\n",
       "      <td>-36.50</td>\n",
       "      <td>-19.45</td>\n",
       "      <td>6.263726e+07</td>\n",
       "    </tr>\n",
       "    <tr>\n",
       "      <th>Huddersfield</th>\n",
       "      <td>26.30</td>\n",
       "      <td>46.45</td>\n",
       "      <td>23621.50</td>\n",
       "      <td>26.5</td>\n",
       "      <td>25.00</td>\n",
       "      <td>67.00</td>\n",
       "      <td>30.05</td>\n",
       "      <td>54.70</td>\n",
       "      <td>-42.00</td>\n",
       "      <td>-24.70</td>\n",
       "      <td>3.689534e+07</td>\n",
       "    </tr>\n",
       "    <tr>\n",
       "      <th>Leeds United</th>\n",
       "      <td>26.10</td>\n",
       "      <td>54.80</td>\n",
       "      <td>18364.50</td>\n",
       "      <td>48.5</td>\n",
       "      <td>52.00</td>\n",
       "      <td>66.50</td>\n",
       "      <td>50.00</td>\n",
       "      <td>62.85</td>\n",
       "      <td>-14.50</td>\n",
       "      <td>-12.85</td>\n",
       "      <td>2.916312e+07</td>\n",
       "    </tr>\n",
       "    <tr>\n",
       "      <th>Leicester City</th>\n",
       "      <td>26.44</td>\n",
       "      <td>52.46</td>\n",
       "      <td>24332.00</td>\n",
       "      <td>55.8</td>\n",
       "      <td>60.80</td>\n",
       "      <td>51.60</td>\n",
       "      <td>53.64</td>\n",
       "      <td>48.52</td>\n",
       "      <td>9.20</td>\n",
       "      <td>5.12</td>\n",
       "      <td>8.978856e+07</td>\n",
       "    </tr>\n",
       "    <tr>\n",
       "      <th>Liverpool</th>\n",
       "      <td>26.56</td>\n",
       "      <td>61.96</td>\n",
       "      <td>40435.20</td>\n",
       "      <td>86.4</td>\n",
       "      <td>84.00</td>\n",
       "      <td>32.20</td>\n",
       "      <td>74.34</td>\n",
       "      <td>35.42</td>\n",
       "      <td>51.80</td>\n",
       "      <td>38.92</td>\n",
       "      <td>1.490675e+08</td>\n",
       "    </tr>\n",
       "    <tr>\n",
       "      <th>Manchester City</th>\n",
       "      <td>26.62</td>\n",
       "      <td>67.30</td>\n",
       "      <td>39719.40</td>\n",
       "      <td>91.6</td>\n",
       "      <td>97.00</td>\n",
       "      <td>28.60</td>\n",
       "      <td>82.36</td>\n",
       "      <td>27.90</td>\n",
       "      <td>68.40</td>\n",
       "      <td>54.42</td>\n",
       "      <td>1.799327e+08</td>\n",
       "    </tr>\n",
       "    <tr>\n",
       "      <th>Manchester Utd</th>\n",
       "      <td>26.12</td>\n",
       "      <td>54.72</td>\n",
       "      <td>56113.00</td>\n",
       "      <td>69.0</td>\n",
       "      <td>65.80</td>\n",
       "      <td>43.80</td>\n",
       "      <td>59.04</td>\n",
       "      <td>44.70</td>\n",
       "      <td>22.00</td>\n",
       "      <td>14.34</td>\n",
       "      <td>2.224331e+08</td>\n",
       "    </tr>\n",
       "    <tr>\n",
       "      <th>Newcastle Utd</th>\n",
       "      <td>26.72</td>\n",
       "      <td>40.06</td>\n",
       "      <td>38135.40</td>\n",
       "      <td>45.4</td>\n",
       "      <td>41.80</td>\n",
       "      <td>55.40</td>\n",
       "      <td>39.54</td>\n",
       "      <td>57.40</td>\n",
       "      <td>-13.60</td>\n",
       "      <td>-17.86</td>\n",
       "      <td>6.938670e+07</td>\n",
       "    </tr>\n",
       "    <tr>\n",
       "      <th>Norwich City</th>\n",
       "      <td>26.10</td>\n",
       "      <td>46.10</td>\n",
       "      <td>23374.50</td>\n",
       "      <td>21.5</td>\n",
       "      <td>24.50</td>\n",
       "      <td>79.50</td>\n",
       "      <td>34.65</td>\n",
       "      <td>71.00</td>\n",
       "      <td>-55.00</td>\n",
       "      <td>-36.35</td>\n",
       "      <td>3.494369e+07</td>\n",
       "    </tr>\n",
       "    <tr>\n",
       "      <th>Sheffield Utd</th>\n",
       "      <td>26.80</td>\n",
       "      <td>42.40</td>\n",
       "      <td>12316.50</td>\n",
       "      <td>38.5</td>\n",
       "      <td>29.50</td>\n",
       "      <td>51.00</td>\n",
       "      <td>37.80</td>\n",
       "      <td>56.60</td>\n",
       "      <td>-21.50</td>\n",
       "      <td>-18.75</td>\n",
       "      <td>2.689722e+07</td>\n",
       "    </tr>\n",
       "    <tr>\n",
       "      <th>Southampton</th>\n",
       "      <td>25.96</td>\n",
       "      <td>48.66</td>\n",
       "      <td>23004.20</td>\n",
       "      <td>42.0</td>\n",
       "      <td>44.60</td>\n",
       "      <td>63.20</td>\n",
       "      <td>45.78</td>\n",
       "      <td>53.24</td>\n",
       "      <td>-18.60</td>\n",
       "      <td>-7.44</td>\n",
       "      <td>7.385908e+07</td>\n",
       "    </tr>\n",
       "    <tr>\n",
       "      <th>Stoke City</th>\n",
       "      <td>27.50</td>\n",
       "      <td>41.40</td>\n",
       "      <td>29280.00</td>\n",
       "      <td>33.0</td>\n",
       "      <td>35.00</td>\n",
       "      <td>68.00</td>\n",
       "      <td>36.50</td>\n",
       "      <td>62.50</td>\n",
       "      <td>-33.00</td>\n",
       "      <td>-26.00</td>\n",
       "      <td>5.960903e+07</td>\n",
       "    </tr>\n",
       "    <tr>\n",
       "      <th>Swansea City</th>\n",
       "      <td>27.20</td>\n",
       "      <td>45.30</td>\n",
       "      <td>20623.00</td>\n",
       "      <td>33.0</td>\n",
       "      <td>28.00</td>\n",
       "      <td>56.00</td>\n",
       "      <td>31.60</td>\n",
       "      <td>58.60</td>\n",
       "      <td>-28.00</td>\n",
       "      <td>-27.00</td>\n",
       "      <td>5.805476e+07</td>\n",
       "    </tr>\n",
       "    <tr>\n",
       "      <th>Tottenham</th>\n",
       "      <td>26.60</td>\n",
       "      <td>55.24</td>\n",
       "      <td>44616.20</td>\n",
       "      <td>68.0</td>\n",
       "      <td>67.80</td>\n",
       "      <td>41.40</td>\n",
       "      <td>56.36</td>\n",
       "      <td>44.72</td>\n",
       "      <td>26.40</td>\n",
       "      <td>11.64</td>\n",
       "      <td>1.272944e+08</td>\n",
       "    </tr>\n",
       "    <tr>\n",
       "      <th>Watford</th>\n",
       "      <td>28.42</td>\n",
       "      <td>45.00</td>\n",
       "      <td>19053.50</td>\n",
       "      <td>37.0</td>\n",
       "      <td>41.50</td>\n",
       "      <td>66.00</td>\n",
       "      <td>45.52</td>\n",
       "      <td>58.40</td>\n",
       "      <td>-24.50</td>\n",
       "      <td>-12.90</td>\n",
       "      <td>5.921895e+07</td>\n",
       "    </tr>\n",
       "    <tr>\n",
       "      <th>West Brom</th>\n",
       "      <td>27.75</td>\n",
       "      <td>39.30</td>\n",
       "      <td>12401.50</td>\n",
       "      <td>28.5</td>\n",
       "      <td>33.00</td>\n",
       "      <td>66.00</td>\n",
       "      <td>36.15</td>\n",
       "      <td>57.90</td>\n",
       "      <td>-33.00</td>\n",
       "      <td>-21.70</td>\n",
       "      <td>5.841702e+07</td>\n",
       "    </tr>\n",
       "    <tr>\n",
       "      <th>West Ham</th>\n",
       "      <td>27.80</td>\n",
       "      <td>45.80</td>\n",
       "      <td>43675.60</td>\n",
       "      <td>50.8</td>\n",
       "      <td>54.20</td>\n",
       "      <td>56.60</td>\n",
       "      <td>47.94</td>\n",
       "      <td>56.60</td>\n",
       "      <td>-2.40</td>\n",
       "      <td>-8.66</td>\n",
       "      <td>8.940771e+07</td>\n",
       "    </tr>\n",
       "    <tr>\n",
       "      <th>Wolves</th>\n",
       "      <td>26.58</td>\n",
       "      <td>48.47</td>\n",
       "      <td>21716.50</td>\n",
       "      <td>53.0</td>\n",
       "      <td>43.00</td>\n",
       "      <td>45.25</td>\n",
       "      <td>45.05</td>\n",
       "      <td>46.62</td>\n",
       "      <td>-2.25</td>\n",
       "      <td>-1.55</td>\n",
       "      <td>6.079168e+07</td>\n",
       "    </tr>\n",
       "  </tbody>\n",
       "</table>\n",
       "</div>"
      ],
      "text/plain": [
       "                   Age  Possession  Attendance  Points  Goals For  \\\n",
       "Squad                                                               \n",
       "Arsenal          25.92       55.92    45421.60    63.8      63.80   \n",
       "Aston Villa      25.67       46.37    23570.67    45.0      49.33   \n",
       "Bournemouth      26.23       46.37     9639.33    41.0      47.00   \n",
       "Brentford        25.40       44.80    16918.00    46.0      48.00   \n",
       "Brighton         26.66       48.76    22937.40    41.8      38.00   \n",
       "Burnley          28.06       41.82    15334.60    44.4      38.20   \n",
       "Cardiff City     27.70       35.40    31408.00    34.0      34.00   \n",
       "Chelsea          26.58       60.32    30142.20    69.8      65.60   \n",
       "Crystal Palace   28.02       45.38    19067.40    45.6      43.60   \n",
       "Everton          26.18       46.48    29100.40    50.0      46.40   \n",
       "Fulham           25.60       49.25    12291.00    27.0      30.50   \n",
       "Huddersfield     26.30       46.45    23621.50    26.5      25.00   \n",
       "Leeds United     26.10       54.80    18364.50    48.5      52.00   \n",
       "Leicester City   26.44       52.46    24332.00    55.8      60.80   \n",
       "Liverpool        26.56       61.96    40435.20    86.4      84.00   \n",
       "Manchester City  26.62       67.30    39719.40    91.6      97.00   \n",
       "Manchester Utd   26.12       54.72    56113.00    69.0      65.80   \n",
       "Newcastle Utd    26.72       40.06    38135.40    45.4      41.80   \n",
       "Norwich City     26.10       46.10    23374.50    21.5      24.50   \n",
       "Sheffield Utd    26.80       42.40    12316.50    38.5      29.50   \n",
       "Southampton      25.96       48.66    23004.20    42.0      44.60   \n",
       "Stoke City       27.50       41.40    29280.00    33.0      35.00   \n",
       "Swansea City     27.20       45.30    20623.00    33.0      28.00   \n",
       "Tottenham        26.60       55.24    44616.20    68.0      67.80   \n",
       "Watford          28.42       45.00    19053.50    37.0      41.50   \n",
       "West Brom        27.75       39.30    12401.50    28.5      33.00   \n",
       "West Ham         27.80       45.80    43675.60    50.8      54.20   \n",
       "Wolves           26.58       48.47    21716.50    53.0      43.00   \n",
       "\n",
       "                 Goals Against  xGoals For  xGoals Against  Goal Differential  \\\n",
       "Squad                                                                           \n",
       "Arsenal                  47.40       57.54           49.20              16.40   \n",
       "Aston Villa              55.67       46.93           55.97              -6.33   \n",
       "Bournemouth              65.33       45.63           59.57             -18.33   \n",
       "Brentford                56.00       45.80           48.50              -8.00   \n",
       "Brighton                 51.60       42.96           48.62             -13.60   \n",
       "Burnley                  53.00       40.62           54.98             -14.80   \n",
       "Cardiff City             69.00       42.40           61.50             -35.00   \n",
       "Chelsea                  40.00       61.60           34.46              25.60   \n",
       "Crystal Palace           54.00       43.48           50.84             -10.40   \n",
       "Everton                  54.80       45.58           50.38              -8.40   \n",
       "Fulham                   67.00       40.90           60.40             -36.50   \n",
       "Huddersfield             67.00       30.05           54.70             -42.00   \n",
       "Leeds United             66.50       50.00           62.85             -14.50   \n",
       "Leicester City           51.60       53.64           48.52               9.20   \n",
       "Liverpool                32.20       74.34           35.42              51.80   \n",
       "Manchester City          28.60       82.36           27.90              68.40   \n",
       "Manchester Utd           43.80       59.04           44.70              22.00   \n",
       "Newcastle Utd            55.40       39.54           57.40             -13.60   \n",
       "Norwich City             79.50       34.65           71.00             -55.00   \n",
       "Sheffield Utd            51.00       37.80           56.60             -21.50   \n",
       "Southampton              63.20       45.78           53.24             -18.60   \n",
       "Stoke City               68.00       36.50           62.50             -33.00   \n",
       "Swansea City             56.00       31.60           58.60             -28.00   \n",
       "Tottenham                41.40       56.36           44.72              26.40   \n",
       "Watford                  66.00       45.52           58.40             -24.50   \n",
       "West Brom                66.00       36.15           57.90             -33.00   \n",
       "West Ham                 56.60       47.94           56.60              -2.40   \n",
       "Wolves                   45.25       45.05           46.62              -2.25   \n",
       "\n",
       "                 xGoal Differential     Avg Wages  \n",
       "Squad                                              \n",
       "Arsenal                        8.36  1.638060e+08  \n",
       "Aston Villa                   -9.00  7.483860e+07  \n",
       "Bournemouth                  -13.93  5.594109e+07  \n",
       "Brentford                     -2.70  2.567763e+07  \n",
       "Brighton                      -5.64  5.577839e+07  \n",
       "Burnley                      -14.36  4.801607e+07  \n",
       "Cardiff City                 -19.10  4.009015e+07  \n",
       "Chelsea                       27.14  1.756046e+08  \n",
       "Crystal Palace                -7.40  9.204499e+07  \n",
       "Everton                       -4.82  1.078747e+08  \n",
       "Fulham                       -19.45  6.263726e+07  \n",
       "Huddersfield                 -24.70  3.689534e+07  \n",
       "Leeds United                 -12.85  2.916312e+07  \n",
       "Leicester City                 5.12  8.978856e+07  \n",
       "Liverpool                     38.92  1.490675e+08  \n",
       "Manchester City               54.42  1.799327e+08  \n",
       "Manchester Utd                14.34  2.224331e+08  \n",
       "Newcastle Utd                -17.86  6.938670e+07  \n",
       "Norwich City                 -36.35  3.494369e+07  \n",
       "Sheffield Utd                -18.75  2.689722e+07  \n",
       "Southampton                   -7.44  7.385908e+07  \n",
       "Stoke City                   -26.00  5.960903e+07  \n",
       "Swansea City                 -27.00  5.805476e+07  \n",
       "Tottenham                     11.64  1.272944e+08  \n",
       "Watford                      -12.90  5.921895e+07  \n",
       "West Brom                    -21.70  5.841702e+07  \n",
       "West Ham                      -8.66  8.940771e+07  \n",
       "Wolves                        -1.55  6.079168e+07  "
      ]
     },
     "execution_count": 17,
     "metadata": {},
     "output_type": "execute_result"
    }
   ],
   "source": [
    "# Round values to 2 decimal places & display df\n",
    "mean_EPL_sum_df = mean_EPL_sum_df.round(2)\n",
    "mean_EPL_sum_df"
   ]
  },
  {
   "cell_type": "code",
   "execution_count": 18,
<<<<<<< HEAD
<<<<<<< HEAD
=======
   "id": "2e36a10f",
>>>>>>> 30cf5622458eb4d13bd0670c1bb38c0eebb5c938
=======
   "id": "2e36a10f",
>>>>>>> 08b62925cdd7d6df0b91987c59c6638925c20689
   "metadata": {},
   "outputs": [
    {
     "name": "stdout",
     "output_type": "stream",
     "text": [
      "Squad\n",
      "Arsenal            2.567492e+06\n",
      "Aston Villa        1.663080e+06\n",
      "Bournemouth        1.364417e+06\n",
      "Brentford          5.582093e+05\n",
      "Brighton           1.334411e+06\n",
      "Burnley            1.081443e+06\n",
      "Cardiff City       1.179122e+06\n",
      "Chelsea            2.515825e+06\n",
      "Crystal Palace     2.018530e+06\n",
      "Everton            2.157494e+06\n",
      "Fulham             2.319898e+06\n",
      "Huddersfield       1.392277e+06\n",
      "Leeds United       6.013015e+05\n",
      "Leicester City     1.609114e+06\n",
      "Liverpool          1.725319e+06\n",
      "Manchester City    1.964331e+06\n",
      "Manchester Utd     3.223668e+06\n",
      "Newcastle Utd      1.528341e+06\n",
      "Norwich City       1.625288e+06\n",
      "Sheffield Utd      6.986291e+05\n",
      "Southampton        1.758550e+06\n",
      "Stoke City         1.806334e+06\n",
      "Swansea City       1.759235e+06\n",
      "Tottenham          1.871977e+06\n",
      "Watford            1.600512e+06\n",
      "West Brom          2.049720e+06\n",
      "West Ham           1.759994e+06\n",
      "Wolves             1.147013e+06\n",
      "dtype: float64\n"
     ]
    }
   ],
   "source": [
    "# Calculate average dollars spent per point earned for each team\n",
    "dollars_per_point = mean_EPL_sum_df['Avg Wages'] / mean_EPL_sum_df['Points']\n",
    "print(dollars_per_point)"
   ]
  },
  {
   "cell_type": "code",
   "execution_count": 19,
<<<<<<< HEAD
<<<<<<< HEAD
=======
   "id": "60f6bfab",
>>>>>>> 30cf5622458eb4d13bd0670c1bb38c0eebb5c938
=======
   "id": "60f6bfab",
>>>>>>> 08b62925cdd7d6df0b91987c59c6638925c20689
   "metadata": {},
   "outputs": [
    {
     "ename": "ValueError",
     "evalue": "'c' argument must be a color, a sequence of colors, or a sequence of numbers, not Index(['Arsenal', 'Aston Villa', 'Bournemouth', 'Brentford', 'Brighton',\n       'Burnley', 'Cardiff City', 'Chelsea', 'Crystal Palace', 'Everton',\n       'Fulham', 'Huddersfield', 'Leeds United', 'Leicester City', 'Liverpool',\n       'Manchester City', 'Manchester Utd', 'Newcastle Utd', 'Norwich City',\n       'Sheffield Utd', 'Southampton', 'Stoke City', 'Swansea City',\n       'Tottenham', 'Watford', 'West Brom', 'West Ham', 'Wolves'],\n      dtype='object', name='Squad')",
     "output_type": "error",
     "traceback": [
      "\u001b[1;31m---------------------------------------------------------------------------\u001b[0m",
      "\u001b[1;31mValueError\u001b[0m                                Traceback (most recent call last)",
      "\u001b[1;32m~\\anaconda3\\lib\\site-packages\\matplotlib\\axes\\_axes.py\u001b[0m in \u001b[0;36m_parse_scatter_color_args\u001b[1;34m(c, edgecolors, kwargs, xsize, get_next_color_func)\u001b[0m\n\u001b[0;32m   4213\u001b[0m             \u001b[1;32mtry\u001b[0m\u001b[1;33m:\u001b[0m  \u001b[1;31m# Is 'c' acceptable as PathCollection facecolors?\u001b[0m\u001b[1;33m\u001b[0m\u001b[1;33m\u001b[0m\u001b[0m\n\u001b[1;32m-> 4214\u001b[1;33m                 \u001b[0mcolors\u001b[0m \u001b[1;33m=\u001b[0m \u001b[0mmcolors\u001b[0m\u001b[1;33m.\u001b[0m\u001b[0mto_rgba_array\u001b[0m\u001b[1;33m(\u001b[0m\u001b[0mc\u001b[0m\u001b[1;33m)\u001b[0m\u001b[1;33m\u001b[0m\u001b[1;33m\u001b[0m\u001b[0m\n\u001b[0m\u001b[0;32m   4215\u001b[0m             \u001b[1;32mexcept\u001b[0m \u001b[1;33m(\u001b[0m\u001b[0mTypeError\u001b[0m\u001b[1;33m,\u001b[0m \u001b[0mValueError\u001b[0m\u001b[1;33m)\u001b[0m \u001b[1;32mas\u001b[0m \u001b[0merr\u001b[0m\u001b[1;33m:\u001b[0m\u001b[1;33m\u001b[0m\u001b[1;33m\u001b[0m\u001b[0m\n",
      "\u001b[1;32m~\\anaconda3\\lib\\site-packages\\matplotlib\\colors.py\u001b[0m in \u001b[0;36mto_rgba_array\u001b[1;34m(c, alpha)\u001b[0m\n\u001b[0;32m    376\u001b[0m     \u001b[1;32melse\u001b[0m\u001b[1;33m:\u001b[0m\u001b[1;33m\u001b[0m\u001b[1;33m\u001b[0m\u001b[0m\n\u001b[1;32m--> 377\u001b[1;33m         \u001b[0mrgba\u001b[0m \u001b[1;33m=\u001b[0m \u001b[0mnp\u001b[0m\u001b[1;33m.\u001b[0m\u001b[0marray\u001b[0m\u001b[1;33m(\u001b[0m\u001b[1;33m[\u001b[0m\u001b[0mto_rgba\u001b[0m\u001b[1;33m(\u001b[0m\u001b[0mcc\u001b[0m\u001b[1;33m)\u001b[0m \u001b[1;32mfor\u001b[0m \u001b[0mcc\u001b[0m \u001b[1;32min\u001b[0m \u001b[0mc\u001b[0m\u001b[1;33m]\u001b[0m\u001b[1;33m)\u001b[0m\u001b[1;33m\u001b[0m\u001b[1;33m\u001b[0m\u001b[0m\n\u001b[0m\u001b[0;32m    378\u001b[0m \u001b[1;33m\u001b[0m\u001b[0m\n",
      "\u001b[1;32m~\\anaconda3\\lib\\site-packages\\matplotlib\\colors.py\u001b[0m in \u001b[0;36m<listcomp>\u001b[1;34m(.0)\u001b[0m\n\u001b[0;32m    376\u001b[0m     \u001b[1;32melse\u001b[0m\u001b[1;33m:\u001b[0m\u001b[1;33m\u001b[0m\u001b[1;33m\u001b[0m\u001b[0m\n\u001b[1;32m--> 377\u001b[1;33m         \u001b[0mrgba\u001b[0m \u001b[1;33m=\u001b[0m \u001b[0mnp\u001b[0m\u001b[1;33m.\u001b[0m\u001b[0marray\u001b[0m\u001b[1;33m(\u001b[0m\u001b[1;33m[\u001b[0m\u001b[0mto_rgba\u001b[0m\u001b[1;33m(\u001b[0m\u001b[0mcc\u001b[0m\u001b[1;33m)\u001b[0m \u001b[1;32mfor\u001b[0m \u001b[0mcc\u001b[0m \u001b[1;32min\u001b[0m \u001b[0mc\u001b[0m\u001b[1;33m]\u001b[0m\u001b[1;33m)\u001b[0m\u001b[1;33m\u001b[0m\u001b[1;33m\u001b[0m\u001b[0m\n\u001b[0m\u001b[0;32m    378\u001b[0m \u001b[1;33m\u001b[0m\u001b[0m\n",
      "\u001b[1;32m~\\anaconda3\\lib\\site-packages\\matplotlib\\colors.py\u001b[0m in \u001b[0;36mto_rgba\u001b[1;34m(c, alpha)\u001b[0m\n\u001b[0;32m    186\u001b[0m     \u001b[1;32mif\u001b[0m \u001b[0mrgba\u001b[0m \u001b[1;32mis\u001b[0m \u001b[1;32mNone\u001b[0m\u001b[1;33m:\u001b[0m  \u001b[1;31m# Suppress exception chaining of cache lookup failure.\u001b[0m\u001b[1;33m\u001b[0m\u001b[1;33m\u001b[0m\u001b[0m\n\u001b[1;32m--> 187\u001b[1;33m         \u001b[0mrgba\u001b[0m \u001b[1;33m=\u001b[0m \u001b[0m_to_rgba_no_colorcycle\u001b[0m\u001b[1;33m(\u001b[0m\u001b[0mc\u001b[0m\u001b[1;33m,\u001b[0m \u001b[0malpha\u001b[0m\u001b[1;33m)\u001b[0m\u001b[1;33m\u001b[0m\u001b[1;33m\u001b[0m\u001b[0m\n\u001b[0m\u001b[0;32m    188\u001b[0m         \u001b[1;32mtry\u001b[0m\u001b[1;33m:\u001b[0m\u001b[1;33m\u001b[0m\u001b[1;33m\u001b[0m\u001b[0m\n",
      "\u001b[1;32m~\\anaconda3\\lib\\site-packages\\matplotlib\\colors.py\u001b[0m in \u001b[0;36m_to_rgba_no_colorcycle\u001b[1;34m(c, alpha)\u001b[0m\n\u001b[0;32m    261\u001b[0m             \u001b[1;32mreturn\u001b[0m \u001b[0mc\u001b[0m\u001b[1;33m,\u001b[0m \u001b[0mc\u001b[0m\u001b[1;33m,\u001b[0m \u001b[0mc\u001b[0m\u001b[1;33m,\u001b[0m \u001b[0malpha\u001b[0m \u001b[1;32mif\u001b[0m \u001b[0malpha\u001b[0m \u001b[1;32mis\u001b[0m \u001b[1;32mnot\u001b[0m \u001b[1;32mNone\u001b[0m \u001b[1;32melse\u001b[0m \u001b[1;36m1.\u001b[0m\u001b[1;33m\u001b[0m\u001b[1;33m\u001b[0m\u001b[0m\n\u001b[1;32m--> 262\u001b[1;33m         \u001b[1;32mraise\u001b[0m \u001b[0mValueError\u001b[0m\u001b[1;33m(\u001b[0m\u001b[1;34mf\"Invalid RGBA argument: {orig_c!r}\"\u001b[0m\u001b[1;33m)\u001b[0m\u001b[1;33m\u001b[0m\u001b[1;33m\u001b[0m\u001b[0m\n\u001b[0m\u001b[0;32m    263\u001b[0m     \u001b[1;31m# turn 2-D array into 1-D array\u001b[0m\u001b[1;33m\u001b[0m\u001b[1;33m\u001b[0m\u001b[0m\n",
      "\u001b[1;31mValueError\u001b[0m: Invalid RGBA argument: 'Arsenal'",
      "\nThe above exception was the direct cause of the following exception:\n",
      "\u001b[1;31mValueError\u001b[0m                                Traceback (most recent call last)",
      "\u001b[1;32m~\\AppData\\Local\\Temp\\ipykernel_16732\\1752507462.py\u001b[0m in \u001b[0;36m<module>\u001b[1;34m\u001b[0m\n\u001b[0;32m      5\u001b[0m \u001b[0mfig1\u001b[0m\u001b[1;33m,\u001b[0m \u001b[0max1\u001b[0m \u001b[1;33m=\u001b[0m \u001b[0mplt\u001b[0m\u001b[1;33m.\u001b[0m\u001b[0msubplots\u001b[0m\u001b[1;33m(\u001b[0m\u001b[1;33m)\u001b[0m\u001b[1;33m\u001b[0m\u001b[1;33m\u001b[0m\u001b[0m\n\u001b[0;32m      6\u001b[0m \u001b[0mplt\u001b[0m\u001b[1;33m.\u001b[0m\u001b[0mtitle\u001b[0m\u001b[1;33m(\u001b[0m\u001b[1;34m'Points vs Wages'\u001b[0m\u001b[1;33m)\u001b[0m\u001b[1;33m\u001b[0m\u001b[1;33m\u001b[0m\u001b[0m\n\u001b[1;32m----> 7\u001b[1;33m \u001b[0mplt\u001b[0m\u001b[1;33m.\u001b[0m\u001b[0mscatter\u001b[0m\u001b[1;33m(\u001b[0m\u001b[0mx_axis\u001b[0m\u001b[1;33m,\u001b[0m \u001b[0my_axis\u001b[0m\u001b[1;33m,\u001b[0m\u001b[0mc\u001b[0m\u001b[1;33m=\u001b[0m\u001b[0mmean_EPL_sum_df\u001b[0m\u001b[1;33m.\u001b[0m\u001b[0mindex\u001b[0m\u001b[1;33m)\u001b[0m\u001b[1;33m\u001b[0m\u001b[1;33m\u001b[0m\u001b[0m\n\u001b[0m\u001b[0;32m      8\u001b[0m \u001b[0mplt\u001b[0m\u001b[1;33m.\u001b[0m\u001b[0mxlabel\u001b[0m\u001b[1;33m(\u001b[0m\u001b[1;34m'Points'\u001b[0m\u001b[1;33m)\u001b[0m\u001b[1;33m\u001b[0m\u001b[1;33m\u001b[0m\u001b[0m\n\u001b[0;32m      9\u001b[0m \u001b[0mplt\u001b[0m\u001b[1;33m.\u001b[0m\u001b[0mylabel\u001b[0m\u001b[1;33m(\u001b[0m\u001b[1;34m'Wages ($)'\u001b[0m\u001b[1;33m)\u001b[0m\u001b[1;33m\u001b[0m\u001b[1;33m\u001b[0m\u001b[0m\n",
      "\u001b[1;32m~\\anaconda3\\lib\\site-packages\\matplotlib\\pyplot.py\u001b[0m in \u001b[0;36mscatter\u001b[1;34m(x, y, s, c, marker, cmap, norm, vmin, vmax, alpha, linewidths, edgecolors, plotnonfinite, data, **kwargs)\u001b[0m\n\u001b[0;32m   2817\u001b[0m         \u001b[0mvmin\u001b[0m\u001b[1;33m=\u001b[0m\u001b[1;32mNone\u001b[0m\u001b[1;33m,\u001b[0m \u001b[0mvmax\u001b[0m\u001b[1;33m=\u001b[0m\u001b[1;32mNone\u001b[0m\u001b[1;33m,\u001b[0m \u001b[0malpha\u001b[0m\u001b[1;33m=\u001b[0m\u001b[1;32mNone\u001b[0m\u001b[1;33m,\u001b[0m \u001b[0mlinewidths\u001b[0m\u001b[1;33m=\u001b[0m\u001b[1;32mNone\u001b[0m\u001b[1;33m,\u001b[0m \u001b[1;33m*\u001b[0m\u001b[1;33m,\u001b[0m\u001b[1;33m\u001b[0m\u001b[1;33m\u001b[0m\u001b[0m\n\u001b[0;32m   2818\u001b[0m         edgecolors=None, plotnonfinite=False, data=None, **kwargs):\n\u001b[1;32m-> 2819\u001b[1;33m     __ret = gca().scatter(\n\u001b[0m\u001b[0;32m   2820\u001b[0m         \u001b[0mx\u001b[0m\u001b[1;33m,\u001b[0m \u001b[0my\u001b[0m\u001b[1;33m,\u001b[0m \u001b[0ms\u001b[0m\u001b[1;33m=\u001b[0m\u001b[0ms\u001b[0m\u001b[1;33m,\u001b[0m \u001b[0mc\u001b[0m\u001b[1;33m=\u001b[0m\u001b[0mc\u001b[0m\u001b[1;33m,\u001b[0m \u001b[0mmarker\u001b[0m\u001b[1;33m=\u001b[0m\u001b[0mmarker\u001b[0m\u001b[1;33m,\u001b[0m \u001b[0mcmap\u001b[0m\u001b[1;33m=\u001b[0m\u001b[0mcmap\u001b[0m\u001b[1;33m,\u001b[0m \u001b[0mnorm\u001b[0m\u001b[1;33m=\u001b[0m\u001b[0mnorm\u001b[0m\u001b[1;33m,\u001b[0m\u001b[1;33m\u001b[0m\u001b[1;33m\u001b[0m\u001b[0m\n\u001b[0;32m   2821\u001b[0m         \u001b[0mvmin\u001b[0m\u001b[1;33m=\u001b[0m\u001b[0mvmin\u001b[0m\u001b[1;33m,\u001b[0m \u001b[0mvmax\u001b[0m\u001b[1;33m=\u001b[0m\u001b[0mvmax\u001b[0m\u001b[1;33m,\u001b[0m \u001b[0malpha\u001b[0m\u001b[1;33m=\u001b[0m\u001b[0malpha\u001b[0m\u001b[1;33m,\u001b[0m \u001b[0mlinewidths\u001b[0m\u001b[1;33m=\u001b[0m\u001b[0mlinewidths\u001b[0m\u001b[1;33m,\u001b[0m\u001b[1;33m\u001b[0m\u001b[1;33m\u001b[0m\u001b[0m\n",
      "\u001b[1;32m~\\anaconda3\\lib\\site-packages\\matplotlib\\__init__.py\u001b[0m in \u001b[0;36minner\u001b[1;34m(ax, data, *args, **kwargs)\u001b[0m\n\u001b[0;32m   1410\u001b[0m     \u001b[1;32mdef\u001b[0m \u001b[0minner\u001b[0m\u001b[1;33m(\u001b[0m\u001b[0max\u001b[0m\u001b[1;33m,\u001b[0m \u001b[1;33m*\u001b[0m\u001b[0margs\u001b[0m\u001b[1;33m,\u001b[0m \u001b[0mdata\u001b[0m\u001b[1;33m=\u001b[0m\u001b[1;32mNone\u001b[0m\u001b[1;33m,\u001b[0m \u001b[1;33m**\u001b[0m\u001b[0mkwargs\u001b[0m\u001b[1;33m)\u001b[0m\u001b[1;33m:\u001b[0m\u001b[1;33m\u001b[0m\u001b[1;33m\u001b[0m\u001b[0m\n\u001b[0;32m   1411\u001b[0m         \u001b[1;32mif\u001b[0m \u001b[0mdata\u001b[0m \u001b[1;32mis\u001b[0m \u001b[1;32mNone\u001b[0m\u001b[1;33m:\u001b[0m\u001b[1;33m\u001b[0m\u001b[1;33m\u001b[0m\u001b[0m\n\u001b[1;32m-> 1412\u001b[1;33m             \u001b[1;32mreturn\u001b[0m \u001b[0mfunc\u001b[0m\u001b[1;33m(\u001b[0m\u001b[0max\u001b[0m\u001b[1;33m,\u001b[0m \u001b[1;33m*\u001b[0m\u001b[0mmap\u001b[0m\u001b[1;33m(\u001b[0m\u001b[0msanitize_sequence\u001b[0m\u001b[1;33m,\u001b[0m \u001b[0margs\u001b[0m\u001b[1;33m)\u001b[0m\u001b[1;33m,\u001b[0m \u001b[1;33m**\u001b[0m\u001b[0mkwargs\u001b[0m\u001b[1;33m)\u001b[0m\u001b[1;33m\u001b[0m\u001b[1;33m\u001b[0m\u001b[0m\n\u001b[0m\u001b[0;32m   1413\u001b[0m \u001b[1;33m\u001b[0m\u001b[0m\n\u001b[0;32m   1414\u001b[0m         \u001b[0mbound\u001b[0m \u001b[1;33m=\u001b[0m \u001b[0mnew_sig\u001b[0m\u001b[1;33m.\u001b[0m\u001b[0mbind\u001b[0m\u001b[1;33m(\u001b[0m\u001b[0max\u001b[0m\u001b[1;33m,\u001b[0m \u001b[1;33m*\u001b[0m\u001b[0margs\u001b[0m\u001b[1;33m,\u001b[0m \u001b[1;33m**\u001b[0m\u001b[0mkwargs\u001b[0m\u001b[1;33m)\u001b[0m\u001b[1;33m\u001b[0m\u001b[1;33m\u001b[0m\u001b[0m\n",
      "\u001b[1;32m~\\anaconda3\\lib\\site-packages\\matplotlib\\axes\\_axes.py\u001b[0m in \u001b[0;36mscatter\u001b[1;34m(self, x, y, s, c, marker, cmap, norm, vmin, vmax, alpha, linewidths, edgecolors, plotnonfinite, **kwargs)\u001b[0m\n\u001b[0;32m   4378\u001b[0m             \u001b[0morig_edgecolor\u001b[0m \u001b[1;33m=\u001b[0m \u001b[0mkwargs\u001b[0m\u001b[1;33m.\u001b[0m\u001b[0mget\u001b[0m\u001b[1;33m(\u001b[0m\u001b[1;34m'edgecolor'\u001b[0m\u001b[1;33m,\u001b[0m \u001b[1;32mNone\u001b[0m\u001b[1;33m)\u001b[0m\u001b[1;33m\u001b[0m\u001b[1;33m\u001b[0m\u001b[0m\n\u001b[0;32m   4379\u001b[0m         \u001b[0mc\u001b[0m\u001b[1;33m,\u001b[0m \u001b[0mcolors\u001b[0m\u001b[1;33m,\u001b[0m \u001b[0medgecolors\u001b[0m \u001b[1;33m=\u001b[0m\u001b[0;31m \u001b[0m\u001b[0;31m\\\u001b[0m\u001b[1;33m\u001b[0m\u001b[1;33m\u001b[0m\u001b[0m\n\u001b[1;32m-> 4380\u001b[1;33m             self._parse_scatter_color_args(\n\u001b[0m\u001b[0;32m   4381\u001b[0m                 \u001b[0mc\u001b[0m\u001b[1;33m,\u001b[0m \u001b[0medgecolors\u001b[0m\u001b[1;33m,\u001b[0m \u001b[0mkwargs\u001b[0m\u001b[1;33m,\u001b[0m \u001b[0mx\u001b[0m\u001b[1;33m.\u001b[0m\u001b[0msize\u001b[0m\u001b[1;33m,\u001b[0m\u001b[1;33m\u001b[0m\u001b[1;33m\u001b[0m\u001b[0m\n\u001b[0;32m   4382\u001b[0m                 get_next_color_func=self._get_patches_for_fill.get_next_color)\n",
      "\u001b[1;32m~\\anaconda3\\lib\\site-packages\\matplotlib\\axes\\_axes.py\u001b[0m in \u001b[0;36m_parse_scatter_color_args\u001b[1;34m(c, edgecolors, kwargs, xsize, get_next_color_func)\u001b[0m\n\u001b[0;32m   4221\u001b[0m                     \u001b[1;31m# Both the mapping *and* the RGBA conversion failed: pretty\u001b[0m\u001b[1;33m\u001b[0m\u001b[1;33m\u001b[0m\u001b[0m\n\u001b[0;32m   4222\u001b[0m                     \u001b[1;31m# severe failure => one may appreciate a verbose feedback.\u001b[0m\u001b[1;33m\u001b[0m\u001b[1;33m\u001b[0m\u001b[0m\n\u001b[1;32m-> 4223\u001b[1;33m                     raise ValueError(\n\u001b[0m\u001b[0;32m   4224\u001b[0m                         \u001b[1;34mf\"'c' argument must be a color, a sequence of colors, \"\u001b[0m\u001b[1;33m\u001b[0m\u001b[1;33m\u001b[0m\u001b[0m\n\u001b[0;32m   4225\u001b[0m                         f\"or a sequence of numbers, not {c}\") from err\n",
      "\u001b[1;31mValueError\u001b[0m: 'c' argument must be a color, a sequence of colors, or a sequence of numbers, not Index(['Arsenal', 'Aston Villa', 'Bournemouth', 'Brentford', 'Brighton',\n       'Burnley', 'Cardiff City', 'Chelsea', 'Crystal Palace', 'Everton',\n       'Fulham', 'Huddersfield', 'Leeds United', 'Leicester City', 'Liverpool',\n       'Manchester City', 'Manchester Utd', 'Newcastle Utd', 'Norwich City',\n       'Sheffield Utd', 'Southampton', 'Stoke City', 'Swansea City',\n       'Tottenham', 'Watford', 'West Brom', 'West Ham', 'Wolves'],\n      dtype='object', name='Squad')"
     ]
    },
    {
     "data": {
      "image/png": "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\n",
      "text/plain": [
       "<Figure size 640x480 with 1 Axes>"
      ]
     },
     "metadata": {},
     "output_type": "display_data"
    }
   ],
   "source": [
    "# Plot Points vs Wages\n",
    "x_axis = mean_EPL_sum_df[\"Points\"]\n",
    "y_axis = mean_EPL_sum_df[\"Avg Wages\"]\n",
    "colors[]\n",
    "fig1, ax1 = plt.subplots()\n",
    "plt.title('Points vs Wages')\n",
    "plt.scatter(x_axis, y_axis,c=mean_EPL_sum_df.index)\n",
    "plt.xlabel('Points')\n",
    "plt.ylabel('Wages ($)')"
   ]
  },
  {
   "cell_type": "code",
<<<<<<< HEAD
<<<<<<< HEAD
   "execution_count": 20,
=======
   "execution_count": null,
   "id": "bc506794",
>>>>>>> 30cf5622458eb4d13bd0670c1bb38c0eebb5c938
=======
   "execution_count": null,
   "id": "bc506794",
>>>>>>> 08b62925cdd7d6df0b91987c59c6638925c20689
   "metadata": {},
   "outputs": [],
   "source": [
    "# Plot points vs possession\n",
    "x_axis = mean_EPL_sum_df[\"Points\"]\n",
    "y_axis = mean_EPL_sum_df[\"Possession\"]\n",
    "\n",
    "fig1, ax1 = plt.subplots()\n",
    "plt.title('Points vs Possession')\n",
    "plt.scatter(x_axis, y_axis,color=\"b\")\n",
    "plt.xlabel('Points')\n",
    "plt.ylabel('Possession (%)')\n",
    "plt.xlim(20,105)\n",
    "plt.ylim(20,80)"
   ]
  },
  {
   "cell_type": "code",
<<<<<<< HEAD
<<<<<<< HEAD
   "execution_count": 21,
=======
   "execution_count": null,
   "id": "af939b9e",
>>>>>>> 30cf5622458eb4d13bd0670c1bb38c0eebb5c938
=======
   "execution_count": null,
   "id": "af939b9e",
>>>>>>> 08b62925cdd7d6df0b91987c59c6638925c20689
   "metadata": {},
   "outputs": [],
   "source": [
    "# Plot points vs xGoals Scored\n",
    "x_axis = mean_EPL_sum_df[\"Points\"]\n",
    "y_axis = mean_EPL_sum_df[\"xGoals For\"]\n",
    "\n",
    "fig1, ax1 = plt.subplots()\n",
    "plt.title('Points vs xGoals Scored')\n",
    "plt.scatter(x_axis, y_axis,color=\"b\")\n",
    "plt.xlabel('Points')\n",
    "plt.ylabel('xGoals For')\n",
    "plt.xlim(20,105)\n",
    "plt.ylim(20,100)"
   ]
  },
  {
   "cell_type": "code",
<<<<<<< HEAD
<<<<<<< HEAD
   "execution_count": 22,
=======
   "execution_count": null,
   "id": "aed2b4d7",
>>>>>>> 30cf5622458eb4d13bd0670c1bb38c0eebb5c938
=======
   "execution_count": null,
   "id": "aed2b4d7",
>>>>>>> 08b62925cdd7d6df0b91987c59c6638925c20689
   "metadata": {},
   "outputs": [],
   "source": [
    "# Plot points vs actual goals scored\n",
    "x_axis = mean_EPL_sum_df[\"Points\"]\n",
    "y_axis = mean_EPL_sum_df[\"Goals For\"]\n",
    "\n",
    "fig1, ax1 = plt.subplots()\n",
    "plt.title('Points vs Goals Scored')\n",
    "plt.scatter(x_axis, y_axis,color=\"b\")\n",
    "plt.xlabel('Points')\n",
    "plt.ylabel('Goals For')\n",
    "plt.xlim(20,105)\n",
    "plt.ylim(20,100)"
   ]
  },
  {
   "cell_type": "code",
<<<<<<< HEAD
<<<<<<< HEAD
   "execution_count": 23,
=======
   "execution_count": null,
   "id": "80e872a2",
>>>>>>> 30cf5622458eb4d13bd0670c1bb38c0eebb5c938
=======
   "execution_count": null,
   "id": "80e872a2",
>>>>>>> 08b62925cdd7d6df0b91987c59c6638925c20689
   "metadata": {},
   "outputs": [],
   "source": [
    "# Plot points vs xGoals Against\n",
    "x_axis = mean_EPL_sum_df[\"Points\"]\n",
    "y_axis = mean_EPL_sum_df[\"xGoals Against\"]\n",
    "\n",
    "fig1, ax1 = plt.subplots()\n",
    "plt.title('Points vs xGoals Against')\n",
    "plt.scatter(x_axis, y_axis,color=\"b\")\n",
    "plt.xlabel('Points')\n",
    "plt.ylabel('xGoals Against')\n",
    "plt.xlim(20,105)\n",
    "plt.ylim(20,100)"
   ]
  },
  {
   "cell_type": "code",
<<<<<<< HEAD
<<<<<<< HEAD
   "execution_count": 24,
=======
   "execution_count": null,
   "id": "28d360f6",
>>>>>>> 30cf5622458eb4d13bd0670c1bb38c0eebb5c938
=======
   "execution_count": null,
   "id": "28d360f6",
>>>>>>> 08b62925cdd7d6df0b91987c59c6638925c20689
   "metadata": {},
   "outputs": [],
   "source": [
    "# Plot points vs actual goals against\n",
    "x_axis = mean_EPL_sum_df[\"Points\"]\n",
    "y_axis = mean_EPL_sum_df[\"Goals Against\"]\n",
    "\n",
    "fig1, ax1 = plt.subplots()\n",
    "plt.title('Points vs Goals Against')\n",
    "plt.scatter(x_axis, y_axis,color=\"b\")\n",
    "plt.xlabel('Points')\n",
    "plt.ylabel('Goals Against')\n",
    "plt.xlim(20,105)\n",
    "plt.ylim(20,100)"
   ]
  },
  {
   "cell_type": "code",
<<<<<<< HEAD
<<<<<<< HEAD
   "execution_count": 25,
=======
   "execution_count": null,
   "id": "729a68c2",
>>>>>>> 30cf5622458eb4d13bd0670c1bb38c0eebb5c938
=======
   "execution_count": null,
   "id": "729a68c2",
>>>>>>> 08b62925cdd7d6df0b91987c59c6638925c20689
   "metadata": {},
   "outputs": [],
   "source": [
    "# Perform linear regression on each figure\n",
    "(slope, intercept, rvalue, pvalue, stderr)= linregress(mean_EPL_sum_df[\"Points\"], mean_EPL_sum_df[\"Avg Wages\"])\n",
    "regress_values= slope* mean_EPL_sum_df[\"Points\"] + intercept\n",
    "line_eq= f\"y = {round(slope, 2)} x + {round(intercept, 2)}\"\n",
    "\n",
    "plt.scatter(mean_EPL_sum_df[\"Points\"], mean_EPL_sum_df[\"Avg Wages\"],color='b')\n",
    "plt.plot(mean_EPL_sum_df[\"Points\"], regress_values, color='r')\n",
    "plt.annotate(line_eq,(65,36))\n",
    "plt.xlabel(\"Points\")\n",
    "plt.ylabel(\"Wages ($)\")\n",
    "plt.title(\"Points vs Wages\")\n",
    "plt.show()\n",
    "\n",
    "print(f\" r^2 = {round(rvalue**2,2)}\")"
   ]
  },
  {
   "cell_type": "code",
<<<<<<< HEAD
<<<<<<< HEAD
   "execution_count": 26,
=======
   "execution_count": null,
   "id": "d0f324fc",
>>>>>>> 30cf5622458eb4d13bd0670c1bb38c0eebb5c938
=======
   "execution_count": null,
   "id": "d0f324fc",
>>>>>>> 08b62925cdd7d6df0b91987c59c6638925c20689
   "metadata": {},
   "outputs": [],
   "source": [
    "# Perform linear regression on each figure\n",
    "(slope, intercept, rvalue, pvalue, stderr)= linregress(mean_EPL_sum_df[\"Points\"], mean_EPL_sum_df[\"Possession\"])\n",
    "regress_values= slope* mean_EPL_sum_df[\"Points\"] + intercept\n",
    "line_eq= f\"y = {round(slope, 2)} x + {round(intercept, 2)}\"\n",
    "\n",
    "plt.scatter(mean_EPL_sum_df[\"Points\"], mean_EPL_sum_df[\"Possession\"],color='b')\n",
    "plt.plot(mean_EPL_sum_df[\"Points\"], regress_values, color='r')\n",
    "plt.annotate(line_eq,(65,36))\n",
    "plt.xlabel(\"Points\")\n",
    "plt.ylabel(\"Possession\")\n",
    "plt.title(\"Points vs Possession\")\n",
    "plt.show()\n",
    "\n",
    "print(f\" r^2 = {round(rvalue**2,2)}\")"
   ]
  },
  {
   "cell_type": "code",
<<<<<<< HEAD
<<<<<<< HEAD
   "execution_count": 27,
=======
   "execution_count": null,
   "id": "db601699",
>>>>>>> 30cf5622458eb4d13bd0670c1bb38c0eebb5c938
=======
   "execution_count": null,
   "id": "db601699",
>>>>>>> 08b62925cdd7d6df0b91987c59c6638925c20689
   "metadata": {},
   "outputs": [],
   "source": [
    "# Perform linear regression on each figure\n",
    "(slope, intercept, rvalue, pvalue, stderr)= linregress(mean_EPL_sum_df[\"Points\"], mean_EPL_sum_df[\"xGoals For\"])\n",
    "regress_values= slope* mean_EPL_sum_df[\"Points\"] + intercept\n",
    "line_eq= f\"y = {round(slope, 2)} x + {round(intercept, 2)}\"\n",
    "\n",
    "plt.scatter(mean_EPL_sum_df[\"Points\"], mean_EPL_sum_df[\"xGoals For\"],color='b')\n",
    "plt.plot(mean_EPL_sum_df[\"Points\"], regress_values, color='r')\n",
    "plt.annotate(line_eq,(65,36))\n",
    "plt.xlabel(\"Points\")\n",
    "plt.ylabel(\"xGoals Scored\")\n",
    "plt.title(\"Points vs XGoals Scored\")\n",
    "plt.show()\n",
    "\n",
    "print(f\" r^2 = {round(rvalue**2,2)}\")"
   ]
  },
  {
   "cell_type": "code",
<<<<<<< HEAD
<<<<<<< HEAD
   "execution_count": 28,
=======
   "execution_count": null,
   "id": "976b97a0",
>>>>>>> 30cf5622458eb4d13bd0670c1bb38c0eebb5c938
=======
   "execution_count": null,
   "id": "976b97a0",
>>>>>>> 08b62925cdd7d6df0b91987c59c6638925c20689
   "metadata": {},
   "outputs": [],
   "source": [
    "# Perform linear regression on each figure\n",
    "(slope, intercept, rvalue, pvalue, stderr)= linregress(mean_EPL_sum_df[\"Points\"], mean_EPL_sum_df[\"Goals For\"])\n",
    "regress_values= slope* mean_EPL_sum_df[\"Points\"] + intercept\n",
    "line_eq= f\"y = {round(slope, 2)} x + {round(intercept, 2)}\"\n",
    "\n",
    "plt.scatter(mean_EPL_sum_df[\"Points\"], mean_EPL_sum_df[\"Goals For\"],color='b')\n",
    "plt.plot(mean_EPL_sum_df[\"Points\"], regress_values, color='r')\n",
    "plt.annotate(line_eq,(65,36))\n",
    "plt.xlabel(\"Points\")\n",
    "plt.ylabel(\"Goals Scored\")\n",
    "plt.title(\"Points vs Goals Scored\")\n",
    "plt.show()\n",
    "\n",
    "print(f\" r^2 = {round(rvalue**2,2)}\")"
   ]
  },
  {
   "cell_type": "code",
<<<<<<< HEAD
<<<<<<< HEAD
   "execution_count": 29,
=======
   "execution_count": null,
   "id": "2db02085",
>>>>>>> 30cf5622458eb4d13bd0670c1bb38c0eebb5c938
=======
   "execution_count": null,
   "id": "2db02085",
>>>>>>> 08b62925cdd7d6df0b91987c59c6638925c20689
   "metadata": {},
   "outputs": [],
   "source": [
    "# Perform linear regression on each figure\n",
    "(slope, intercept, rvalue, pvalue, stderr)= linregress(mean_EPL_sum_df[\"Points\"], mean_EPL_sum_df[\"xGoals Against\"])\n",
    "regress_values= slope* mean_EPL_sum_df[\"Points\"] + intercept\n",
    "line_eq= f\"y = {round(slope, 2)} x + {round(intercept, 2)}\"\n",
    "\n",
    "plt.scatter(mean_EPL_sum_df[\"Points\"], mean_EPL_sum_df[\"xGoals Against\"],color='b')\n",
    "plt.plot(mean_EPL_sum_df[\"Points\"], regress_values, color='r')\n",
    "plt.annotate(line_eq,(30,36))\n",
    "plt.xlabel(\"Points\")\n",
    "plt.ylabel(\"xGoals Against\")\n",
    "plt.title(\"Points vs XGoals Against\")\n",
    "plt.show()\n",
    "\n",
    "print(f\" r^2 = {round(rvalue**2,2)}\")"
   ]
  },
  {
   "cell_type": "code",
<<<<<<< HEAD
<<<<<<< HEAD
   "execution_count": 30,
=======
   "execution_count": null,
   "id": "5bd73ad3",
>>>>>>> 30cf5622458eb4d13bd0670c1bb38c0eebb5c938
=======
   "execution_count": null,
   "id": "5bd73ad3",
>>>>>>> 08b62925cdd7d6df0b91987c59c6638925c20689
   "metadata": {},
   "outputs": [],
   "source": [
    "# Perform linear regression on each figure\n",
    "(slope, intercept, rvalue, pvalue, stderr)= linregress(mean_EPL_sum_df[\"Points\"], mean_EPL_sum_df[\"Goals Against\"])\n",
    "regress_values= slope* mean_EPL_sum_df[\"Points\"] + intercept\n",
    "line_eq= f\"y = {round(slope, 2)} x + {round(intercept, 2)}\"\n",
    "\n",
    "plt.scatter(mean_EPL_sum_df[\"Points\"], mean_EPL_sum_df[\"Goals Against\"],color='b')\n",
    "plt.plot(mean_EPL_sum_df[\"Points\"], regress_values, color='r')\n",
    "plt.annotate(line_eq,(30,36))\n",
    "plt.xlabel(\"Points\")\n",
    "plt.ylabel(\"Goals Against\")\n",
    "plt.title(\"Points vs Goals Against\")\n",
    "plt.show()\n",
    "\n",
    "print(f\" r^2 = {round(rvalue**2,2)}\")"
   ]
  },
  {
   "cell_type": "code",
   "execution_count": null,
<<<<<<< HEAD
<<<<<<< HEAD
=======
   "id": "a9d7504c",
>>>>>>> 30cf5622458eb4d13bd0670c1bb38c0eebb5c938
=======
   "id": "a9d7504c",
>>>>>>> 08b62925cdd7d6df0b91987c59c6638925c20689
   "metadata": {},
   "outputs": [],
   "source": []
  }
 ],
 "metadata": {
  "kernelspec": {
   "display_name": "Python 3",
   "language": "python",
   "name": "python3"
  },
  "language_info": {
   "codemirror_mode": {
    "name": "ipython",
    "version": 3
   },
   "file_extension": ".py",
   "mimetype": "text/x-python",
   "name": "python",
   "nbconvert_exporter": "python",
   "pygments_lexer": "ipython3",
   "version": "3.7.1"
  }
 },
 "nbformat": 4,
 "nbformat_minor": 5
}
